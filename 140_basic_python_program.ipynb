{
 "cells": [
  {
   "cell_type": "markdown",
   "id": "2e8d32f0",
   "metadata": {},
   "source": [
    "## Program 1\n",
    "#### Write a Python program to print \"Hello Python\"."
   ]
  },
  {
   "cell_type": "code",
   "execution_count": 1,
   "id": "16a2272e",
   "metadata": {},
   "outputs": [
    {
     "name": "stdout",
     "output_type": "stream",
     "text": [
      "Hello Python\n"
     ]
    }
   ],
   "source": [
    "print(\"Hello Python\")"
   ]
  },
  {
   "cell_type": "markdown",
   "id": "c5dc8671",
   "metadata": {},
   "source": [
    "## Program 2\n",
    "#### Write a Python program to do arithmetical operations addition and division."
   ]
  },
  {
   "cell_type": "code",
   "execution_count": 2,
   "id": "b34245e3",
   "metadata": {},
   "outputs": [
    {
     "name": "stdout",
     "output_type": "stream",
     "text": [
      "Enter the first number for addition: 5\n",
      "Enter the second number for addition: 6\n",
      "sum: 5.0 + 6.0 = 11.0\n"
     ]
    }
   ],
   "source": [
    "# Addition\n",
    "num1 = float(input(\"Enter the first number for addition: \"))\n",
    "num2 = float(input(\"Enter the second number for addition: \"))\n",
    "sum_result = num1 + num2\n",
    "print(f\"sum: {num1} + {num2} = {sum_result}\")"
   ]
  },
  {
   "cell_type": "code",
   "execution_count": 3,
   "id": "6eca8fce",
   "metadata": {},
   "outputs": [
    {
     "name": "stdout",
     "output_type": "stream",
     "text": [
      "Enter the dividend for division: 25\n",
      "Enter the divisor for division: 5\n",
      "Division: 25.0 / 5.0 = 5.0\n"
     ]
    }
   ],
   "source": [
    "# Division\n",
    "num3 = float(input(\"Enter the dividend for division: \"))\n",
    "num4 = float(input(\"Enter the divisor for division: \"))\n",
    "if num4 == 0:\n",
    "    print(\"Error: Division by zero is not allowed.\")\n",
    "else:\n",
    "    div_result = num3 / num4\n",
    "    print(f\"Division: {num3} / {num4} = {div_result}\")"
   ]
  },
  {
   "cell_type": "markdown",
   "id": "ec98c48b",
   "metadata": {},
   "source": [
    "## Program 3\n",
    "#### Write a Python program to find the area of a triangle."
   ]
  },
  {
   "cell_type": "code",
   "execution_count": 4,
   "id": "c59b781f",
   "metadata": {},
   "outputs": [
    {
     "name": "stdout",
     "output_type": "stream",
     "text": [
      "Enter the length of the base of the triangle: 10\n",
      "Enter the height of the triangle: 15\n",
      "The area of the triangle is: 75.0\n"
     ]
    }
   ],
   "source": [
    "# Input the base and height from the user\n",
    "base = float(input(\"Enter the length of the base of the triangle: \"))\n",
    "height = float(input(\"Enter the height of the triangle: \"))\n",
    "# Calculate the area of the triangle\n",
    "area = 0.5 * base * height\n",
    "# Display the result\n",
    "print(f\"The area of the triangle is: {area}\")"
   ]
  },
  {
   "cell_type": "markdown",
   "id": "9b5309bd",
   "metadata": {},
   "source": [
    "## Program 4\n",
    "#### Write a Python program to swap two variables."
   ]
  },
  {
   "cell_type": "code",
   "execution_count": 5,
   "id": "d2588cf5",
   "metadata": {},
   "outputs": [
    {
     "name": "stdout",
     "output_type": "stream",
     "text": [
      "Enter the value of the first variable (a): 5\n",
      "Enter the value of the second variable (b): 9\n",
      "Original values: a = 5, b = 9\n",
      "Swapped values: a = 9, b = 5\n"
     ]
    }
   ],
   "source": [
    "# Input two variables\n",
    "a = input(\"Enter the value of the first variable (a): \")\n",
    "b = input(\"Enter the value of the second variable (b): \")\n",
    "# Display the original values\n",
    "print(f\"Original values: a = {a}, b = {b}\")\n",
    "# Swap the values using a temporary variable\n",
    "temp = a\n",
    "a = b\n",
    "b = temp\n",
    "# Display the swapped values\n",
    "print(f\"Swapped values: a = {a}, b = {b}\")"
   ]
  },
  {
   "cell_type": "markdown",
   "id": "4d31f9ba",
   "metadata": {},
   "source": [
    "## Program 5\n",
    "#### Write a Python program to generate a random number."
   ]
  },
  {
   "cell_type": "code",
   "execution_count": 6,
   "id": "00e1163a",
   "metadata": {},
   "outputs": [
    {
     "name": "stdout",
     "output_type": "stream",
     "text": [
      "Random number: 89\n"
     ]
    }
   ],
   "source": [
    "import random\n",
    "print(f\"Random number: {random.randint(1, 100)}\")"
   ]
  },
  {
   "cell_type": "markdown",
   "id": "b81054f3",
   "metadata": {},
   "source": [
    "## Program 6\n",
    "#### Write a Python program to convert kilometers to miles."
   ]
  },
  {
   "cell_type": "code",
   "execution_count": 7,
   "id": "cc70d693",
   "metadata": {},
   "outputs": [
    {
     "name": "stdout",
     "output_type": "stream",
     "text": [
      "Enter distance in kilometers: 100\n",
      "100.0 kilometers is equal to 62.137100000000004 miles\n"
     ]
    }
   ],
   "source": [
    "kilometers = float(input(\"Enter distance in kilometers: \"))\n",
    "\n",
    "# Conversion factor: 1 kilometer = 0.621371 miles\n",
    "conversion_factor = 0.621371\n",
    "\n",
    "miles = kilometers * conversion_factor\n",
    "\n",
    "print(f\"{kilometers} kilometers is equal to {miles} miles\")"
   ]
  },
  {
   "cell_type": "markdown",
   "id": "6490503f",
   "metadata": {},
   "source": [
    "## Program 7\n",
    "#### Write a Python program to convert Celsius to Fahrenheit."
   ]
  },
  {
   "cell_type": "code",
   "execution_count": 8,
   "id": "914bf773",
   "metadata": {},
   "outputs": [
    {
     "name": "stdout",
     "output_type": "stream",
     "text": [
      "Enter temperature in Celsius: 37\n",
      "37.0 degrees Celsius is equal to 98.6 degrees Fahrenheit\n"
     ]
    }
   ],
   "source": [
    "celsius = float(input(\"Enter temperature in Celsius: \"))\n",
    "\n",
    "# Conversion formula: Fahrenheit = (Celsius * 9/5) + 32\n",
    "fahrenheit = (celsius * 9/5) + 32\n",
    "\n",
    "print(f\"{celsius} degrees Celsius is equal to {fahrenheit} degrees Fahrenheit\")"
   ]
  },
  {
   "cell_type": "markdown",
   "id": "2204ebf7",
   "metadata": {},
   "source": [
    "## Program 8\n",
    "#### Write a Python program to display calendar."
   ]
  },
  {
   "cell_type": "code",
   "execution_count": 9,
   "id": "f9d0ec27",
   "metadata": {},
   "outputs": [
    {
     "name": "stdout",
     "output_type": "stream",
     "text": [
      "Enter year: 2023\n",
      "Enter month: 11\n",
      "   November 2023\n",
      "Mo Tu We Th Fr Sa Su\n",
      "       1  2  3  4  5\n",
      " 6  7  8  9 10 11 12\n",
      "13 14 15 16 17 18 19\n",
      "20 21 22 23 24 25 26\n",
      "27 28 29 30\n",
      "\n"
     ]
    }
   ],
   "source": [
    "import calendar\n",
    "\n",
    "year = int(input(\"Enter year: \"))\n",
    "month = int(input(\"Enter month: \"))\n",
    "\n",
    "cal = calendar.month(year, month)\n",
    "print(cal)"
   ]
  },
  {
   "cell_type": "markdown",
   "id": "8b4546cf",
   "metadata": {},
   "source": [
    "## Program 9\n",
    "#### Write a Python program to solve quadratic equation."
   ]
  },
  {
   "cell_type": "markdown",
   "id": "be275aa7",
   "metadata": {},
   "source": [
    "The standard form of a quadratic equation is:\n",
    "\n",
    "$$ax^2 + bx + c = 0$$\n",
    "\n",
    "where\n",
    "\n",
    "a, b and c are real numbers and\n",
    "\n",
    "$a ≠ 0$\n",
    "\n",
    "The solutions of this quadratic equation is given by:\n",
    "\n",
    "$$(-b ± (b^2 - 4ac)^{1/2}) / (2a)$$"
   ]
  },
  {
   "cell_type": "code",
   "execution_count": 10,
   "id": "6cdbf9d8",
   "metadata": {},
   "outputs": [
    {
     "name": "stdout",
     "output_type": "stream",
     "text": [
      "Enter coefficient a: 1\n",
      "Enter coefficient b: 4\n",
      "Enter coefficient c: 8\n",
      "Root 1: -2.0 + 2.0i\n",
      "Root 2: -2.0 - 2.0i\n"
     ]
    }
   ],
   "source": [
    "import math\n",
    "\n",
    "# Input coefficients\n",
    "a = float(input(\"Enter coefficient a: \"))\n",
    "b = float(input(\"Enter coefficient b: \"))\n",
    "c = float(input(\"Enter coefficient c: \"))\n",
    "\n",
    "# Calculate the discriminant\n",
    "discriminant = b**2 - 4*a*c\n",
    "\n",
    "# Check if the discriminant is positive, negative, or zero\n",
    "if discriminant > 0:\n",
    "    # Two real and distinct roots\n",
    "    root1 = (-b + math.sqrt(discriminant)) / (2*a)\n",
    "    root2 = (-b - math.sqrt(discriminant)) / (2*a)\n",
    "    print(f\"Root 1: {root1}\")\n",
    "    print(f\"Root 2: {root2}\")\n",
    "elif discriminant == 0:\n",
    "    # One real root (repeated)\n",
    "    root = -b / (2*a)\n",
    "    print(f\"Root: {root}\")\n",
    "else:\n",
    "    # Complex roots\n",
    "    real_part = -b / (2*a)\n",
    "    imaginary_part = math.sqrt(abs(discriminant)) / (2*a)\n",
    "    print(f\"Root 1: {real_part} + {imaginary_part}i\")\n",
    "    print(f\"Root 2: {real_part} - {imaginary_part}i\")\n"
   ]
  },
  {
   "cell_type": "markdown",
   "id": "45e293c4",
   "metadata": {},
   "source": [
    "## Program 10\n",
    "#### Write a Python program to swap two variables without temp variable."
   ]
  },
  {
   "cell_type": "code",
   "execution_count": 11,
   "id": "b9997879",
   "metadata": {},
   "outputs": [
    {
     "name": "stdout",
     "output_type": "stream",
     "text": [
      "After swapping:\n",
      "a = 10\n",
      "b = 5\n"
     ]
    }
   ],
   "source": [
    "a = 5\n",
    "b = 10\n",
    "\n",
    "# Swapping without a temporary variable\n",
    "a, b = b, a\n",
    "\n",
    "\n",
    "print(\"After swapping:\")\n",
    "print(\"a =\", a)\n",
    "print(\"b =\", b)\n"
   ]
  },
  {
   "cell_type": "markdown",
   "id": "b20c8c6b",
   "metadata": {},
   "source": [
    "## Program 11\n",
    "#### Write a Python Program to Check if a Number is Positive, Negative or Zero."
   ]
  },
  {
   "cell_type": "code",
   "execution_count": 12,
   "id": "1445be0a",
   "metadata": {},
   "outputs": [
    {
     "name": "stdout",
     "output_type": "stream",
     "text": [
      "Enter a number: 6.4\n",
      "Positive number\n"
     ]
    }
   ],
   "source": [
    "num = float(input(\"Enter a number: \"))\n",
    "if num > 0:\n",
    "   print(\"Positive number\")\n",
    "elif num == 0:\n",
    "   print(\"Zero\")\n",
    "else:\n",
    "   print(\"Negative number\")"
   ]
  },
  {
   "cell_type": "markdown",
   "id": "c03c5fe2",
   "metadata": {},
   "source": [
    "## Program 12\n",
    "#### Write a Python Program to Check if a Number is Odd or Even."
   ]
  },
  {
   "cell_type": "code",
   "execution_count": 13,
   "id": "0227ca78",
   "metadata": {},
   "outputs": [
    {
     "name": "stdout",
     "output_type": "stream",
     "text": [
      "Enter a number: 3\n",
      "This is a odd number\n"
     ]
    }
   ],
   "source": [
    "num = int(input(\"Enter a number: \"))\n",
    "\n",
    "if num%2 == 0:\n",
    "    print(\"This is a even number\")\n",
    "else:\n",
    "    print(\"This is a odd number\")"
   ]
  },
  {
   "cell_type": "markdown",
   "id": "46849a96",
   "metadata": {},
   "source": [
    "## Program 13\n",
    "#### Write a Python Program to Check Leap Year."
   ]
  },
  {
   "cell_type": "code",
   "execution_count": 14,
   "id": "6ea42d2e",
   "metadata": {},
   "outputs": [
    {
     "name": "stdout",
     "output_type": "stream",
     "text": [
      "Enter a year: 2024\n",
      "2024 is a leap year\n"
     ]
    }
   ],
   "source": [
    "year = int(input(\"Enter a year: \"))\n",
    "\n",
    "# divided by 100 means century year (ending with 00)\n",
    "# century year divided by 400 is leap year\n",
    "if (year % 400 == 0) and (year % 100 == 0):\n",
    "    print(\"{0} is a leap year\".format(year))\n",
    "\n",
    "# not divided by 100 means not a century year\n",
    "# year divided by 4 is a leap year\n",
    "elif (year % 4 ==0) and (year % 100 != 0):\n",
    "    print(\"{0} is a leap year\".format(year))\n",
    "\n",
    "# if not divided by both 400 (century year) and 4 (not century year)\n",
    "# year is not leap year\n",
    "else:\n",
    "    print(\"{0} is not a leap year\".format(year))"
   ]
  },
  {
   "cell_type": "markdown",
   "id": "7ac802aa",
   "metadata": {},
   "source": [
    "## Program 14\n",
    "#### Write a Python Program to Check Prime Number."
   ]
  },
  {
   "cell_type": "markdown",
   "id": "e8e33616",
   "metadata": {},
   "source": [
    "**Prime Numbers:**\n",
    "\n",
    "A prime number is a whole number that cannot be evenly divided by any other number except for 1 and itself. For example, 2, 3, 5, 7, 11, and 13 are prime numbers because they cannot be divided by any other positive integer except for 1 and their own value."
   ]
  },
  {
   "cell_type": "code",
   "execution_count": 15,
   "id": "be6e1158",
   "metadata": {},
   "outputs": [
    {
     "name": "stdout",
     "output_type": "stream",
     "text": [
      "Enter a number: 27\n",
      "27, is not a prime number\n"
     ]
    }
   ],
   "source": [
    "num = int(input(\"Enter a number: \"))\n",
    "\n",
    "# define a flag variable\n",
    "flag = False\n",
    "\n",
    "if num == 1:\n",
    "    print(f\"{num}, is not a prime number\")\n",
    "elif num > 1:\n",
    "    # check for factors\n",
    "    for i in range(2, num):\n",
    "        if (num % i) == 0:\n",
    "            flag = True     # if factor is found, set flag to True\n",
    "            # break out of loop\n",
    "            break\n",
    "\n",
    "    # check if flag is True\n",
    "if flag:\n",
    "    print(f\"{num}, is not a prime number\")\n",
    "else:\n",
    "    print(f\"{num}, is a prime number\")"
   ]
  },
  {
   "cell_type": "markdown",
   "id": "b3a79cdc",
   "metadata": {},
   "source": [
    "## Program 15\n",
    "#### Write a Python Program to Print all Prime Numbers in an Interval of 1-10."
   ]
  },
  {
   "cell_type": "code",
   "execution_count": 20,
   "id": "85a82be2",
   "metadata": {},
   "outputs": [
    {
     "name": "stdout",
     "output_type": "stream",
     "text": [
      "Prime numbers between 1 and 10 are:\n",
      "2\n",
      "3\n",
      "5\n",
      "7\n"
     ]
    }
   ],
   "source": [
    "# Python program to display all the prime numbers within an interval\n",
    "\n",
    "lower = 1\n",
    "upper = 10\n",
    "\n",
    "print(\"Prime numbers between\", lower, \"and\", upper, \"are:\")\n",
    "\n",
    "for num in range(lower, upper + 1):\n",
    "   # all prime numbers are greater than 1\n",
    "   if num > 1:\n",
    "        for i in range(2, num):\n",
    "            if (num % i) == 0:\n",
    "                break\n",
    "        else:\n",
    "            print(num)"
   ]
  },
  {
   "cell_type": "markdown",
   "id": "68147e50",
   "metadata": {},
   "source": [
    "## Program 16\n",
    "#### Write a Python Program to Find the Factorial of a Number."
   ]
  },
  {
   "cell_type": "code",
   "execution_count": 21,
   "id": "f5224253",
   "metadata": {},
   "outputs": [
    {
     "name": "stdout",
     "output_type": "stream",
     "text": [
      "Enter a number: 4\n",
      "The factorial of 4 is 24\n"
     ]
    }
   ],
   "source": [
    "num = int(input(\"Enter a number: \"))\n",
    "factorial = 1\n",
    "if num <0:\n",
    "    print(\"Factirial does not exist for negative numbers\")\n",
    "elif num == 0:\n",
    "    print(\"Factorial of 0 is 1\")\n",
    "else:\n",
    "    for i in range(1, num+1):\n",
    "        factorial = factorial*i\n",
    "    print(f'The factorial of {num} is {factorial}')"
   ]
  },
  {
   "cell_type": "markdown",
   "id": "351b5a15",
   "metadata": {},
   "source": [
    "## Program 17\n",
    "#### Write a Python Program to Display the multiplication Table."
   ]
  },
  {
   "cell_type": "code",
   "execution_count": 22,
   "id": "be405fc0",
   "metadata": {},
   "outputs": [
    {
     "name": "stdout",
     "output_type": "stream",
     "text": [
      "Display multiplication table of: 19\n",
      "19 X 1 = 19\n",
      "19 X 2 = 38\n",
      "19 X 3 = 57\n",
      "19 X 4 = 76\n",
      "19 X 5 = 95\n",
      "19 X 6 = 114\n",
      "19 X 7 = 133\n",
      "19 X 8 = 152\n",
      "19 X 9 = 171\n",
      "19 X 10 = 190\n"
     ]
    }
   ],
   "source": [
    "num = int(input(\"Display multiplication table of: \"))\n",
    "\n",
    "for i in range(1, 11):\n",
    "    print(f\"{num} X {i} = {num*i}\")"
   ]
  },
  {
   "cell_type": "markdown",
   "id": "c91e9297",
   "metadata": {},
   "source": [
    "## Program 18\n",
    "#### Write a Python Program to Print the Fibonacci sequence."
   ]
  },
  {
   "cell_type": "markdown",
   "id": "80613d1f",
   "metadata": {},
   "source": [
    "**Fibonacci sequence:**\n",
    "\n",
    "The Fibonacci sequence is a series of numbers where each number is the sum of the two preceding ones, typically starting with 0 and 1. So, the sequence begins with 0 and 1, and the next number is obtained by adding the previous two numbers. This pattern continues indefinitely, generating a sequence that looks like this:\n",
    "\n",
    "0, 1, 1, 2, 3, 5, 8, 13, 21, 34, 55, 89, 144, and so on.\n",
    "\n",
    "Mathematically, the Fibonacci sequence can be defined using the following recurrence relation:\n",
    "\n",
    "$F(0) = 0$\n",
    "$F(1) = 1$\n",
    "$F(n) = F(n-1) + F(n-2) for n > 1$"
   ]
  },
  {
   "cell_type": "code",
   "execution_count": 23,
   "id": "7002dbd8",
   "metadata": {},
   "outputs": [
    {
     "name": "stdout",
     "output_type": "stream",
     "text": [
      "How many terms? 10\n",
      "Fibonacci sequence:\n",
      "0\n",
      "1\n",
      "1\n",
      "2\n",
      "3\n",
      "5\n",
      "8\n",
      "13\n",
      "21\n",
      "34\n"
     ]
    }
   ],
   "source": [
    "nterms = int(input(\"How many terms? \"))\n",
    "\n",
    "# first two terms\n",
    "n1, n2 = 0, 1\n",
    "count = 0\n",
    "\n",
    "# check if the number of terms is valid\n",
    "if nterms <= 0:\n",
    "    print(\"Please enter a positive integer\")\n",
    "# if there is only one term, return n1\n",
    "elif nterms == 1:\n",
    "    print(\"Fibonacci sequence upto\",nterms,\":\")\n",
    "    print(n1)\n",
    "# generate fibonacci sequence\n",
    "else:\n",
    "    print(\"Fibonacci sequence:\")\n",
    "    while count < nterms:\n",
    "        print(n1)\n",
    "        nth = n1 + n2\n",
    "       # update values\n",
    "        n1 = n2\n",
    "        n2 = nth\n",
    "        count += 1"
   ]
  },
  {
   "cell_type": "markdown",
   "id": "3b8e0d4a",
   "metadata": {},
   "source": [
    "## Program 19\n",
    "#### Write a Python Program to Check Armstrong Number?"
   ]
  },
  {
   "cell_type": "markdown",
   "id": "dc0259b1",
   "metadata": {},
   "source": [
    "**Armstrong Number:**\n",
    "\n",
    "It is a number that is equal to the sum of its own digits, each raised to a power equal to the number of digits in the number.\n",
    "\n",
    "For example, let's consider the number 153:\n",
    "\n",
    "- It has three digits (1, 5, and 3).\n",
    "- If we calculate $1^3$ + $5^3 + 3^3$, we get $1 + 125 + 27$, which is equal to $153$.\n",
    "\n",
    "So, 153 is an Armstrong number because it equals the sum of its digits raised to the power of the number of digits in the number.\n",
    "\n",
    "Another example is 9474:\n",
    "\n",
    "- It has four digits (9, 4, 7, and 4).\n",
    "- If we calculate $9^4 + 4^4 + 7^4 + 4^4$, we get $6561 + 256 + 2401 + 256$, which is also equal to $9474$.\n",
    "\n",
    "Therefore, 9474 is an Armstrong number as well."
   ]
  },
  {
   "cell_type": "code",
   "execution_count": 25,
   "id": "cabadc62",
   "metadata": {},
   "outputs": [
    {
     "name": "stdout",
     "output_type": "stream",
     "text": [
      "Enter a number: 9474\n",
      "9474 is an Armstrong number.\n"
     ]
    }
   ],
   "source": [
    "num = int(input(\"Enter a number: \"))\n",
    "\n",
    "# Calculate the number of digits in num\n",
    "num_str = str(num)\n",
    "num_digits = len(num_str)\n",
    "\n",
    "# Initialize variables\n",
    "sum_of_powers = 0\n",
    "temp_num = num\n",
    "\n",
    "# Calculate the sum of digits raised to the power of num_digits\n",
    "\n",
    "while temp_num > 0:\n",
    "    digit = temp_num % 10\n",
    "    sum_of_powers += digit ** num_digits\n",
    "    temp_num //= 10\n",
    "\n",
    "# Check if it's an Armstrong number\n",
    "if sum_of_powers == num:\n",
    "    print(f\"{num} is an Armstrong number.\")\n",
    "else:\n",
    "    print(f\"{num} is not an Armstrong number.\")\n"
   ]
  },
  {
   "cell_type": "markdown",
   "id": "8fa4328e",
   "metadata": {},
   "source": [
    "## Program 20\n",
    "#### Write a Python Program to Find Armstrong Number in an Interval."
   ]
  },
  {
   "cell_type": "code",
   "execution_count": 26,
   "id": "29609faf",
   "metadata": {},
   "outputs": [
    {
     "name": "stdout",
     "output_type": "stream",
     "text": [
      "Enter the lower limit of the interval: 10\n",
      "Enter the upper limit of the interval: 1000\n",
      "153\n",
      "370\n",
      "371\n",
      "407\n"
     ]
    }
   ],
   "source": [
    "# Input the interval from the user\n",
    "lower = int(input(\"Enter the lower limit of the interval: \"))\n",
    "upper = int(input(\"Enter the upper limit of the interval: \"))\n",
    "\n",
    "\n",
    "for num in range(lower, upper + 1):     # Iterate through the numbers in the interval\n",
    "    order = len(str(num))  # Find the number of digits in 'num'\n",
    "    temp_num = num\n",
    "    sum = 0\n",
    "\n",
    "    while temp_num > 0:\n",
    "        digit = temp_num % 10\n",
    "        sum += digit ** order\n",
    "        temp_num //= 10\n",
    "\n",
    "    # Check if 'num' is an Armstrong number\n",
    "    if num == sum:\n",
    "        print(num)"
   ]
  },
  {
   "cell_type": "markdown",
   "id": "6a00e854",
   "metadata": {},
   "source": [
    "## Program 21\n",
    "#### Write a Python Program to Find the Sum of Natural Numbers."
   ]
  },
  {
   "cell_type": "markdown",
   "id": "86a2855d",
   "metadata": {},
   "source": [
    "**Natural numbers** are a set of positive integers that are used to count and order objects. They are the numbers that typically start from 1 and continue indefinitely, including all the whole numbers greater than 0. In mathematical notation, the set of natural numbers is often denoted as \"N\" and can be expressed as:\n",
    "\n",
    "$$N = {1, 2, 3, 4, 5, 6, 7, 8, ...}$$"
   ]
  },
  {
   "cell_type": "code",
   "execution_count": 27,
   "id": "48e87b74",
   "metadata": {},
   "outputs": [
    {
     "name": "stdout",
     "output_type": "stream",
     "text": [
      "Enter the limit: 10\n",
      "The sum of natural numbers up to 10 is: 55\n"
     ]
    }
   ],
   "source": [
    "limit = int(input(\"Enter the limit: \"))\n",
    "\n",
    "# Initialize the sum\n",
    "sum = 0\n",
    "\n",
    "# Use a for loop to calculate the sum of natural numbers\n",
    "for i in range(1, limit + 1):\n",
    "    sum += i\n",
    "\n",
    "# Print the sum\n",
    "print(\"The sum of natural numbers up to\", limit, \"is:\", sum)"
   ]
  },
  {
   "cell_type": "markdown",
   "id": "83e2f59b",
   "metadata": {},
   "source": [
    "## Program 22\n",
    "#### Write a Python Program to Find LCM."
   ]
  },
  {
   "cell_type": "markdown",
   "id": "c6c41644",
   "metadata": {},
   "source": [
    "**Least Common Multiple (LCM):**\n",
    "\n",
    "LCM, or Least Common Multiple, is the smallest multiple that is exactly divisible by two or more numbers.\n",
    "\n",
    "Formula:\n",
    "\n",
    "For two numbers a and b, the LCM can be found using the formula:\n",
    "\n",
    "$$\\text{LCM}(a, b) = \\frac{|a \\cdot b|}{\\text{GCD}(a, b)}$$\n",
    "\n",
    "For more than two numbers, you can find the LCM step by step, taking the LCM of pairs of numbers at a time until you reach the last pair.\n",
    "\n",
    "Note: GCD stands for Greatest Common Divisor."
   ]
  },
  {
   "cell_type": "code",
   "execution_count": 1,
   "id": "b35a4eed",
   "metadata": {},
   "outputs": [
    {
     "name": "stdout",
     "output_type": "stream",
     "text": [
      "Enter the number: 54\n",
      "Enter the number: 24\n",
      "The L.C.M. is 216\n"
     ]
    }
   ],
   "source": [
    "# Python Program to find the L.C.M. of two input number\n",
    "\n",
    "def compute_lcm(x, y):\n",
    "    if x > y:                    # choose the greater number\n",
    "        greater = x\n",
    "    else:\n",
    "        greater = y\n",
    "    while(True):\n",
    "        if((greater % x == 0) and (greater % y == 0)):\n",
    "            lcm = greater\n",
    "            break\n",
    "        greater += 1\n",
    "    return lcm\n",
    "\n",
    "num1 = int(input('Enter the number: '))\n",
    "num2 = int(input('Enter the number: '))\n",
    "\n",
    "print(\"The L.C.M. is\", compute_lcm(num1, num2))"
   ]
  },
  {
   "cell_type": "markdown",
   "id": "73636ad1",
   "metadata": {},
   "source": [
    "## Program 23\n",
    "#### Write a Python Program to Find HCF."
   ]
  },
  {
   "cell_type": "markdown",
   "id": "d2c96414",
   "metadata": {},
   "source": [
    "**Highest Common Factor(HCF):**\n",
    "\n",
    "HCF, or Highest Common Factor, is the largest positive integer that divides two or more numbers without leaving a remainder.\n",
    "\n",
    "Formula:\n",
    "\n",
    "For two numbers a and b, the HCF can be found using the formula:\n",
    "\n",
    "$$\\text{HCF}(a, b) = \\text{GCD}(a, b)$$\n",
    "\n",
    "For more than two numbers, you can find the HCF by taking the GCD of pairs of numbers at a time until you reach the last pair.\n",
    "\n",
    "Note: GCD stands for Greatest Common Divisor."
   ]
  },
  {
   "cell_type": "code",
   "execution_count": 2,
   "id": "66547566",
   "metadata": {},
   "outputs": [
    {
     "name": "stdout",
     "output_type": "stream",
     "text": [
      "Enter the number: 54\n",
      "Enter the number: 24\n",
      "The H.C.F. is 6\n"
     ]
    }
   ],
   "source": [
    "# Python program to find H.C.F of two numbers\n",
    "\n",
    "# define a function\n",
    "def compute_hcf(x, y):\n",
    "\n",
    "# choose the smaller number\n",
    "    if x > y:\n",
    "        smaller = y\n",
    "    else:\n",
    "        smaller = x\n",
    "    for i in range(1, smaller+1):\n",
    "        if((x % i == 0) and (y % i == 0)):\n",
    "            hcf = i \n",
    "    return hcf\n",
    "\n",
    "num1 = int(input('Enter the number: '))\n",
    "num2 = int(input('Enter the number: '))\n",
    "\n",
    "print(\"The H.C.F. is\", compute_hcf(num1, num2))"
   ]
  },
  {
   "cell_type": "markdown",
   "id": "a0adda0b",
   "metadata": {},
   "source": [
    "## Program 24\n",
    "#### Write a Python Program to Convert Decimal to Binary, Octal and Hexadecimal."
   ]
  },
  {
   "cell_type": "markdown",
   "id": "14f13538",
   "metadata": {},
   "source": [
    "**How can we manually convert a decimal number to binary, octal and hexadecimal?**\n",
    "\n",
    "Converting a decimal number to binary, octal, and hexadecimal involves dividing the decimal number by the base repeatedly and noting the remainders at each step. Here's a simple example:\n",
    "\n",
    "Let's convert the decimal number 27 to binary, octal, and hexadecimal.\n",
    "\n",
    "1. **Binary:**\n",
    "   - Divide 27 by 2. Quotient is 13, remainder is 1. Note the remainder.\n",
    "   - Divide 13 by 2. Quotient is 6, remainder is 1. Note the remainder.\n",
    "   - Divide 6 by 2. Quotient is 3, remainder is 0. Note the remainder.\n",
    "   - Divide 3 by 2. Quotient is 1, remainder is 1. Note the remainder.\n",
    "   - Divide 1 by 2. Quotient is 0, remainder is 1. Note the remainder.\n",
    "\n",
    "   Reading the remainders from bottom to top, the binary representation of 27 is 11011.\n",
    "\n",
    "2. **Octal:**\n",
    "   - Divide 27 by 8. Quotient is 3, remainder is 3. Note the remainder.\n",
    "   - Divide 3 by 8. Quotient is 0, remainder is 3. Note the remainder.\n",
    "\n",
    "   Reading the remainders from bottom to top, the octal representation of 27 is 33.\n",
    "\n",
    "3. **Hexadecimal:**\n",
    "   - Divide 27 by 16. Quotient is 1, remainder is 11 (B in hexadecimal). Note the remainder.\n",
    "\n",
    "   Reading the remainders, the hexadecimal representation of 27 is 1B.\n",
    "\n",
    "So, in summary:\n",
    "- Binary: 27 in decimal is 11011 in binary.\n",
    "- Octal: 27 in decimal is 33 in octal.\n",
    "- Hexadecimal: 27 in decimal is 1B in hexadecimal."
   ]
  },
  {
   "cell_type": "code",
   "execution_count": 3,
   "id": "41443a43",
   "metadata": {},
   "outputs": [
    {
     "name": "stdout",
     "output_type": "stream",
     "text": [
      "Enter a decimal number: 27\n",
      "The decimal value of 27 is:\n",
      "0b11011 in binary.\n",
      "0o33 in octal.\n",
      "0x1b in hexadecimal.\n"
     ]
    }
   ],
   "source": [
    "dec_num = int(input('Enter a decimal number: '))\n",
    "\n",
    "print(\"The decimal value of\", dec_num, \"is:\")\n",
    "print(bin(dec_num), \"in binary.\")\n",
    "print(oct(dec_num), \"in octal.\")\n",
    "print(hex(dec_num), \"in hexadecimal.\")"
   ]
  },
  {
   "cell_type": "markdown",
   "id": "44ffcd21",
   "metadata": {},
   "source": [
    "## Program 25\n",
    "#### Write a Python Program To Find ASCII value of a character."
   ]
  },
  {
   "cell_type": "markdown",
   "id": "80ddf6fc",
   "metadata": {},
   "source": [
    "**ASCII value:**\n",
    "\n",
    "ASCII, or American Standard Code for Information Interchange, is a character encoding standard that uses numeric values to represent characters. Each ASCII character is assigned a unique 7-bit or 8-bit binary number, allowing computers to exchange information and display text in a consistent way. The ASCII values range from 0 to 127 (for 7-bit ASCII) or 0 to 255 (for 8-bit ASCII), with each value corresponding to a specific character, such as letters, digits, punctuation marks, and control characters."
   ]
  },
  {
   "cell_type": "code",
   "execution_count": 4,
   "id": "1d5246c5",
   "metadata": {},
   "outputs": [
    {
     "name": "stdout",
     "output_type": "stream",
     "text": [
      "Enter the character: P\n",
      "The ASCII value of 'P' is 80\n"
     ]
    }
   ],
   "source": [
    "char = str(input(\"Enter the character: \"))\n",
    "print(\"The ASCII value of '\" + char + \"' is\", ord(char))"
   ]
  },
  {
   "cell_type": "markdown",
   "id": "b54047e6",
   "metadata": {},
   "source": [
    "## Program 26\n",
    "#### Write a Python Program to Make a Simple Calculator with 4 basic mathematical operations."
   ]
  },
  {
   "cell_type": "code",
   "execution_count": 5,
   "id": "a32276b8",
   "metadata": {},
   "outputs": [
    {
     "name": "stdout",
     "output_type": "stream",
     "text": [
      "Select operation.\n",
      "1.Add\n",
      "2.Subtract\n",
      "3.Multiply\n",
      "4.Divide\n",
      "Enter choice(1/2/3/4): 1\n",
      "Enter first number: 5\n",
      "Enter second number: 6\n",
      "5.0 + 6.0 = 11.0\n",
      "Let's do next calculation? (yes/no): yes\n",
      "Enter choice(1/2/3/4): 2\n",
      "Enter first number: 50\n",
      "Enter second number: 5\n",
      "50.0 - 5.0 = 45.0\n",
      "Let's do next calculation? (yes/no): yes\n",
      "Enter choice(1/2/3/4): 3\n",
      "Enter first number: 22\n",
      "Enter second number: 2\n",
      "22.0 * 2.0 = 44.0\n",
      "Let's do next calculation? (yes/no): yes\n",
      "Enter choice(1/2/3/4): 4\n",
      "Enter first number: 99\n",
      "Enter second number: 9\n",
      "99.0 / 9.0 = 11.0\n",
      "Let's do next calculation? (yes/no): no\n"
     ]
    }
   ],
   "source": [
    "# This function adds two numbers\n",
    "def add(x, y):\n",
    "    return x + y\n",
    "\n",
    "# This function subtracts two numbers\n",
    "def subtract(x, y):\n",
    "    return x - y\n",
    "\n",
    "# This function multiplies two numbers\n",
    "def multiply(x, y):\n",
    "    return x * y\n",
    "\n",
    "# This function divides two numbers\n",
    "def divide(x, y):\n",
    "    return x / y\n",
    "\n",
    "\n",
    "print(\"Select operation.\")\n",
    "print(\"1.Add\")\n",
    "print(\"2.Subtract\")\n",
    "print(\"3.Multiply\")\n",
    "print(\"4.Divide\")\n",
    "\n",
    "while True:\n",
    "    # take input from the user\n",
    "    choice = input(\"Enter choice(1/2/3/4): \")\n",
    "\n",
    "    # check if choice is one of the four options\n",
    "    if choice in ('1', '2', '3', '4'):\n",
    "        try:\n",
    "            num1 = float(input(\"Enter first number: \"))\n",
    "            num2 = float(input(\"Enter second number: \"))\n",
    "        except ValueError:\n",
    "            print(\"Invalid input. Please enter a number.\")\n",
    "            continue\n",
    "\n",
    "        if choice == '1':\n",
    "            print(num1, \"+\", num2, \"=\", add(num1, num2))\n",
    "\n",
    "        elif choice == '2':\n",
    "            print(num1, \"-\", num2, \"=\", subtract(num1, num2))\n",
    "\n",
    "        elif choice == '3':\n",
    "            print(num1, \"*\", num2, \"=\", multiply(num1, num2))\n",
    "\n",
    "        elif choice == '4':\n",
    "            print(num1, \"/\", num2, \"=\", divide(num1, num2))\n",
    "        \n",
    "        # check if user wants another calculation\n",
    "        # break the while loop if answer is no\n",
    "        next_calculation = input(\"Let's do next calculation? (yes/no): \")\n",
    "        if next_calculation == \"no\":\n",
    "          break\n",
    "    else:\n",
    "        print(\"Invalid Input\")"
   ]
  },
  {
   "cell_type": "markdown",
   "id": "0bfd9c66",
   "metadata": {},
   "source": [
    "## Program 27\n",
    "#### Write a Python Program to Display Fibonacci Sequence Using Recursion."
   ]
  },
  {
   "cell_type": "markdown",
   "id": "6d54c98e",
   "metadata": {},
   "source": [
    "**Fibonacci sequence:**\n",
    "\n",
    "The Fibonacci sequence is a series of numbers in which each number is the sum of the two preceding ones, usually starting with 0 and 1. In mathematical terms, it is defined by the recurrence relation \\( F(n) = F(n-1) + F(n-2) \\), with initial conditions \\( F(0) = 0 \\) and \\( F(1) = 1 \\). The sequence begins: 0, 1, 1, 2, 3, 5, 8, 13, 21, and so on. The Fibonacci sequence has widespread applications in mathematics, computer science, nature, and art."
   ]
  },
  {
   "cell_type": "code",
   "execution_count": 9,
   "id": "376c20b1",
   "metadata": {},
   "outputs": [
    {
     "name": "stdout",
     "output_type": "stream",
     "text": [
      "Enter the number of terms (greater than 0): 8\n",
      "Fibonacci sequence:\n",
      "0\n",
      "1\n",
      "1\n",
      "2\n",
      "3\n",
      "5\n",
      "8\n",
      "13\n"
     ]
    }
   ],
   "source": [
    "# Python program to display the Fibonacci sequence\n",
    "\n",
    "def recur_fibo(n):\n",
    "    if n <= 1:\n",
    "        return n\n",
    "    else:\n",
    "        return(recur_fibo(n-1) + recur_fibo(n-2))\n",
    "\n",
    "nterms = int(input(\"Enter the number of terms (greater than 0): \"))\n",
    "\n",
    "# check if the number of terms is valid\n",
    "if nterms <= 0:\n",
    "    print(\"Plese enter a positive integer\")\n",
    "else:\n",
    "    print(\"Fibonacci sequence:\")\n",
    "    for i in range(nterms):\n",
    "        print(recur_fibo(i))"
   ]
  },
  {
   "cell_type": "markdown",
   "id": "040d3e73",
   "metadata": {},
   "source": [
    "## Program 28\n",
    "#### Write a Python Program to Find Factorial of Number Using Recursion."
   ]
  },
  {
   "cell_type": "markdown",
   "id": "8989ccad",
   "metadata": {},
   "source": [
    "The factorial of a non-negative integer \\( n \\) is the product of all positive integers less than or equal to \\( n \\). It is denoted by \\( n! \\) and is defined as:\n",
    "\n",
    "$$n! = n \\times (n-1) \\times (n-2) \\times \\ldots \\times 3 \\times 2 \\times 1$$\n",
    "\n",
    "For example:\n",
    "- $5! = 5 \\times 4 \\times 3 \\times 2 \\times 1 = 120$\n",
    "- $0!$ is defined to be 1.\n",
    "\n",
    "Factorials are commonly used in mathematics, especially in combinatorics and probability, to count the number of ways a set of elements can be arranged or selected."
   ]
  },
  {
   "cell_type": "code",
   "execution_count": 11,
   "id": "4c0b3030",
   "metadata": {},
   "outputs": [
    {
     "name": "stdout",
     "output_type": "stream",
     "text": [
      "Enter the number: 7\n",
      "The factorial of 7 is 5040\n"
     ]
    }
   ],
   "source": [
    "# Factorial of a number using recursion\n",
    "\n",
    "def recur_factorial(n):\n",
    "    if n == 1:\n",
    "        return n\n",
    "    else:\n",
    "        return n*recur_factorial(n-1)\n",
    "\n",
    "num = int(input(\"Enter the number: \"))\n",
    "\n",
    "# check if the number is negative\n",
    "if num < 0:\n",
    "    print(\"Sorry, factorial does not exist for negative numbers\")\n",
    "elif num == 0:\n",
    "    print(\"The factorial of 0 is 1\")\n",
    "else:\n",
    "    print(\"The factorial of\", num, \"is\", recur_factorial(num))"
   ]
  },
  {
   "cell_type": "markdown",
   "id": "8bd70728",
   "metadata": {},
   "source": [
    "## Program 29\n",
    "#### Write a Python Program to calculate your Body Mass Index."
   ]
  },
  {
   "cell_type": "markdown",
   "id": "d31c17ef",
   "metadata": {},
   "source": [
    "**Body Mass Index (BMI)** is a measure of body fat based on an individual's weight and height. It is commonly used as a screening tool to categorize individuals into different weight status categories, such as underweight, normal weight, overweight, and obesity. \n",
    "\n",
    "The BMI is calculated using the following formula:\n",
    "\n",
    "$$\\text{BMI} = \\frac{\\text{Weight (kg)}}{\\text{Height (m)}^2}$$\n",
    "\n",
    "Alternatively, in the imperial system:\n",
    "\n",
    "$$\\text{BMI} = \\frac{\\text{Weight (lb)}}{\\text{Height (in)}^2} \\times 703$$\n",
    "\n",
    "BMI provides a general indication of body fatness but does not directly measure body fat or distribution. It is widely used in public health and clinical settings as a quick and simple tool to assess potential health risks associated with weight. Different BMI ranges are associated with different health categories, but it's important to note that BMI has limitations and does not account for factors such as muscle mass or distribution of fat."
   ]
  },
  {
   "cell_type": "code",
   "execution_count": 12,
   "id": "4391f25e",
   "metadata": {},
   "outputs": [
    {
     "name": "stdout",
     "output_type": "stream",
     "text": [
      "Enter your height in meters: 1.8\n",
      "Enter your weight in kg: 70\n",
      "Welcome to the BMI calculator.\n",
      "Your BMI is:  21.6\n",
      "Your weight is normal.\n"
     ]
    }
   ],
   "source": [
    "def bodymassindex(height, weight):\n",
    "    return round((weight / height**2),2)\n",
    "\n",
    "\n",
    "h = float(input(\"Enter your height in meters: \"))\n",
    "w = float(input(\"Enter your weight in kg: \"))\n",
    "\n",
    "\n",
    "print(\"Welcome to the BMI calculator.\")\n",
    "\n",
    "bmi = bodymassindex(h, w)\n",
    "print(\"Your BMI is: \", bmi)\n",
    "\n",
    "\n",
    "if bmi <= 18.5:\n",
    "    print(\"You are underweight.\")\n",
    "elif 18.5 < bmi <= 24.9:\n",
    "    print(\"Your weight is normal.\")\n",
    "elif 25 < bmi <= 29.29:\n",
    "    print(\"You are overweight.\")\n",
    "else:\n",
    "    print(\"You are obese.\")"
   ]
  },
  {
   "cell_type": "markdown",
   "id": "1ebec59c",
   "metadata": {},
   "source": [
    "## Program 30\n",
    "#### Write a Python Program to calculate the natural logarithm of any number."
   ]
  },
  {
   "cell_type": "markdown",
   "id": "7251d951",
   "metadata": {},
   "source": [
    "The **natural logarithm**, often denoted as $ln$, is a mathematical function that represents the logarithm to the base $e$, where $e$ is the mathematical constant approximately equal to $2.71828$. In other words, for a positive number $x$, the natural logarithm of $x$ is the exponent $y$ that satisfies the equation $e^y = x$. \n",
    "\n",
    "Mathematically, the natural logarithm is expressed as:\n",
    "\n",
    "$$\\ln(x)$$\n",
    "\n",
    "It is commonly used in various branches of mathematics, especially in calculus and mathematical analysis, as well as in fields such as physics, economics, and engineering. The natural logarithm has properties that make it particularly useful in situations involving exponential growth or decay."
   ]
  },
  {
   "cell_type": "code",
   "execution_count": 13,
   "id": "a0158832",
   "metadata": {},
   "outputs": [
    {
     "name": "stdout",
     "output_type": "stream",
     "text": [
      "Enter a number: 1.4\n",
      "The natural logarithm of 1.4 is: 0.3364722366212129\n"
     ]
    }
   ],
   "source": [
    "import math\n",
    "\n",
    "num = float(input(\"Enter a number: \"))\n",
    "\n",
    "if num <= 0:\n",
    "    print(\"Please enter a positive number.\")\n",
    "else:\n",
    "    # Calculate the natural logarithm (base e) of the number\n",
    "    result = math.log(num)\n",
    "    print(f\"The natural logarithm of {num} is: {result}\")"
   ]
  },
  {
   "cell_type": "markdown",
   "id": "c2a434c6",
   "metadata": {},
   "source": [
    "## Program 31\n",
    "#### Write a Python Program for cube sum of first n natural numbers?"
   ]
  },
  {
   "cell_type": "code",
   "execution_count": 14,
   "id": "c4e4c127",
   "metadata": {},
   "outputs": [
    {
     "name": "stdout",
     "output_type": "stream",
     "text": [
      "Enter the value of n: 7\n",
      "The cube sum of the first 7 natural numbers is: 784\n"
     ]
    }
   ],
   "source": [
    "def cube_sum_of_natural_numbers(n):\n",
    "    if n <= 0:\n",
    "        return 0\n",
    "    else:\n",
    "        total = sum([i**3 for i in range(1, n + 1)])\n",
    "        return total\n",
    "\n",
    "# Input the number of natural numbers\n",
    "n = int(input(\"Enter the value of n: \"))\n",
    "\n",
    "if n <= 0:\n",
    "    print(\"Please enter a positive integer.\")\n",
    "else:\n",
    "    result = cube_sum_of_natural_numbers(n)\n",
    "    print(f\"The cube sum of the first {n} natural numbers is: {result}\")"
   ]
  },
  {
   "cell_type": "markdown",
   "id": "dfb99af9",
   "metadata": {},
   "source": [
    "## Program 32\n",
    "#### Write a Python Program to find sum of array."
   ]
  },
  {
   "cell_type": "markdown",
   "id": "9084ca5b",
   "metadata": {},
   "source": [
    "In Python, an **array** is a data structure used to store a collection of elements, each identified by an index or a key. Unlike some other programming languages, Python does not have a built-in array type. Instead, the most commonly used array-like data structure is the list.\n",
    "\n",
    "A list in Python is a dynamic array, meaning it can change in size during runtime. Elements in a list can be of different data types, and you can perform various operations such as adding, removing, or modifying elements. Lists are defined using square brackets `[]` and can be indexed and sliced to access specific elements or sublists.\n",
    "\n",
    "Example of a simple list in Python:\n",
    "\n",
    "```python\n",
    "my_list = [1, 2, 3, 4, 5]\n",
    "```\n",
    "\n",
    "This list can be accessed and manipulated using various built-in functions and methods in Python."
   ]
  },
  {
   "cell_type": "code",
   "execution_count": 15,
   "id": "02ddb038",
   "metadata": {},
   "outputs": [
    {
     "name": "stdout",
     "output_type": "stream",
     "text": [
      "Sum of the array is  6\n"
     ]
    }
   ],
   "source": [
    "# Finding Sum of Array Using sum()\n",
    "arr = [1,2,3]\n",
    "\n",
    "ans = sum(arr)\n",
    " \n",
    "print('Sum of the array is ', ans)"
   ]
  },
  {
   "cell_type": "code",
   "execution_count": 16,
   "id": "ff7cc72d",
   "metadata": {},
   "outputs": [
    {
     "name": "stdout",
     "output_type": "stream",
     "text": [
      "Sum of the array: 6\n"
     ]
    }
   ],
   "source": [
    "# Function to find the sum of elements in an array\n",
    "def sum_of_array(arr):\n",
    "    total = 0  # Initialize a variable to store the sum\n",
    "    \n",
    "    for element in arr:\n",
    "        total += element  # Add each element to the total\n",
    "    \n",
    "    return total\n",
    "\n",
    "# Example usage:\n",
    "array = [1, 2, 3]\n",
    "result = sum_of_array(array)\n",
    "print(\"Sum of the array:\", result)"
   ]
  },
  {
   "cell_type": "markdown",
   "id": "18f8adce",
   "metadata": {},
   "source": [
    "## Program 33\n",
    "#### Write a Python Program to find largest element in an array."
   ]
  },
  {
   "cell_type": "code",
   "execution_count": 18,
   "id": "dac72fa7",
   "metadata": {},
   "outputs": [
    {
     "name": "stdout",
     "output_type": "stream",
     "text": [
      "The largest element in the array is: 99\n"
     ]
    }
   ],
   "source": [
    "def find_largest_element(arr):\n",
    "    if not arr:\n",
    "        return \"Array is empty\"\n",
    "\n",
    "    # Initialize the first element as the largest\n",
    "    largest_element = arr[0]\n",
    "\n",
    "    # Iterate through the array to find the largest element\n",
    "    for element in arr:\n",
    "        if element > largest_element:\n",
    "            largest_element = element\n",
    "\n",
    "    return largest_element\n",
    "\n",
    "# Example usage:\n",
    "my_array = [10, 20, 30, 99]\n",
    "result = find_largest_element(my_array)\n",
    "print(f\"The largest element in the array is: {result}\")\n"
   ]
  },
  {
   "cell_type": "markdown",
   "id": "5cbb0f03",
   "metadata": {},
   "source": [
    "## Program 34\n",
    "#### Write a Python Program for array rotation."
   ]
  },
  {
   "cell_type": "code",
   "execution_count": 19,
   "id": "ee9dd574",
   "metadata": {},
   "outputs": [
    {
     "name": "stdout",
     "output_type": "stream",
     "text": [
      "Original Array: [1, 2, 3, 4, 5]\n",
      "Rotated Array: [3, 4, 5, 1, 2]\n"
     ]
    }
   ],
   "source": [
    "def rotate_array(arr, d):\n",
    "    n = len(arr)\n",
    "    \n",
    "    # Check if 'd' is valid, it should be within the range of array length.\n",
    "    if d < 0 or d >= n:\n",
    "        return \"Invalid rotation value\"\n",
    "    \n",
    "    # Create a new array to store the rotated elements.\n",
    "    rotated_arr = [0] * n\n",
    "    \n",
    "    # Perform the rotation.\n",
    "    for i in range(n):\n",
    "        rotated_arr[i] = arr[(i + d) % n]\n",
    "    \n",
    "    return rotated_arr\n",
    "\n",
    "# Input array\n",
    "arr = [1, 2, 3, 4, 5]\n",
    "\n",
    "# Number of positions to rotate\n",
    "d = 2\n",
    "\n",
    "# Call the rotate_array function\n",
    "result = rotate_array(arr, d)\n",
    "\n",
    "# Print the rotated array\n",
    "print(\"Original Array:\", arr)\n",
    "print(\"Rotated Array:\", result)\n"
   ]
  },
  {
   "cell_type": "markdown",
   "id": "d138bda2",
   "metadata": {},
   "source": [
    "## Program 35\n",
    "#### Write a Python Program to Split the array and add the first part to the end?"
   ]
  },
  {
   "cell_type": "code",
   "execution_count": 20,
   "id": "9479d66c",
   "metadata": {},
   "outputs": [
    {
     "name": "stdout",
     "output_type": "stream",
     "text": [
      "Original Array: [1, 2, 3, 4, 5]\n",
      "Array after splitting and adding: [4, 5, 1, 2, 3]\n"
     ]
    }
   ],
   "source": [
    "def split_and_add(arr, k):\n",
    "    if k <= 0 or k >= len(arr):\n",
    "        return arr  \n",
    "\n",
    "    # Split the array into two parts\n",
    "    first_part = arr[:k]\n",
    "    second_part = arr[k:]\n",
    "\n",
    "    # Add the first part to the end of the second part\n",
    "    result = second_part + first_part\n",
    "\n",
    "    return result\n",
    "\n",
    "# Test the function\n",
    "arr = [1, 2, 3, 4, 5]\n",
    "k = 3\n",
    "result = split_and_add(arr, k)\n",
    "print(\"Original Array:\", arr)\n",
    "print(\"Array after splitting and adding:\", result)"
   ]
  },
  {
   "cell_type": "markdown",
   "id": "242b6d36",
   "metadata": {},
   "source": [
    "## Program 36\n",
    "#### Write a Python Program to check if given array is Monotonic."
   ]
  },
  {
   "cell_type": "markdown",
   "id": "dfc3a0ca",
   "metadata": {},
   "source": [
    "- A monotonic array is one that is entirely non-increasing or non-decreasing."
   ]
  },
  {
   "cell_type": "code",
   "execution_count": 21,
   "id": "d06b3586",
   "metadata": {},
   "outputs": [
    {
     "name": "stdout",
     "output_type": "stream",
     "text": [
      "arr1 is monotonic: True\n",
      "arr2 is monotonic: True\n",
      "arr3 is monotonic: False\n"
     ]
    }
   ],
   "source": [
    "def is_monotonic(arr):\n",
    "    increasing = decreasing = True\n",
    "\n",
    "    for i in range(1, len(arr)):\n",
    "        if arr[i] > arr[i - 1]:\n",
    "            decreasing = False\n",
    "        elif arr[i] < arr[i - 1]:\n",
    "            increasing = False\n",
    "\n",
    "    return increasing or decreasing\n",
    "\n",
    "# Test the function\n",
    "arr1 = [1, 2, 2, 3]  # Monotonic (non-decreasing)\n",
    "arr2 = [3, 2, 1]     # Monotonic (non-increasing)\n",
    "arr3 = [1, 3, 2, 4]  # Not monotonic\n",
    "\n",
    "print(\"arr1 is monotonic:\", is_monotonic(arr1))\n",
    "print(\"arr2 is monotonic:\", is_monotonic(arr2))\n",
    "print(\"arr3 is monotonic:\", is_monotonic(arr3))"
   ]
  },
  {
   "cell_type": "markdown",
   "id": "a650528a",
   "metadata": {},
   "source": [
    "## Program 37\n",
    "#### Write a Python Program to Add Two Matrices."
   ]
  },
  {
   "cell_type": "code",
   "execution_count": 1,
   "id": "766898e1",
   "metadata": {},
   "outputs": [
    {
     "name": "stdout",
     "output_type": "stream",
     "text": [
      "Sum of matrices:\n",
      "[10, 10, 10]\n",
      "[10, 10, 10]\n",
      "[10, 10, 10]\n"
     ]
    }
   ],
   "source": [
    "# Function to add two matrices\n",
    "def add_matrices(mat1, mat2):\n",
    "    # Check if the matrices have the same dimensions\n",
    "    if len(mat1) != len(mat2) or len(mat1[0]) != len(mat2[0]):\n",
    "        return \"Matrices must have the same dimensions for addition\"\n",
    "    \n",
    "    # Initialize an empty result matrix with the same dimensions\n",
    "    result = []\n",
    "    for i in range(len(mat1)):\n",
    "        row = []\n",
    "        for j in range(len(mat1[0])):\n",
    "            row.append(mat1[i][j] + mat2[i][j])\n",
    "        result.append(row)\n",
    "    \n",
    "    return result\n",
    "\n",
    "# Input matrices\n",
    "matrix1 = [\n",
    "    [1, 2, 3],\n",
    "    [4, 5, 6],\n",
    "    [7, 8, 9]\n",
    "]\n",
    "\n",
    "matrix2 = [\n",
    "    [9, 8, 7],\n",
    "    [6, 5, 4],\n",
    "    [3, 2, 1]\n",
    "]\n",
    "\n",
    "# Call the add_matrices function\n",
    "result_matrix = add_matrices(matrix1, matrix2)\n",
    "\n",
    "# Display the result\n",
    "if isinstance(result_matrix, str):\n",
    "    print(result_matrix)\n",
    "else:\n",
    "    print(\"Sum of matrices:\")\n",
    "    for row in result_matrix:\n",
    "        print(row)\n"
   ]
  },
  {
   "cell_type": "markdown",
   "id": "d838ab69",
   "metadata": {},
   "source": [
    "## Program 38\n",
    "#### Write a Python Program to Multiply Two Matrices."
   ]
  },
  {
   "cell_type": "code",
   "execution_count": 2,
   "id": "3f5e1aa1",
   "metadata": {},
   "outputs": [
    {
     "name": "stdout",
     "output_type": "stream",
     "text": [
      "Result of matrix multiplication:\n",
      "[58, 64]\n",
      "[139, 154]\n"
     ]
    }
   ],
   "source": [
    "# Function to multiply two matrices\n",
    "def multiply_matrices(mat1, mat2):\n",
    "    # Determine the dimensions of the input matrices\n",
    "    rows1 = len(mat1)\n",
    "    cols1 = len(mat1[0])\n",
    "    rows2 = len(mat2)\n",
    "    cols2 = len(mat2[0])\n",
    "\n",
    "    # Check if multiplication is possible\n",
    "    if cols1 != rows2:\n",
    "        return \"Matrix multiplication is not possible. Number of columns in the first matrix must be equal to the number of rows in the second matrix.\"\n",
    "\n",
    "    # Initialize the result matrix with zeros\n",
    "    result = [[0 for _ in range(cols2)] for _ in range(rows1)]\n",
    "\n",
    "    # Perform matrix multiplication\n",
    "    for i in range(rows1):\n",
    "        for j in range(cols2):\n",
    "            for k in range(cols1):\n",
    "                result[i][j] += mat1[i][k] * mat2[k][j]\n",
    "\n",
    "    return result\n",
    "\n",
    "# Example matrices\n",
    "matrix1 = [[1, 2, 3],\n",
    "           [4, 5, 6]]\n",
    "\n",
    "matrix2 = [[7, 8],\n",
    "           [9, 10],\n",
    "           [11, 12]]\n",
    "\n",
    "# Multiply the matrices\n",
    "result_matrix = multiply_matrices(matrix1, matrix2)\n",
    "\n",
    "# Display the result\n",
    "if isinstance(result_matrix, str):\n",
    "    print(result_matrix)\n",
    "else:\n",
    "    print(\"Result of matrix multiplication:\")\n",
    "    for row in result_matrix:\n",
    "        print(row)"
   ]
  },
  {
   "cell_type": "markdown",
   "id": "7bb9e0be",
   "metadata": {},
   "source": [
    "## Program 39\n",
    "#### Write a Python Program to Transpose a Matrix."
   ]
  },
  {
   "cell_type": "code",
   "execution_count": 3,
   "id": "ca2f2bab",
   "metadata": {},
   "outputs": [
    {
     "name": "stdout",
     "output_type": "stream",
     "text": [
      "[1, 4]\n",
      "[2, 5]\n",
      "[3, 6]\n"
     ]
    }
   ],
   "source": [
    "# Function to transpose a matrix\n",
    "def transpose_matrix(matrix):\n",
    "    rows, cols = len(matrix), len(matrix[0])\n",
    "    # Create an empty matrix to store the transposed data\n",
    "    result = [[0 for _ in range(rows)] for _ in range(cols)]\n",
    "\n",
    "    for i in range(rows):\n",
    "        for j in range(cols):\n",
    "            result[j][i] = matrix[i][j]\n",
    "\n",
    "    return result\n",
    "\n",
    "# Input matrix\n",
    "matrix = [\n",
    "    [1, 2, 3],\n",
    "    [4, 5, 6]\n",
    "]\n",
    "\n",
    "# Transpose the matrix\n",
    "transposed_matrix = transpose_matrix(matrix)\n",
    "\n",
    "# Print the transposed matrix\n",
    "for row in transposed_matrix:\n",
    "    print(row)\n"
   ]
  },
  {
   "cell_type": "markdown",
   "id": "4ca2d368",
   "metadata": {},
   "source": [
    "## Program 40\n",
    "#### Write a Python Program to Sort Words in Alphabetic Order."
   ]
  },
  {
   "cell_type": "code",
   "execution_count": 4,
   "id": "ce58af70",
   "metadata": {},
   "outputs": [
    {
     "name": "stdout",
     "output_type": "stream",
     "text": [
      "Enter a string: suresh ramesh vibhuti gulgule raji ram shyam ajay\n",
      "The sorted words are:\n",
      "Ajay\n",
      "Gulgule\n",
      "Raji\n",
      "Ram\n",
      "Ramesh\n",
      "Shyam\n",
      "Suresh\n",
      "Vibhuti\n"
     ]
    }
   ],
   "source": [
    "# Program to sort alphabetically the words form a string provided by the user\n",
    "\n",
    "my_str = input(\"Enter a string: \")\n",
    "\n",
    "# breakdown the string into a list of words\n",
    "words = [word.capitalize() for word in my_str.split()]\n",
    "\n",
    "# sort the list\n",
    "words.sort()\n",
    "\n",
    "# display the sorted words\n",
    "\n",
    "print(\"The sorted words are:\")\n",
    "for word in words:\n",
    "    print(word)"
   ]
  },
  {
   "cell_type": "markdown",
   "id": "f7945549",
   "metadata": {},
   "source": [
    "## Program 41\n",
    "#### Write a Python Program to Remove Punctuation From a String."
   ]
  },
  {
   "cell_type": "code",
   "execution_count": 5,
   "id": "108910f1",
   "metadata": {},
   "outputs": [
    {
     "name": "stdout",
     "output_type": "stream",
     "text": [
      "Enter a string: Hello!!!, he said ---and went\n",
      "Hello he said and went\n"
     ]
    }
   ],
   "source": [
    "# define punctuation\n",
    "punctuations = '''!()-[]{};:'\"\\,<>./?@#$%^&*_~'''\n",
    "\n",
    "\n",
    "# To take input from the user\n",
    "my_str = input(\"Enter a string: \")\n",
    "\n",
    "# remove punctuation from the string\n",
    "no_punct = \"\"\n",
    "for char in my_str:\n",
    "    if char not in punctuations:\n",
    "        no_punct = no_punct + char\n",
    "\n",
    "# display the unpunctuated string\n",
    "print(no_punct)"
   ]
  },
  {
   "cell_type": "markdown",
   "id": "b10f2d59",
   "metadata": {},
   "source": [
    "## Program 42\n",
    "#### "
   ]
  },
  {
   "cell_type": "code",
   "execution_count": null,
   "id": "7f5e39ef",
   "metadata": {},
   "outputs": [],
   "source": []
  },
  {
   "cell_type": "code",
   "execution_count": null,
   "id": "45950b9a",
   "metadata": {},
   "outputs": [],
   "source": []
  },
  {
   "cell_type": "markdown",
   "id": "d15e45f1",
   "metadata": {},
   "source": [
    "## Program 43\n",
    "#### Write a Python program to check if the given number is a Disarium Number."
   ]
  },
  {
   "cell_type": "markdown",
   "id": "81ce8989",
   "metadata": {},
   "source": [
    "A **Disarium number** is a number that is equal to the sum of its digits each raised to the power of its respective position. For example, 89 is a Disarium number because $8^1 + 9^2 = 8 + 81 = 89$."
   ]
  },
  {
   "cell_type": "code",
   "execution_count": 1,
   "id": "f221d0d6",
   "metadata": {},
   "outputs": [
    {
     "name": "stdout",
     "output_type": "stream",
     "text": [
      "Enter a number: 89\n",
      "89 is a Disarium number.\n"
     ]
    }
   ],
   "source": [
    "def is_disarium(number):\n",
    "    # Convert the number to a string to iterate over its digits\n",
    "    num_str = str(number)\n",
    "    \n",
    "    # Calculate the sum of digits raised to their respective positions\n",
    "    digit_sum = sum(int(i) ** (index + 1) for index, i in enumerate(num_str))\n",
    "    \n",
    "    # Check if the sum is equal to the original number\n",
    "    return digit_sum == number\n",
    "\n",
    "# Input a number from the user\n",
    "try:\n",
    "    num = int(input(\"Enter a number: \"))\n",
    "    \n",
    "    # Check if it's a Disarium number\n",
    "    if is_disarium(num):\n",
    "        print(f\"{num} is a Disarium number.\")\n",
    "    else:\n",
    "        print(f\"{num} is not a Disarium number.\")\n",
    "except ValueError:\n",
    "    print(\"Invalid input. Please enter a valid number.\")"
   ]
  },
  {
   "cell_type": "markdown",
   "id": "3a74f82b",
   "metadata": {},
   "source": [
    "## Program 44\n",
    "#### Write a Python program to print all disarium numbers between 1 to 100."
   ]
  },
  {
   "cell_type": "code",
   "execution_count": 2,
   "id": "78d9f76d",
   "metadata": {},
   "outputs": [
    {
     "name": "stdout",
     "output_type": "stream",
     "text": [
      "Disarium numbers between 1 and 100:\n",
      "1 | 2 | 3 | 4 | 5 | 6 | 7 | 8 | 9 | 89 | "
     ]
    }
   ],
   "source": [
    "def is_disarium(num):\n",
    "    num_str = str(num)\n",
    "    digit_sum = sum(int(i) ** (index + 1) for index, i in enumerate(num_str))\n",
    "    return num == digit_sum\n",
    "\n",
    "disarium_numbers = [num for num in range(1, 101) if is_disarium(num)]\n",
    "\n",
    "print(\"Disarium numbers between 1 and 100:\")\n",
    "for num in disarium_numbers:\n",
    "    print(num, end=\" | \")"
   ]
  },
  {
   "cell_type": "markdown",
   "id": "23e8a009",
   "metadata": {},
   "source": [
    "## Program 45\n",
    "#### Write a Python program to check if the given number is Happy Number."
   ]
  },
  {
   "cell_type": "markdown",
   "id": "e53cae0d",
   "metadata": {},
   "source": [
    "**Happy Number:**\n",
    "A Happy Number is a positive integer that, when you repeatedly replace the number by the sum of the squares of its digits and continue the process, eventually reaches 1. If the process never reaches 1 but instead loops endlessly in a cycle, the number is not a Happy Number.\n",
    "\n",
    "For example:\n",
    "\n",
    "19 is a Happy Number because:\n",
    "\n",
    "$1^2 + 9^2 = 82$\n",
    "\n",
    "$8^2 + 2^2 = 68$\n",
    "\n",
    "$6^2 + 8^2 = 100$\n",
    "\n",
    "$1^2 + 0^2 + 0^2 = 1$\n",
    "\n",
    "The process reaches 1, so 19 is a Happy Number."
   ]
  },
  {
   "cell_type": "code",
   "execution_count": 3,
   "id": "f5902301",
   "metadata": {},
   "outputs": [
    {
     "name": "stdout",
     "output_type": "stream",
     "text": [
      "Enter a number: 23\n",
      "23 is a Happy Number\n"
     ]
    }
   ],
   "source": [
    "def is_happy_number(num):\n",
    "    seen = set()  # To store previously seen numbers\n",
    "    \n",
    "    while num != 1 and num not in seen:\n",
    "        seen.add(num)\n",
    "        num = sum(int(i) ** 2 for i in str(num))\n",
    "    \n",
    "    return num == 1\n",
    "\n",
    "# Test the function with a number\n",
    "num = int(input(\"Enter a number: \"))\n",
    "if is_happy_number(num):\n",
    "    print(f\"{num} is a Happy Number\")\n",
    "else:\n",
    "    print(f\"{num} is not a Happy Number\")"
   ]
  },
  {
   "cell_type": "markdown",
   "id": "e9933304",
   "metadata": {},
   "source": [
    "## Program 46\n",
    "#### Write a Python program to print all happy numbers between 1 and 100."
   ]
  },
  {
   "cell_type": "code",
   "execution_count": 4,
   "id": "b434df11",
   "metadata": {},
   "outputs": [
    {
     "name": "stdout",
     "output_type": "stream",
     "text": [
      "Happy Numbers between 1 and 100:\n",
      "[1, 7, 10, 13, 19, 23, 28, 31, 32, 44, 49, 68, 70, 79, 82, 86, 91, 94, 97, 100]\n"
     ]
    }
   ],
   "source": [
    "def is_happy_number(num):\n",
    "    seen = set()\n",
    "    \n",
    "    while num != 1 and num not in seen:\n",
    "        seen.add(num)\n",
    "        num = sum(int(i) ** 2 for i in str(num))\n",
    "    \n",
    "    return num == 1\n",
    "\n",
    "happy_numbers = []\n",
    "\n",
    "for num in range(1, 101):\n",
    "    if is_happy_number(num):\n",
    "        happy_numbers.append(num)\n",
    "\n",
    "print(\"Happy Numbers between 1 and 100:\")\n",
    "print(happy_numbers)"
   ]
  },
  {
   "cell_type": "markdown",
   "id": "ed7c51bc",
   "metadata": {},
   "source": [
    "## Program 47\n",
    "#### Write a Python program to determine whether the given number is a Harshad Number."
   ]
  },
  {
   "cell_type": "markdown",
   "id": "e7c3bcd3",
   "metadata": {},
   "source": [
    "A **Harshad number** (or Niven number) is an integer that is divisible by the sum of its digits. In other words, a number is considered a Harshad number if it can be evenly divided by the sum of its own digits.\n",
    "\n",
    "For example:\n",
    "\n",
    "- 18 is a Harshad number because $1 + 8 = 9$, and 18 is divisible by 9\n",
    "\n",
    "- 42 is not a Harshad number because $4 + 2 = 6$, and 42 is not divisible by 6."
   ]
  },
  {
   "cell_type": "code",
   "execution_count": 5,
   "id": "b804332c",
   "metadata": {},
   "outputs": [
    {
     "name": "stdout",
     "output_type": "stream",
     "text": [
      "Enter a number: 18\n",
      "18 is a Harshad Number.\n"
     ]
    }
   ],
   "source": [
    "def is_harshad_number(num):\n",
    "    # Calculate the sum of the digits of the number\n",
    "    digit_sum = sum(int(i) for i in str(num))\n",
    "\n",
    "    # Check if the number is divisible by the sum of its digits\n",
    "    return num % digit_sum == 0\n",
    "\n",
    "# Input a number\n",
    "num = int(input(\"Enter a number: \"))\n",
    "\n",
    "# Check if it's a Harshad Number\n",
    "if is_harshad_number(num):\n",
    "    print(f\"{num} is a Harshad Number.\")\n",
    "else:\n",
    "    print(f\"{num} is not a Harshad Number.\")"
   ]
  },
  {
   "cell_type": "markdown",
   "id": "59c6c15d",
   "metadata": {},
   "source": [
    "## Program 48\n",
    "#### Write a Python program to print all pronic numbers between 1 and 100."
   ]
  },
  {
   "cell_type": "markdown",
   "id": "086f3427",
   "metadata": {},
   "source": [
    "A pronic number, also known as an oblong number or rectangular number, is a type of figurate number that represents a rectangle. It is the product of two consecutive integers, n and (n + 1). Mathematically, a pronic number can be expressed as:\n",
    "\n",
    "$P_n = n*(n + 1)$\n",
    "\n",
    "For example, the first few pronic numbers are:\n",
    "\n",
    "- $P_1 = 1*(1 + 1) = 2$\n",
    "- $P_2 = 2*(2 + 1) = 6$\n",
    "- $P_3 = 3*(3 + 1) = 12$\n",
    "- $P_4 = 4*(4 + 1) = 20$"
   ]
  },
  {
   "cell_type": "code",
   "execution_count": 6,
   "id": "427563a7",
   "metadata": {},
   "outputs": [
    {
     "name": "stdout",
     "output_type": "stream",
     "text": [
      "Pronic numbers between 1 and 100 are:\n",
      "2 | 6 | 12 | 20 | 30 | 42 | 56 | 72 | 90 | "
     ]
    }
   ],
   "source": [
    "def is_pronic_number(num):\n",
    "    for n in range(1, int(num**0.5) + 1):\n",
    "        if n * (n + 1) == num:\n",
    "            return True\n",
    "    return False\n",
    "\n",
    "print(\"Pronic numbers between 1 and 100 are:\")\n",
    "for i in range(1, 101):\n",
    "    if is_pronic_number(i):\n",
    "        print(i, end=\" | \")\n"
   ]
  },
  {
   "cell_type": "markdown",
   "id": "cda374ef",
   "metadata": {},
   "source": [
    "## Program 49\n",
    "#### Write a Python program to find sum of elements in list."
   ]
  },
  {
   "cell_type": "code",
   "execution_count": 7,
   "id": "e5ff138c",
   "metadata": {},
   "outputs": [
    {
     "name": "stdout",
     "output_type": "stream",
     "text": [
      "Sum of elements in the list: 150\n"
     ]
    }
   ],
   "source": [
    "# Sample list of numbers\n",
    "numbers = [10, 20, 30, 40, 50]\n",
    "\n",
    "# Initialize a variable to store the sum\n",
    "sum_of_numbers = 0\n",
    "\n",
    "# Iterate through the list and accumulate the sum\n",
    "for i in numbers:\n",
    "    sum_of_numbers += i\n",
    "\n",
    "# Print the sum\n",
    "print(\"Sum of elements in the list:\", sum_of_numbers)"
   ]
  },
  {
   "cell_type": "markdown",
   "id": "c5272e20",
   "metadata": {},
   "source": [
    "## Program 50\n",
    "#### Write a Python program to Multiply all numbers in the list."
   ]
  },
  {
   "cell_type": "code",
   "execution_count": 8,
   "id": "5bebf04c",
   "metadata": {},
   "outputs": [
    {
     "name": "stdout",
     "output_type": "stream",
     "text": [
      "Product of elements in the list: 12000000\n"
     ]
    }
   ],
   "source": [
    "# Sample list of numbers\n",
    "numbers = [10, 20, 30, 40, 50]\n",
    "\n",
    "# Initialize a variable to store the product\n",
    "product_of_numbers = 1\n",
    "\n",
    "# Iterate through the list and accumulate the product\n",
    "for i in numbers:\n",
    "    product_of_numbers *= i\n",
    "\n",
    "# Print the product\n",
    "print(\"Product of elements in the list:\", product_of_numbers)"
   ]
  },
  {
   "cell_type": "markdown",
   "id": "f1a8e74e",
   "metadata": {},
   "source": [
    "## Program 51\n",
    "#### Write a Python program to find smallest number in a list."
   ]
  },
  {
   "cell_type": "code",
   "execution_count": 9,
   "id": "fd771a78",
   "metadata": {},
   "outputs": [
    {
     "name": "stdout",
     "output_type": "stream",
     "text": [
      "The smallest number in the list is: -45\n"
     ]
    }
   ],
   "source": [
    "# Sample list of numbers\n",
    "numbers = [30, 10, -45, 5, 20]\n",
    "\n",
    "# Initialize a variable to store the minimum value, initially set to the first element\n",
    "minimum = numbers[0]\n",
    "\n",
    "# Iterate through the list and update the minimum value if a smaller number is found\n",
    "for i in numbers:\n",
    "    if i < minimum:\n",
    "        minimum = i\n",
    "\n",
    "# Print the minimum value\n",
    "print(\"The smallest number in the list is:\", minimum)"
   ]
  },
  {
   "cell_type": "markdown",
   "id": "04405906",
   "metadata": {},
   "source": [
    "## Program 52\n",
    "#### Write a Python program to find largest number in a list."
   ]
  },
  {
   "cell_type": "code",
   "execution_count": 10,
   "id": "d673d9b1",
   "metadata": {},
   "outputs": [
    {
     "name": "stdout",
     "output_type": "stream",
     "text": [
      "The largest number in the list is: 30\n"
     ]
    }
   ],
   "source": [
    "# Sample list of numbers\n",
    "numbers = [30, 10, -45, 5, 20]\n",
    "\n",
    "# Initialize a variable to store the minimum value, initially set to the first element\n",
    "minimum = numbers[0]\n",
    "\n",
    "# Iterate through the list and update the minimum value if a smaller number is found\n",
    "for i in numbers:\n",
    "    if i > minimum:\n",
    "        minimum = i\n",
    "\n",
    "# Print the minimum value\n",
    "print(\"The largest number in the list is:\", minimum)"
   ]
  },
  {
   "cell_type": "markdown",
   "id": "a2bf26ff",
   "metadata": {},
   "source": [
    "## Program 53\n",
    "#### Write a Python program to find second largest number in a list."
   ]
  },
  {
   "cell_type": "code",
   "execution_count": 11,
   "id": "827badc8",
   "metadata": {},
   "outputs": [
    {
     "name": "stdout",
     "output_type": "stream",
     "text": [
      "The second largest number in the list is: 30\n"
     ]
    }
   ],
   "source": [
    "# Sample list of numbers\n",
    "numbers = [30, 10, 45, 5, 20]\n",
    "\n",
    "# Sort the list in descending order\n",
    "numbers.sort(reverse=True)\n",
    "\n",
    "# Check if there are at least two elements in the list\n",
    "if len(numbers) >= 2:\n",
    "    second_largest = numbers[1]\n",
    "    print(\"The second largest number in the list is:\", second_largest)\n",
    "else:\n",
    "    print(\"The list does not contain a second largest number.\")"
   ]
  },
  {
   "cell_type": "markdown",
   "id": "9f127163",
   "metadata": {},
   "source": [
    "## Program 54\n",
    "#### Write a Python program to find N largest elements from a list."
   ]
  },
  {
   "cell_type": "code",
   "execution_count": 12,
   "id": "93b54638",
   "metadata": {},
   "outputs": [
    {
     "name": "stdout",
     "output_type": "stream",
     "text": [
      "N = 3\n",
      "The 3 largest elements in the list are: [345, 100, 98]\n"
     ]
    }
   ],
   "source": [
    "def find_n_largest_elements(lst, n):\n",
    "    # Sort the list in descending order\n",
    "    sorted_lst = sorted(lst, reverse=True)\n",
    "    \n",
    "    # Get the first N elements\n",
    "    largest_elements = sorted_lst[:n]\n",
    "    \n",
    "    return largest_elements\n",
    "\n",
    "# Sample list of numbers\n",
    "numbers = [30, 10, 45, 5, 20, 50, 15, 3, 345, 54, 67, 87, 98, 100, 34, 5, 4]\n",
    "\n",
    "# Number of largest elements to find\n",
    "N = int(input(\"N = \" ))\n",
    "\n",
    "# Find the N largest elements from the list\n",
    "result = find_n_largest_elements(numbers, N)\n",
    "\n",
    "# Print the N largest elements\n",
    "print(f\"The {N} largest elements in the list are:\", result)"
   ]
  },
  {
   "cell_type": "markdown",
   "id": "58e6fec2",
   "metadata": {},
   "source": [
    "## Program 55\n",
    "#### Write a Python program to print even numbers in a list."
   ]
  },
  {
   "cell_type": "code",
   "execution_count": 13,
   "id": "694df800",
   "metadata": {},
   "outputs": [
    {
     "name": "stdout",
     "output_type": "stream",
     "text": [
      "Even numbers in the list: [2, 4, 6, 8, 10]\n"
     ]
    }
   ],
   "source": [
    "# Sample list of numbers\n",
    "numbers = [1, 2, 3, 4, 5, 6, 7, 8, 9, 10]\n",
    "\n",
    "# Using a list comprehension to filter even numbers\n",
    "even_numbers = [num for num in numbers if num % 2 == 0]\n",
    "\n",
    "# Print the even numbers\n",
    "print(\"Even numbers in the list:\", even_numbers)"
   ]
  },
  {
   "cell_type": "markdown",
   "id": "d32814f3",
   "metadata": {},
   "source": [
    "## Program 56\n",
    "#### Write a Python program to print odd numbers in a List."
   ]
  },
  {
   "cell_type": "code",
   "execution_count": 14,
   "id": "db8a1bdf",
   "metadata": {},
   "outputs": [
    {
     "name": "stdout",
     "output_type": "stream",
     "text": [
      "Odd numbers in the list: [1, 3, 5, 7, 9]\n"
     ]
    }
   ],
   "source": [
    "# Sample list of numbers\n",
    "numbers = [1, 2, 3, 4, 5, 6, 7, 8, 9, 10]\n",
    "\n",
    "# Using a list comprehension to filter even numbers\n",
    "even_numbers = [num for num in numbers if num % 2 != 0]\n",
    "\n",
    "# Print the even numbers\n",
    "print(\"Odd numbers in the list:\", even_numbers)"
   ]
  },
  {
   "cell_type": "markdown",
   "id": "a88e43e5",
   "metadata": {},
   "source": [
    "## Program 57\n",
    "#### Write a Python program to Remove empty List from List."
   ]
  },
  {
   "cell_type": "code",
   "execution_count": 15,
   "id": "9d22e1c9",
   "metadata": {},
   "outputs": [
    {
     "name": "stdout",
     "output_type": "stream",
     "text": [
      "List after removing empty lists: [[1, 2, 3], [4, 5], [6, 7, 8]]\n"
     ]
    }
   ],
   "source": [
    "# Sample list containing lists\n",
    "list_of_lists = [[1, 2, 3], [], [4, 5], [], [6, 7, 8], []]\n",
    "\n",
    "# Using a list comprehension to remove empty lists\n",
    "filtered_list = [i for i in list_of_lists if i]\n",
    "\n",
    "# Print the filtered list\n",
    "print(\"List after removing empty lists:\", filtered_list)"
   ]
  },
  {
   "cell_type": "markdown",
   "id": "047c75cc",
   "metadata": {},
   "source": [
    "## Program 58\n",
    "#### Write a Python program to Cloning or Copying a list."
   ]
  },
  {
   "cell_type": "code",
   "execution_count": 16,
   "id": "a515ecff",
   "metadata": {},
   "outputs": [
    {
     "name": "stdout",
     "output_type": "stream",
     "text": [
      "[1, 2, 3, 4, 5]\n"
     ]
    }
   ],
   "source": [
    "# 1. Using Using the Slice Operator\n",
    "original_list = [1, 2, 3, 4, 5]\n",
    "cloned_list = original_list[:]\n",
    "print(cloned_list)"
   ]
  },
  {
   "cell_type": "code",
   "execution_count": 17,
   "id": "e6972fb9",
   "metadata": {},
   "outputs": [
    {
     "name": "stdout",
     "output_type": "stream",
     "text": [
      "[1, 2, 3, 4, 5]\n"
     ]
    }
   ],
   "source": [
    "# 2. Using the list() constructor\n",
    "original_list = [1, 2, 3, 4, 5]\n",
    "cloned_list = list(original_list)\n",
    "print(cloned_list)"
   ]
  },
  {
   "cell_type": "code",
   "execution_count": 18,
   "id": "c519654e",
   "metadata": {},
   "outputs": [
    {
     "name": "stdout",
     "output_type": "stream",
     "text": [
      "[1, 2, 3, 4, 5]\n"
     ]
    }
   ],
   "source": [
    "# 3. Using List Comprehension\n",
    "original_list = [1, 2, 3, 4, 5]\n",
    "cloned_list = [item for item in original_list]\n",
    "print(cloned_list)"
   ]
  },
  {
   "cell_type": "markdown",
   "id": "42d7fe4b",
   "metadata": {},
   "source": [
    "## Program 59\n",
    "#### Write a Python program to Count occurrences of an element in a list."
   ]
  },
  {
   "cell_type": "code",
   "execution_count": 19,
   "id": "6a7fb1a3",
   "metadata": {},
   "outputs": [
    {
     "name": "stdout",
     "output_type": "stream",
     "text": [
      "The element 2 appears 3 times in the list.\n"
     ]
    }
   ],
   "source": [
    "def count_occurrences(l, element):\n",
    "    count = l.count(element)\n",
    "    return count\n",
    "\n",
    "# Example usage:\n",
    "my_list = [1, 2, 3, 4, 2, 5, 2, 3, 4, 6, 5]\n",
    "element_to_count = 2\n",
    "\n",
    "occurrences = count_occurrences(my_list, element_to_count)\n",
    "print(f\"The element {element_to_count} appears {occurrences} times in the list.\")"
   ]
  },
  {
   "cell_type": "markdown",
   "id": "87e2d85c",
   "metadata": {},
   "source": [
    "## Program 60\n",
    "#### Write a Python program to find words which are greater than given length k."
   ]
  },
  {
   "cell_type": "code",
   "execution_count": 20,
   "id": "2fab61f6",
   "metadata": {},
   "outputs": [
    {
     "name": "stdout",
     "output_type": "stream",
     "text": [
      "Words longer than 5 characters: ['banana', 'cherry', 'elderberry', 'dragon fruit']\n"
     ]
    }
   ],
   "source": [
    "def find_words(words, k):\n",
    "    # Create an empty list to store words greater than k\n",
    "    result = []\n",
    "\n",
    "    # Iterate through each word in the list\n",
    "    for i in words:\n",
    "        # Check if the length of the i is greater than k\n",
    "        if len(i) > k:\n",
    "            # If yes, append it to the result list\n",
    "            result.append(i)\n",
    "\n",
    "    return result\n",
    "\n",
    "# Example usage\n",
    "word_list = [\"apple\", \"banana\", \"cherry\", \"date\", \"elderberry\", \"dragon fruit\"]\n",
    "k = 5\n",
    "long_words = find_words(word_list, k)\n",
    "\n",
    "print(f\"Words longer than {k} characters: {long_words}\")"
   ]
  },
  {
   "cell_type": "markdown",
   "id": "ef31bbac",
   "metadata": {},
   "source": [
    "## Program 61\n",
    "#### Write a Python program for removing $i^{th}$ character from a string."
   ]
  },
  {
   "cell_type": "code",
   "execution_count": 21,
   "id": "f28fe28d",
   "metadata": {},
   "outputs": [
    {
     "name": "stdout",
     "output_type": "stream",
     "text": [
      "Original String: Hello, wWorld!\n",
      "String after removing 7th character : Hello, World!\n"
     ]
    }
   ],
   "source": [
    "def remove_char(input_str, i):\n",
    "    # Check if i is a valid index\n",
    "    if i < 0 or i >= len(input_str):\n",
    "        print(f\"Invalid index {i}. The string remains unchanged.\")\n",
    "        return input_str\n",
    "\n",
    "    # Remove the i-th character using slicing\n",
    "    result_str = input_str[:i] + input_str[i + 1:]\n",
    "\n",
    "    return result_str\n",
    "\n",
    "# Input string\n",
    "input_str = \"Hello, wWorld!\"\n",
    "i = 7  # Index of the character to remove\n",
    "\n",
    "# Remove the i-th character\n",
    "new_str = remove_char(input_str, i)\n",
    "\n",
    "print(f\"Original String: {input_str}\")\n",
    "print(f\"String after removing {i}th character : {new_str}\")"
   ]
  },
  {
   "cell_type": "markdown",
   "id": "9fb1e85e",
   "metadata": {},
   "source": [
    "## Program 62\n",
    "####  Write a Python program to split and join a string."
   ]
  },
  {
   "cell_type": "code",
   "execution_count": 22,
   "id": "1eb7b220",
   "metadata": {},
   "outputs": [
    {
     "name": "stdout",
     "output_type": "stream",
     "text": [
      "Original String: Python program to split and join a string\n",
      "List of split Words: ['Python', 'program', 'to', 'split', 'and', 'join', 'a', 'string']\n",
      "Joined String: Python program to split and join a string\n"
     ]
    }
   ],
   "source": [
    "# Split a string into a list of words\n",
    "input_str = \"Python program to split and join a string\"\n",
    "word_list = input_str.split()  # By default, split on whitespace\n",
    "\n",
    "# Join the list of words into a string\n",
    "separator = \" \" # specify the separator between words\n",
    "output_str = separator.join(word_list)\n",
    "\n",
    "# Print the results\n",
    "print(\"Original String:\", input_str)\n",
    "print(\"List of split Words:\", word_list)\n",
    "print(\"Joined String:\", output_str)"
   ]
  },
  {
   "cell_type": "markdown",
   "id": "6258f957",
   "metadata": {},
   "source": [
    "## Program 63\n",
    "#### Write a Python program to check if a given string is binary string or not."
   ]
  },
  {
   "cell_type": "code",
   "execution_count": 23,
   "id": "97859b64",
   "metadata": {},
   "outputs": [
    {
     "name": "stdout",
     "output_type": "stream",
     "text": [
      "'1001110' is a binary string.\n"
     ]
    }
   ],
   "source": [
    "def is_binary_str(input_str):\n",
    "    # Iterate through each character in the input string\n",
    "    for i in input_str:\n",
    "        # Check if the i is not '0' or '1'\n",
    "        if i not in '01':\n",
    "            return False  # If any character is not '0' or '1', it's not a binary string\n",
    "    return True  # If all characters are '0' or '1', it's a binary string\n",
    "\n",
    "# Input string to check\n",
    "input_str = \"1001110\"\n",
    "\n",
    "# Check if the input string is a binary string\n",
    "if is_binary_str(input_str):\n",
    "    print(f\"'{input_str}' is a binary string.\")\n",
    "else:\n",
    "    print(f\"'{input_str}' is not a binary string.\")"
   ]
  },
  {
   "cell_type": "markdown",
   "id": "9fabb3fb",
   "metadata": {},
   "source": [
    "## Program 64\n",
    "#### Write a Python program to find uncommon words from two Strings."
   ]
  },
  {
   "cell_type": "code",
   "execution_count": 24,
   "id": "91e8f8e6",
   "metadata": {},
   "outputs": [
    {
     "name": "stdout",
     "output_type": "stream",
     "text": [
      "Uncommon words: ['second', 'first']\n"
     ]
    }
   ],
   "source": [
    "def uncommon_words(str1, str2):\n",
    "    # Split the strings into words and convert them to sets\n",
    "    words1 = set(str1.split())\n",
    "    words2 = set(str2.split())\n",
    "    \n",
    "    # Find uncommon words by taking the set difference\n",
    "    uncommon_words_set = words1.symmetric_difference(words2)\n",
    "    \n",
    "    # Convert the set of uncommon words back to a list\n",
    "    uncommon_words_list = list(uncommon_words_set)\n",
    "    \n",
    "    return uncommon_words_list\n",
    "\n",
    "# Input two strings\n",
    "string1 = \"This is the first string\"\n",
    "string2 = \"This is the second string\"\n",
    "\n",
    "# Find uncommon words between the two strings\n",
    "uncommon = uncommon_words(string1, string2)\n",
    "\n",
    "# Print the uncommon words\n",
    "print(\"Uncommon words:\", uncommon)"
   ]
  },
  {
   "cell_type": "markdown",
   "id": "963daac8",
   "metadata": {},
   "source": [
    "## Program 65\n",
    "#### Write a Python program to find all duplicate characters in string."
   ]
  },
  {
   "cell_type": "code",
   "execution_count": 25,
   "id": "54494c45",
   "metadata": {},
   "outputs": [
    {
     "name": "stdout",
     "output_type": "stream",
     "text": [
      "Duplicate characters: ['s', 'h', 'a']\n"
     ]
    }
   ],
   "source": [
    "def find_duplicates(input_str):\n",
    "    # Create an empty dictionary to store character counts\n",
    "    char_count = {}\n",
    "    \n",
    "    # Initialize a list to store duplicate characters\n",
    "    duplicates = []\n",
    "    \n",
    "    # Iterate through each character in the input string\n",
    "    for i in input_str:\n",
    "        # If the character is already in the dictionary, increment its count\n",
    "        if i in char_count:\n",
    "            char_count[i] += 1\n",
    "        else:\n",
    "            char_count[i] = 1\n",
    "    \n",
    "    # Iterate through the dictionary and add characters with count > 1 to duplicates list\n",
    "    for i, count in char_count.items():\n",
    "        if count > 1:\n",
    "            duplicates.append(i)\n",
    "    \n",
    "    return duplicates\n",
    "\n",
    "# Input a string\n",
    "input_string = \"piyush sharma\"\n",
    "\n",
    "# Find duplicate characters in the string\n",
    "duplicate_chars = find_duplicates(input_string)\n",
    "\n",
    "# Print the list of duplicate characters\n",
    "print(\"Duplicate characters:\", duplicate_chars)"
   ]
  },
  {
   "cell_type": "markdown",
   "id": "3e9afcbb",
   "metadata": {},
   "source": [
    "## Program 66\n",
    "#### Write a Python Program to check if a string contains any special character."
   ]
  },
  {
   "cell_type": "code",
   "execution_count": 26,
   "id": "ef409d5c",
   "metadata": {},
   "outputs": [
    {
     "name": "stdout",
     "output_type": "stream",
     "text": [
      "Enter a string: \"Hello, World!\"\n",
      "The string contains special characters.\n"
     ]
    }
   ],
   "source": [
    "import re\n",
    "\n",
    "def check_special_char(in_str):\n",
    "    # Define a regular expression pattern to match special characters\n",
    "    pattern = r'[!@#$%^&*()_+{}\\[\\]:;<>,.?~\\\\\\/\\'\"\\-=]'\n",
    "\n",
    "    # Use re.search to find a match in the input string\n",
    "    if re.search(pattern, in_str):\n",
    "        return True\n",
    "    else:\n",
    "        return False\n",
    "\n",
    "# Input a string\n",
    "input_string = str(input(\"Enter a string: \"))\n",
    "\n",
    "# Check if the string contains any special characters\n",
    "contains_special = check_special_char(input_string)\n",
    "\n",
    "# Print the result\n",
    "if contains_special:\n",
    "    print(\"The string contains special characters.\")\n",
    "else:\n",
    "    print(\"The string does not contain special characters.\")"
   ]
  },
  {
   "cell_type": "markdown",
   "id": "f3decced",
   "metadata": {},
   "source": [
    "## Program 67\n",
    "#### Write a Python program to Extract Unique dictionary values."
   ]
  },
  {
   "cell_type": "code",
   "execution_count": 27,
   "id": "799238c8",
   "metadata": {},
   "outputs": [
    {
     "name": "stdout",
     "output_type": "stream",
     "text": [
      "Unique values in the dictionary: [10, 20, 30]\n"
     ]
    }
   ],
   "source": [
    "# Sample dictionary\n",
    "my_dict = {\n",
    "    'a': 10,\n",
    "    'b': 20,\n",
    "    'c': 10,\n",
    "    'd': 30,\n",
    "    'e': 20\n",
    "}\n",
    "\n",
    "# Initialize an empty set to store unique values\n",
    "uni_val = set()\n",
    "\n",
    "# Iterate through the values of the dictionary\n",
    "for i in my_dict.values():\n",
    "    # Add each value to the set\n",
    "    uni_val.add(i)\n",
    "\n",
    "# Convert the set of unique values back to a list (if needed)\n",
    "unique_values_list = list(uni_val)\n",
    "\n",
    "# Print the unique values\n",
    "print(\"Unique values in the dictionary:\", unique_values_list)"
   ]
  },
  {
   "cell_type": "markdown",
   "id": "2e61b7c7",
   "metadata": {},
   "source": [
    "## Program 68\n",
    "#### Write a Python program to find the sum of all items in a dictionary."
   ]
  },
  {
   "cell_type": "code",
   "execution_count": 28,
   "id": "fc688b8c",
   "metadata": {},
   "outputs": [
    {
     "name": "stdout",
     "output_type": "stream",
     "text": [
      "Sum of all items in the dictionary: 150\n"
     ]
    }
   ],
   "source": [
    "# Sample dictionary\n",
    "my_dict = {\n",
    "    'a': 10,\n",
    "    'b': 20,\n",
    "    'c': 30,\n",
    "    'd': 40,\n",
    "    'e': 50\n",
    "}\n",
    "\n",
    "# Initialize a variable to store the sum\n",
    "total_sum = 0\n",
    "\n",
    "# Iterate through the values of the dictionary and add them to the total_sum\n",
    "for i in my_dict.values():\n",
    "    total_sum += i\n",
    "\n",
    "# Print the sum of all items in the dictionary\n",
    "print(\"Sum of all items in the dictionary:\", total_sum)"
   ]
  },
  {
   "cell_type": "markdown",
   "id": "98d1a477",
   "metadata": {},
   "source": [
    "## Program 69\n",
    "#### Write a Python program to Merging two Dictionaries."
   ]
  },
  {
   "cell_type": "code",
   "execution_count": 29,
   "id": "de0aa021",
   "metadata": {},
   "outputs": [
    {
     "name": "stdout",
     "output_type": "stream",
     "text": [
      "Merged Dictionary (using update()): {'a': 1, 'b': 2, 'c': 3, 'd': 4}\n"
     ]
    }
   ],
   "source": [
    "# 1. Using the update() method:\n",
    "\n",
    "dict1 = {'a': 1, 'b': 2}\n",
    "dict2 = {'c': 3, 'd': 4}\n",
    "\n",
    "dict1.update(dict2)\n",
    "\n",
    "# The merged dictionary is now in dict1\n",
    "print(\"Merged Dictionary (using update()):\", dict1)"
   ]
  },
  {
   "cell_type": "code",
   "execution_count": 30,
   "id": "2d91c74a",
   "metadata": {},
   "outputs": [
    {
     "name": "stdout",
     "output_type": "stream",
     "text": [
      "Merged Dictionary (using dictionary unpacking): {'a': 1, 'b': 2, 'c': 3, 'd': 4}\n"
     ]
    }
   ],
   "source": [
    "# 2. Using dictionary unpacking\n",
    "\n",
    "dict1 = {'a': 1, 'b': 2}\n",
    "dict2 = {'c': 3, 'd': 4}\n",
    "\n",
    "# Merge dict2 into dict1 using dictionary unpacking\n",
    "merged_dict = {**dict1, **dict2}\n",
    "\n",
    "# The merged dictionary is now in merged_dict\n",
    "print(\"Merged Dictionary (using dictionary unpacking):\", merged_dict)"
   ]
  },
  {
   "cell_type": "markdown",
   "id": "26a4f1f4",
   "metadata": {},
   "source": [
    "## Program 70\n",
    "#### Write a Python program to convert key-values list to flat dictionary."
   ]
  },
  {
   "cell_type": "code",
   "execution_count": 31,
   "id": "ef41839b",
   "metadata": {},
   "outputs": [
    {
     "name": "stdout",
     "output_type": "stream",
     "text": [
      "Flat Dictionary: {'a': 1, 'b': 2, 'c': 3, 'd': 4}\n"
     ]
    }
   ],
   "source": [
    "key_values_list = [('a', 1), ('b', 2), ('c', 3), ('d', 4)]\n",
    "\n",
    "# Initialize an empty dictionary\n",
    "flat_dict = {}\n",
    "\n",
    "# Iterate through the list and add key-value pairs to the dictionary\n",
    "for key, value in key_values_list:\n",
    "    flat_dict[key] = value\n",
    "\n",
    "# Print the resulting flat dictionary\n",
    "print(\"Flat Dictionary:\", flat_dict)"
   ]
  },
  {
   "cell_type": "markdown",
   "id": "b485bf13",
   "metadata": {},
   "source": [
    "## Program 71\n",
    "#### Write a Python program to insertion at the beginning in OrderedDict."
   ]
  },
  {
   "cell_type": "code",
   "execution_count": 32,
   "id": "bcd5c2bc",
   "metadata": {},
   "outputs": [
    {
     "name": "stdout",
     "output_type": "stream",
     "text": [
      "Updated OrderedDict: OrderedDict([('a', 1), ('b', 2), ('c', 3), ('d', 4)])\n"
     ]
    }
   ],
   "source": [
    "from collections import OrderedDict\n",
    "\n",
    "# Create an OrderedDict\n",
    "ordered_dict = OrderedDict([('b', 2), ('c', 3), ('d', 4)])\n",
    "\n",
    "# Item to insert at the beginning\n",
    "new_item = ('a', 1)\n",
    "\n",
    "# Create a new OrderedDict with the new item as the first element\n",
    "new_ordered_dict = OrderedDict([new_item])\n",
    "\n",
    "# Merge the new OrderedDict with the original OrderedDict\n",
    "new_ordered_dict.update(ordered_dict)\n",
    "\n",
    "# Print the updated OrderedDict\n",
    "print(\"Updated OrderedDict:\", new_ordered_dict)"
   ]
  },
  {
   "cell_type": "markdown",
   "id": "5d2c4e65",
   "metadata": {},
   "source": [
    "## Program 72\n",
    "#### Write a Python program to check order of character in string using OrderedDict()."
   ]
  },
  {
   "cell_type": "code",
   "execution_count": 33,
   "id": "475c5fb4",
   "metadata": {},
   "outputs": [
    {
     "name": "stdout",
     "output_type": "stream",
     "text": [
      "The order of characters in the input string matches the reference string.\n"
     ]
    }
   ],
   "source": [
    "from collections import OrderedDict\n",
    "\n",
    "def check_order(string, reference):\n",
    "    # Create OrderedDicts for both strings\n",
    "    string_dict = OrderedDict.fromkeys(string)\n",
    "    reference_dict = OrderedDict.fromkeys(reference)\n",
    "    \n",
    "    # Check if the OrderedDict for the string matches the OrderedDict for the reference\n",
    "    return string_dict == reference_dict\n",
    "\n",
    "# Input strings\n",
    "input_string = \"hello world\"\n",
    "reference_string = \"helo wrd\"\n",
    "\n",
    "# Check if the order of characters in input_string matches reference_string\n",
    "if check_order(input_string, reference_string):\n",
    "    print(\"The order of characters in the input string matches the reference string.\")\n",
    "else:\n",
    "    print(\"The order of characters in the input string does not match the reference string.\")\n"
   ]
  },
  {
   "cell_type": "markdown",
   "id": "3554659d",
   "metadata": {},
   "source": [
    "## Program 73\n",
    "#### Write a Python program to sort Python Dictionaries by Key or Value."
   ]
  },
  {
   "cell_type": "code",
   "execution_count": 34,
   "id": "85b6ace4",
   "metadata": {},
   "outputs": [
    {
     "name": "stdout",
     "output_type": "stream",
     "text": [
      "Sorted by keys:\n",
      "apple: 3\n",
      "banana: 1\n",
      "cherry: 2\n",
      "date: 4\n"
     ]
    }
   ],
   "source": [
    "# Sort by Keys:\n",
    "\n",
    "sample_dict = {'apple': 3, 'banana': 1, 'cherry': 2, 'date': 4}\n",
    "\n",
    "sorted_dict_by_keys = dict(sorted(sample_dict.items()))\n",
    "\n",
    "print(\"Sorted by keys:\")\n",
    "for key, value in sorted_dict_by_keys.items():\n",
    "    print(f\"{key}: {value}\")"
   ]
  },
  {
   "cell_type": "code",
   "execution_count": 35,
   "id": "0a3788ae",
   "metadata": {},
   "outputs": [
    {
     "name": "stdout",
     "output_type": "stream",
     "text": [
      "Sorted by values:\n",
      "banana: 1\n",
      "cherry: 2\n",
      "apple: 3\n",
      "date: 4\n"
     ]
    }
   ],
   "source": [
    "# Sort by values\n",
    "\n",
    "sample_dict = {'apple': 3, 'banana': 1, 'cherry': 2, 'date': 4}\n",
    "\n",
    "sorted_dict_by_values = dict(sorted(sample_dict.items(), key=lambda item: item[1]))\n",
    "\n",
    "print(\"Sorted by values:\")\n",
    "for key, value in sorted_dict_by_values.items():\n",
    "    print(f\"{key}: {value}\")"
   ]
  },
  {
   "cell_type": "markdown",
   "id": "acaaa3b5",
   "metadata": {},
   "source": [
    "## Program 74\n",
    "\n",
    "\n",
    "**Write a program that calculates and prints the value according to the given formula:**\n",
    "\n",
    "$Q = \\text{Square root of } \\frac{2  C  D}{H}$\n",
    "\n",
    "**Following are the fixed values of C and H:**\n",
    "\n",
    "**C is 50. H is 30.**\n",
    "\n",
    "**D is the variable whose values should be input to your program in a comma-separated sequence.**\n",
    "\n",
    "**Example**\n",
    "\n",
    "**Let us assume the following comma separated input sequence is given to the program:**\n",
    "\n",
    "**100,150,180**\n",
    "\n",
    "**The output of the program should be:**\n",
    "\n",
    "**18,22,24**"
   ]
  },
  {
   "cell_type": "code",
   "execution_count": 36,
   "id": "6b0e6be1",
   "metadata": {},
   "outputs": [
    {
     "name": "stdout",
     "output_type": "stream",
     "text": [
      "Enter comma-separated values of D: 100,150,180\n",
      "18,22,24\n"
     ]
    }
   ],
   "source": [
    "import math\n",
    "\n",
    "# Fixed values\n",
    "C = 50\n",
    "H = 30\n",
    "\n",
    "# Function to calculate Q\n",
    "def calculate_Q(D):\n",
    "    return int(math.sqrt((2 * C * D) / H))\n",
    "\n",
    "# Input comma-separated sequence of D values\n",
    "input_sequence = input(\"Enter comma-separated values of D: \")\n",
    "D_values = input_sequence.split(',')\n",
    "\n",
    "# Calculate and print Q for each D value\n",
    "result = [calculate_Q(int(D)) for D in D_values]\n",
    "print(','.join(map(str, result)))"
   ]
  },
  {
   "cell_type": "markdown",
   "id": "a461f95b",
   "metadata": {},
   "source": [
    "## Program 75\n",
    "**Write a program which takes 2 digits, X,Y as input and generates a 2-dimensional array. The\n",
    "element value in the i-th row and j-th column of the array should be i*j.**\n",
    "\n",
    "**Note: i=0,1.., X-1; j=0,1,¡Y-1.**\n",
    "\n",
    "**Example**\n",
    "\n",
    "**Suppose the following inputs are given to the program:**\n",
    "\n",
    "**3,5**\n",
    "\n",
    "**Then, the output of the program should be:**\n",
    "\n",
    "**[[0, 0, 0, 0, 0], [0, 1, 2, 3, 4], [0, 2, 4, 6, 8]]**"
   ]
  },
  {
   "cell_type": "code",
   "execution_count": 37,
   "id": "4fe302b1",
   "metadata": {},
   "outputs": [
    {
     "name": "stdout",
     "output_type": "stream",
     "text": [
      "Enter two digits (X, Y): 3,5\n",
      "[0, 0, 0, 0, 0]\n",
      "[0, 1, 2, 3, 4]\n",
      "[0, 2, 4, 6, 8]\n"
     ]
    }
   ],
   "source": [
    "# Input two digits, X and Y\n",
    "X, Y = map(int, input(\"Enter two digits (X, Y): \").split(','))\n",
    "\n",
    "# Initialize a 2D array filled with zeros\n",
    "array = [[0 for j in range(Y)] for i in range(X)]\n",
    "\n",
    "# Fill the array with values i * j\n",
    "for i in range(X):\n",
    "    for j in range(Y):\n",
    "        array[i][j] = i * j\n",
    "\n",
    "# Print the 2D array\n",
    "for row in array:\n",
    "    print(row)"
   ]
  },
  {
   "cell_type": "markdown",
   "id": "20bbd27e",
   "metadata": {},
   "source": [
    "## Program 76\n",
    "**Write a program that accepts a comma separated sequence of words as input and prints the\n",
    "words in a comma-separated sequence after sorting them alphabetically.**\n",
    "\n",
    "**Suppose the following input is supplied to the program:**\n",
    "\n",
    "**without,hello,bag,world**\n",
    "\n",
    "**Then, the output should be:**\n",
    "\n",
    "**bag,hello,without,world**"
   ]
  },
  {
   "cell_type": "code",
   "execution_count": 38,
   "id": "123567b0",
   "metadata": {},
   "outputs": [
    {
     "name": "stdout",
     "output_type": "stream",
     "text": [
      "Enter a comma-separated sequence of words: without, hello, bag, world\n",
      "Sorted words:  bag, hello, world,without\n"
     ]
    }
   ],
   "source": [
    "# Accept input from the user\n",
    "input_sequence = input(\"Enter a comma-separated sequence of words: \")\n",
    "\n",
    "# Split the input into a list of words\n",
    "words = input_sequence.split(',')\n",
    "\n",
    "# Sort the words alphabetically\n",
    "sorted_words = sorted(words)\n",
    "\n",
    "# Join the sorted words into a comma-separated sequence\n",
    "sorted_sequence = ','.join(sorted_words)\n",
    "\n",
    "# Print the sorted sequence\n",
    "print(\"Sorted words:\", sorted_sequence)"
   ]
  },
  {
   "cell_type": "markdown",
   "id": "62378cff",
   "metadata": {},
   "source": [
    "## Program 77\n",
    "**Write a program that accepts a sequence of whitespace separated words as input and prints\n",
    "the words after removing all duplicate words and sorting them alphanumerically.**\n",
    "\n",
    "**Suppose the following input is supplied to the program:**\n",
    "\n",
    "**hello world and practice makes perfect and hello world again**\n",
    "\n",
    "**Then, the output should be:**\n",
    "\n",
    "**again and hello makes perfect practice world**"
   ]
  },
  {
   "cell_type": "code",
   "execution_count": 39,
   "id": "669fcf6e",
   "metadata": {},
   "outputs": [
    {
     "name": "stdout",
     "output_type": "stream",
     "text": [
      "Enter a sequence of whitespace-separated words: hello world and practice makes perfect and hello world again\n",
      "Result: again and hello makes perfect practice world\n"
     ]
    }
   ],
   "source": [
    "# Accept input from the user\n",
    "input_sequence = input(\"Enter a sequence of whitespace-separated words: \")\n",
    "\n",
    "# Split the input into words and convert it into a set to remove duplicates\n",
    "words = set(input_sequence.split())\n",
    "\n",
    "# Sort the unique words alphanumerically\n",
    "sorted_words = sorted(words)\n",
    "\n",
    "# Join the sorted words into a string with whitespace separation\n",
    "result = ' '.join(sorted_words)\n",
    "\n",
    "# Print the result\n",
    "print(\"Result:\", result)"
   ]
  },
  {
   "cell_type": "markdown",
   "id": "2c1b6838",
   "metadata": {},
   "source": [
    "## Program 79\n",
    "**Write a program that accepts a sentence and calculate the number of letters and digits. Suppose the following input is supplied to the program:**\n",
    "\n",
    "**hello world! 123**\n",
    "\n",
    "**Then, the output should be:**\n",
    "\n",
    "**LETTERS 10**\n",
    "\n",
    "**DIGITS 3**"
   ]
  },
  {
   "cell_type": "code",
   "execution_count": 40,
   "id": "3e250845",
   "metadata": {},
   "outputs": [
    {
     "name": "stdout",
     "output_type": "stream",
     "text": [
      "Enter a sentence: hello world! 123\n",
      "LETTERS 10\n",
      "DIGITS 3\n"
     ]
    }
   ],
   "source": [
    "# Accept input from the user\n",
    "sentence = input(\"Enter a sentence: \")\n",
    "\n",
    "# Initialize counters for letters and digits\n",
    "letter_count = 0\n",
    "digit_count = 0\n",
    "\n",
    "# Iterate through each character in the sentence\n",
    "for char in sentence:\n",
    "    if char.isalpha():\n",
    "        letter_count += 1\n",
    "    elif char.isdigit():\n",
    "        digit_count += 1\n",
    "\n",
    "# Print the results\n",
    "print(\"LETTERS\", letter_count)\n",
    "print(\"DIGITS\", digit_count)"
   ]
  },
  {
   "cell_type": "markdown",
   "id": "fac1ec10",
   "metadata": {},
   "source": [
    "## Program 80\n",
    "\n",
    "\n",
    "**A website requires the users to input username and password to register. Write a program to check the validity of password input by users. Following are the criteria for checking the password:**\n",
    "\n",
    "**1. At least 1 letter between [a-z]**\n",
    "\n",
    "**2. At least 1 number between [0-9]**\n",
    "\n",
    "**1. At least 1 letter between [A-Z]**\n",
    "\n",
    "3. At least 1 character from [$#@]\n",
    "\n",
    "**4. Minimum length of transaction password: 6**\n",
    "\n",
    "**5. Maximum length of transaction password: 12**\n",
    "\n",
    "**Your program should accept a sequence of comma separated passwords and will check them\n",
    "according to the above criteria. Passwords that match the criteria are to be printed, each\n",
    "separated by a comma.**\n",
    "\n",
    "**Example**\n",
    "\n",
    "**If the following passwords are given as input to the program:**\n",
    "\n",
    "**ABd1234@1,a F1#,2w3E*,2We3345**\n",
    "\n",
    "**Then, the output of the program should be:**\n",
    "\n",
    "**ABd1234@1**"
   ]
  },
  {
   "cell_type": "code",
   "execution_count": 41,
   "id": "aa5768bf",
   "metadata": {},
   "outputs": [
    {
     "name": "stdout",
     "output_type": "stream",
     "text": [
      "Enter passwords separated by commas:  ABd1234@1,a F1#,2w3E*,2We3345\n",
      " ABd1234@1\n"
     ]
    }
   ],
   "source": [
    "import re\n",
    "\n",
    "# Function to check if a password is valid\n",
    "def is_valid_password(password):\n",
    "    # Check the length of the password\n",
    "    if 6 <= len(password) <= 12:\n",
    "        # Check if the password matches all the criteria using regular expressions\n",
    "        if re.match(r\"^(?=.*[a-z])(?=.*[A-Z])(?=.*[0-9])(?=.*[$#@])\", password):\n",
    "            return True\n",
    "    return False\n",
    "\n",
    "# Accept input from the user as comma-separated passwords\n",
    "passwords = input(\"Enter passwords separated by commas: \").split(',')\n",
    "\n",
    "# Initialize a list to store valid passwords\n",
    "valid_passwords = []\n",
    "\n",
    "# Iterate through the passwords and check their validity\n",
    "for psw in passwords:\n",
    "    if is_valid_password(psw):\n",
    "        valid_passwords.append(psw)\n",
    "\n",
    "# Print the valid passwords separated by commas\n",
    "print(','.join(valid_passwords))"
   ]
  },
  {
   "cell_type": "markdown",
   "id": "e476d253",
   "metadata": {},
   "source": [
    "## Program 81\n",
    "**Define a class with a generator which can iterate the numbers, which are divisible by 7, between a given range 0 and n.**"
   ]
  },
  {
   "cell_type": "code",
   "execution_count": 42,
   "id": "b0f15d75",
   "metadata": {},
   "outputs": [],
   "source": [
    "class DivisibleBySeven:\n",
    "    def __init__(self,n):\n",
    "        self.n = n\n",
    "    \n",
    "    def generate_divisible_by_seven(self):\n",
    "        for num in range(self.n + 1):\n",
    "            if num%7 == 0:\n",
    "                yield num"
   ]
  },
  {
   "cell_type": "code",
   "execution_count": 43,
   "id": "45383793",
   "metadata": {},
   "outputs": [
    {
     "name": "stdout",
     "output_type": "stream",
     "text": [
      "Enter your desired range: 50\n",
      "0\n",
      "7\n",
      "14\n",
      "21\n",
      "28\n",
      "35\n",
      "42\n",
      "49\n"
     ]
    }
   ],
   "source": [
    "n = int(input(\"Enter your desired range: \"))\n",
    "\n",
    "divisible_by_seven_generator = DivisibleBySeven(n).generate_divisible_by_seven()\n",
    "\n",
    "for num in divisible_by_seven_generator:\n",
    "    print(num)"
   ]
  },
  {
   "cell_type": "markdown",
   "id": "7d546d65",
   "metadata": {},
   "source": [
    "## Program 82\n",
    "**Write a program to compute the frequency of the words from the input. The output should output after sorting the key alphanumerically. Suppose the following input is supplied to the program:**\n",
    "\n",
    "**New to Python or choosing between Python 2 and Python 3? Read Python 2 or Python 3.**\n",
    "\n",
    "**Then, the output should be:**\n",
    "\n",
    "**2:2**\n",
    "\n",
    "**3.:1**\n",
    "\n",
    "**3?:1**\n",
    "\n",
    "**New:1**\n",
    "\n",
    "**Python:5**\n",
    "\n",
    "**Read:1**\n",
    "\n",
    "**and:1**\n",
    "\n",
    "**between:1**\n",
    "\n",
    "**choosing:1**\n",
    "\n",
    "**or:2**\n",
    "\n",
    "**to:1**"
   ]
  },
  {
   "cell_type": "code",
   "execution_count": 44,
   "id": "d7b1db16",
   "metadata": {},
   "outputs": [
    {
     "name": "stdout",
     "output_type": "stream",
     "text": [
      "Enter a sentence: New to Python or choosing between Python 2 and Python 3? Read Python 2 or Python 3.\n",
      "2:2\n",
      "3:2\n",
      "and:1\n",
      "between:1\n",
      "choosing:1\n",
      "new:1\n",
      "or:2\n",
      "python:5\n",
      "read:1\n",
      "to:1\n"
     ]
    }
   ],
   "source": [
    "input_sentence = input(\"Enter a sentence: \")\n",
    "\n",
    "# Split the sentence into words\n",
    "words = input_sentence.split()\n",
    "\n",
    "# Create a dictionary to store word frequencies\n",
    "word_freq = {}\n",
    "\n",
    "# Count word frequencies\n",
    "for word in words:\n",
    "    # Remove punctuation (., ?) from the word\n",
    "    word = word.strip('.,?')\n",
    "    # Convert the word to lowercase to ensure case-insensitive counting\n",
    "    word = word.lower()\n",
    "    # Update the word frequency in the dictionary\n",
    "    if word in word_freq:\n",
    "        word_freq[word] += 1\n",
    "    else:\n",
    "        word_freq[word] = 1\n",
    "\n",
    "# Sort the words alphanumerically\n",
    "sorted_words = sorted(word_freq.items())\n",
    "\n",
    "# Print the word frequencies\n",
    "for word, frequency in sorted_words:\n",
    "    print(f\"{word}:{frequency}\")"
   ]
  },
  {
   "cell_type": "markdown",
   "id": "214e16d1",
   "metadata": {},
   "source": [
    "## Program 83\n",
    "**Define a class Person and its two child classes: Male and Female. All classes have a method \"getGender\" which can print \"Male\" for Male class and \"Female\" for Female class.**"
   ]
  },
  {
   "cell_type": "code",
   "execution_count": 45,
   "id": "85278d24",
   "metadata": {},
   "outputs": [],
   "source": [
    "class Person:\n",
    "    def getGender(self):\n",
    "        return \"Unknown\"\n",
    "\n",
    "class Male(Person):\n",
    "    def getGender(self):\n",
    "        return \"Male\"\n",
    "\n",
    "class Female(Person):\n",
    "    def getGender(self):\n",
    "        return \"Female\""
   ]
  },
  {
   "cell_type": "code",
   "execution_count": 46,
   "id": "c35099c6",
   "metadata": {},
   "outputs": [
    {
     "name": "stdout",
     "output_type": "stream",
     "text": [
      "Unknown\n",
      "Male\n",
      "Female\n"
     ]
    }
   ],
   "source": [
    "person = Person()\n",
    "male = Male()\n",
    "female = Female()\n",
    "\n",
    "print(person.getGender())  \n",
    "print(male.getGender())    \n",
    "print(female.getGender()) "
   ]
  },
  {
   "cell_type": "markdown",
   "id": "ff478396",
   "metadata": {},
   "source": [
    "## Program 84\n",
    "**Please write a program to generate all sentences where subject is in [\"I\", \"You\"] and verb is in [\"Play\", \"Love\"] and the object is in [\"Hockey\",\"Football\"].**"
   ]
  },
  {
   "cell_type": "code",
   "execution_count": 47,
   "id": "3708f89f",
   "metadata": {},
   "outputs": [
    {
     "name": "stdout",
     "output_type": "stream",
     "text": [
      "I Play Hockey.\n",
      "I Play Football.\n",
      "I Love Hockey.\n",
      "I Love Football.\n",
      "You Play Hockey.\n",
      "You Play Football.\n",
      "You Love Hockey.\n",
      "You Love Football.\n"
     ]
    }
   ],
   "source": [
    "subjects = [\"I\", \"You\"]\n",
    "verbs = [\"Play\", \"Love\"]\n",
    "objects = [\"Hockey\", \"Football\"]\n",
    "\n",
    "sentences = []\n",
    "\n",
    "for sub in subjects:\n",
    "    for vrb in verbs:\n",
    "        for obj in objects:\n",
    "            sentence = f\"{sub} {vrb} {obj}.\"\n",
    "            sentences.append(sentence)\n",
    "\n",
    "for sentence in sentences:\n",
    "    print(sentence)"
   ]
  },
  {
   "cell_type": "markdown",
   "id": "253165e3",
   "metadata": {},
   "source": [
    "## Program 85\n",
    "**Please write a program to compress and decompress the string \"hello world!hello world!hello world!hello world!\".**"
   ]
  },
  {
   "cell_type": "code",
   "execution_count": 48,
   "id": "51cfdf6e",
   "metadata": {},
   "outputs": [
    {
     "name": "stdout",
     "output_type": "stream",
     "text": [
      "Original String: hello world!hello world!hello world!hello world!\n",
      "Compressed String: b'x\\x9c\\xcbH\\xcd\\xc9\\xc9W(\\xcf/\\xcaIQ\\xcc \\x82\\r\\x00\\xbd[\\x11\\xf5'\n",
      "Decompressed String: hello world!hello world!hello world!hello world!\n"
     ]
    }
   ],
   "source": [
    "import zlib\n",
    "\n",
    "string = \"hello world!hello world!hello world!hello world!\"\n",
    "\n",
    "# Compress the string\n",
    "compressed_string = zlib.compress(string.encode())\n",
    "\n",
    "# Decompress the string\n",
    "decompressed_string = zlib.decompress(compressed_string).decode()\n",
    "\n",
    "print(\"Original String:\", string)\n",
    "print(\"Compressed String:\", compressed_string)\n",
    "print(\"Decompressed String:\", decompressed_string)"
   ]
  },
  {
   "cell_type": "markdown",
   "id": "77808b6a",
   "metadata": {},
   "source": [
    "## Program 86\n",
    "\n",
    "**Please write a binary search function which searches an item in a sorted list. The function should return the index of element to be searched in the list.**"
   ]
  },
  {
   "cell_type": "code",
   "execution_count": 49,
   "id": "490501bf",
   "metadata": {},
   "outputs": [
    {
     "name": "stdout",
     "output_type": "stream",
     "text": [
      "Element 4 found at index 3\n"
     ]
    }
   ],
   "source": [
    "def binary_search(arr, target):\n",
    "    left, right = 0, len(arr) - 1\n",
    "\n",
    "    while left <= right:\n",
    "        mid = (left + right) // 2\n",
    "\n",
    "        if arr[mid] == target:\n",
    "            return mid  # Element found, return its index\n",
    "        elif arr[mid] < target:\n",
    "            left = mid + 1  # Target is in the right half\n",
    "        else:\n",
    "            right = mid - 1  # Target is in the left half\n",
    "\n",
    "    return -1  # Element not found in the list\n",
    "\n",
    "# Example usage:\n",
    "sorted_list = [1, 2, 3, 4, 5, 6, 7, 8, 9]\n",
    "target_element = 4\n",
    "\n",
    "result = binary_search(sorted_list, target_element)\n",
    "\n",
    "if result != -1:\n",
    "    print(f\"Element {target_element} found at index {result}\")\n",
    "else:\n",
    "    print(f\"Element {target_element} not found in the list\")"
   ]
  },
  {
   "cell_type": "markdown",
   "id": "c9c75e87",
   "metadata": {},
   "source": [
    "## Program 87\n",
    "**Please write a program using generator to print the numbers which can be divisible by 5 and 7 between 0 and n in comma separated form while n is input by console.**\n",
    "\n",
    "**Example:**\n",
    "\n",
    "**If the following n is given as input to the program:**\n",
    "\n",
    "**100**\n",
    "\n",
    "**Then, the output of the program should be:**\n",
    "\n",
    "**0,35,70**"
   ]
  },
  {
   "cell_type": "code",
   "execution_count": 50,
   "id": "217f741c",
   "metadata": {},
   "outputs": [],
   "source": [
    "def divisible_by_5_and_7(n):\n",
    "    for num in range(n + 1):\n",
    "        if num % 5 == 0 and num % 7 == 0:\n",
    "            yield num"
   ]
  },
  {
   "cell_type": "code",
   "execution_count": 51,
   "id": "4b80f310",
   "metadata": {},
   "outputs": [
    {
     "name": "stdout",
     "output_type": "stream",
     "text": [
      "Enter a value for n: 100\n",
      "0,35,70\n"
     ]
    }
   ],
   "source": [
    "try:\n",
    "    n = int(input(\"Enter a value for n: \"))\n",
    "    result = divisible_by_5_and_7(n)\n",
    "    print(','.join(map(str, result)))\n",
    "except ValueError:\n",
    "    print(\"Invalid input. Please enter a valid integer for n.\")"
   ]
  },
  {
   "cell_type": "markdown",
   "id": "9485af61",
   "metadata": {},
   "source": [
    "## Program 88\n",
    "**Please write a program using generator to print the even numbers between 0 and n in comma separated form while n is input by console.**\n",
    "\n",
    "**Example:**\n",
    "\n",
    "**If the following n is given as input to the program:**\n",
    "\n",
    "**10**\n",
    "\n",
    "**Then, the output of the program should be:**\n",
    "\n",
    "**0,2,4,6,8,10**"
   ]
  },
  {
   "cell_type": "code",
   "execution_count": 52,
   "id": "3c301d7d",
   "metadata": {},
   "outputs": [],
   "source": [
    "def even_numbers(n):\n",
    "    for num in range(n + 1):\n",
    "        if num % 2 == 0:\n",
    "            yield num"
   ]
  },
  {
   "cell_type": "code",
   "execution_count": 53,
   "id": "d06aced4",
   "metadata": {},
   "outputs": [
    {
     "name": "stdout",
     "output_type": "stream",
     "text": [
      "Enter a value for n: 10\n",
      "0,2,4,6,8,10\n"
     ]
    }
   ],
   "source": [
    "try:\n",
    "    n = int(input(\"Enter a value for n: \"))\n",
    "    result = even_numbers(n)\n",
    "    print(','.join(map(str, result)))\n",
    "except ValueError:\n",
    "    print(\"Invalid input. Please enter a valid integer for n.\")"
   ]
  },
  {
   "cell_type": "markdown",
   "id": "10ce73e7",
   "metadata": {},
   "source": [
    "## Program 89\n",
    "**The Fibonacci Sequence is computed based on the following formula:**\n",
    "\n",
    "**`f(n)=0 if n=0`**\n",
    "\n",
    "**`f(n)=1 if n=1`**\n",
    "\n",
    "**`f(n)=f(n-1)+f(n-2) if n>1`**\n",
    "\n",
    "**Please write a program using list comprehension to print the Fibonacci Sequence in comma separated form with a given n input by console.**\n",
    "\n",
    "**Example:**\n",
    "\n",
    "**If the following n is given as input to the program:**\n",
    "\n",
    "**8**\n",
    "\n",
    "**Then, the output of the program should be:**\n",
    "\n",
    "**0,1,1,2,3,5,8,13**"
   ]
  },
  {
   "cell_type": "code",
   "execution_count": 55,
   "id": "28b6f850",
   "metadata": {},
   "outputs": [],
   "source": [
    "def fibonacci(n):\n",
    "    sequence = [0, 1]  # Initializing the sequence with the first two Fibonacci numbers\n",
    "    [sequence.append(sequence[-1] + sequence[-2]) for _ in range(2, n)]\n",
    "    return sequence"
   ]
  },
  {
   "cell_type": "code",
   "execution_count": 56,
   "id": "4cf5393c",
   "metadata": {},
   "outputs": [
    {
     "name": "stdout",
     "output_type": "stream",
     "text": [
      "Enter a value for n: 8\n",
      "0,1,1,2,3,5,8,13\n"
     ]
    }
   ],
   "source": [
    "try:\n",
    "    n = int(input(\"Enter a value for n: \"))\n",
    "    result = fibonacci(n)\n",
    "    print(','.join(map(str, result)))\n",
    "except ValueError:\n",
    "    print(\"Invalid input. Please enter a valid integer for n.\")"
   ]
  },
  {
   "cell_type": "markdown",
   "id": "b83330ea",
   "metadata": {},
   "source": [
    "## Program 90\n",
    "\n",
    "**Assuming that we have some email addresses in the \"username@companyname.com\" format, please write program to print the user name of a given email address. Both user names and\n",
    "company names are composed of letters only.**\n",
    "\n",
    "**Example:**\n",
    "    \n",
    "**If the following email address is given as input to the program:**\n",
    "    \n",
    "**john@google.com**\n",
    "\n",
    "**Then, the output of the program should be:**\n",
    "    \n",
    "**john**"
   ]
  },
  {
   "cell_type": "code",
   "execution_count": 57,
   "id": "0640a1a1",
   "metadata": {},
   "outputs": [],
   "source": [
    "def extract_username(email):\n",
    "    # Split the email address at '@' to separate the username and domain\n",
    "    parts = email.split('@')\n",
    "    \n",
    "    # Check if the email address has the expected format\n",
    "    if len(parts) == 2:\n",
    "        return parts[0]  # The username is the first part\n",
    "    else:\n",
    "        return \"Invalid email format\""
   ]
  },
  {
   "cell_type": "code",
   "execution_count": 58,
   "id": "25e7c30d",
   "metadata": {},
   "outputs": [
    {
     "name": "stdout",
     "output_type": "stream",
     "text": [
      "Enter an email address: john@google.com\n",
      "john\n"
     ]
    }
   ],
   "source": [
    "try:\n",
    "    email = input(\"Enter an email address: \")\n",
    "    username = extract_username(email)\n",
    "    print(username)\n",
    "except ValueError:\n",
    "    print(\"Invalid input. Please enter a valid email address.\")"
   ]
  },
  {
   "cell_type": "markdown",
   "id": "1ae44e66",
   "metadata": {},
   "source": [
    "## Program 91\n",
    "**Define a class named Shape and its subclass Square. The Square class has an init function which takes a length as argument. Both classes have an area function which can print the area\n",
    "of the shape where Shape's area is 0 by default.**"
   ]
  },
  {
   "cell_type": "code",
   "execution_count": 59,
   "id": "1299af53",
   "metadata": {},
   "outputs": [],
   "source": [
    "class Shape:\n",
    "    def __init__(self):\n",
    "        pass  # Default constructor, no need to initialize anything\n",
    "\n",
    "    def area(self):\n",
    "        return 0  # Shape's area is 0 by default\n",
    "\n",
    "\n",
    "class Square(Shape):\n",
    "    def __init__(self, length):\n",
    "        super().__init__()  # Call the constructor of the parent class\n",
    "        self.length = length\n",
    "\n",
    "    def area(self):\n",
    "        return self.length ** 2  # Calculate the area of the square"
   ]
  },
  {
   "cell_type": "code",
   "execution_count": 60,
   "id": "59ce80aa",
   "metadata": {},
   "outputs": [
    {
     "name": "stdout",
     "output_type": "stream",
     "text": [
      "Enter the shape of the square: 5\n",
      "Shape's area by default: 0\n",
      "Area of the square: 25.0\n"
     ]
    }
   ],
   "source": [
    "# Create instances of the classes\n",
    "shape = Shape()\n",
    "square = Square(float(input(\"Enter the shape of the square: \")))\n",
    "\n",
    "# Calculate and print the areas\n",
    "print(\"Shape's area by default:\", shape.area()) \n",
    "print(\"Area of the square:\", square.area()) "
   ]
  },
  {
   "cell_type": "markdown",
   "id": "f34df252",
   "metadata": {},
   "source": [
    "## Program 92\n",
    "\n",
    "\n",
    "**Write a function that stutters a word as if someone is struggling to read it. The first two letters are repeated twice with an ellipsis ... and space after each, and then the word is pronounced with a question mark ?.**\n",
    "\n",
    "**Examples**\n",
    "\n",
    "**stutter(\"incredible\") ➞ \"in... in... incredible?\"**\n",
    "\n",
    "**stutter(\"enthusiastic\") ➞ \"en... en... enthusiastic?\"**\n",
    "\n",
    "**stutter(\"outstanding\") ➞ \"ou... ou... outstanding?\"**\n",
    "\n",
    "**Hint :- Assume all input is in lower case and at least two characters long.**"
   ]
  },
  {
   "cell_type": "code",
   "execution_count": 61,
   "id": "10d94516",
   "metadata": {},
   "outputs": [],
   "source": [
    "def stutter(word):\n",
    "    if len(word) < 2:\n",
    "        return \"Word must be at least two characters long.\"\n",
    "    \n",
    "    stuttered_word = f\"{word[:2]}... {word[:2]}... {word}?\"\n",
    "    return stuttered_word"
   ]
  },
  {
   "cell_type": "code",
   "execution_count": 62,
   "id": "b3559ee8",
   "metadata": {},
   "outputs": [
    {
     "name": "stdout",
     "output_type": "stream",
     "text": [
      "in... in... incredible?\n",
      "en... en... enthusiastic?\n",
      "ou... ou... outstanding?\n"
     ]
    }
   ],
   "source": [
    "# Test cases\n",
    "print(stutter(\"incredible\"))  \n",
    "print(stutter(\"enthusiastic\"))  \n",
    "print(stutter(\"outstanding\"))"
   ]
  },
  {
   "cell_type": "markdown",
   "id": "5963583c",
   "metadata": {},
   "source": [
    "## Program 93\n",
    "**Create a function that takes an angle in radians and returns the corresponding angle in degrees rounded to one decimal place.**\n",
    "\n",
    "**Examples**\n",
    "\n",
    "**radians_to_degrees(1) ➞ 57.3**\n",
    "\n",
    "**radians_to_degrees(20) ➞ 1145.9**\n",
    "\n",
    "**radians_to_degrees(50) ➞ 2864.8**"
   ]
  },
  {
   "cell_type": "code",
   "execution_count": 63,
   "id": "752c24d9",
   "metadata": {},
   "outputs": [],
   "source": [
    "import math\n",
    "\n",
    "def radians_to_degrees(radians):\n",
    "    degrees = radians * (180 / math.pi)\n",
    "    return round(degrees, 1)"
   ]
  },
  {
   "cell_type": "code",
   "execution_count": 64,
   "id": "daed94f8",
   "metadata": {},
   "outputs": [
    {
     "name": "stdout",
     "output_type": "stream",
     "text": [
      "57.3\n",
      "1145.9\n",
      "2864.8\n"
     ]
    }
   ],
   "source": [
    "# Test cases\n",
    "print(radians_to_degrees(1))\n",
    "print(radians_to_degrees(20))\n",
    "print(radians_to_degrees(50))"
   ]
  },
  {
   "cell_type": "markdown",
   "id": "e7c5576a",
   "metadata": {},
   "source": [
    "## Program 94\n",
    "**In this challenge, establish if a given integer num is a Curzon number. If 1 plus 2 elevated to num is exactly divisible by 1 plus 2 multiplied by num, then num is a Curzon number.**\n",
    "\n",
    "**Given a non-negative integer num, implement a function that returns True if num is a Curzon number, or False otherwise.**\n",
    "\n",
    "**Examples**\n",
    "\n",
    "**is_curzon(5) ➞ True**\n",
    "\n",
    "**`# 2 ** 5 + 1 = 33`**\n",
    "\n",
    "**`# 2 * 5 + 1 = 11`**\n",
    "\n",
    "**`# 33 is a multiple of 11`**\n",
    "\n",
    "**is_curzon(10) ➞ False**\n",
    "\n",
    "**`# 2 ** 10 + 1 = 1025`**\n",
    "\n",
    "**`# 2 * 10 + 1 = 21`**\n",
    "\n",
    "**`# 1025 is not a multiple of 21`**\n",
    "\n",
    "**is_curzon(14) ➞ True**\n",
    "\n",
    "**`# 2 ** 14 + 1 = 16385`**\n",
    "\n",
    "**`# 2 * 14 + 1 = 29`**\n",
    "\n",
    "**`# 16385 is a multiple of 29`**"
   ]
  },
  {
   "cell_type": "markdown",
   "id": "7e008c3b",
   "metadata": {},
   "source": [
    "**Curzon Number:**\n",
    "\n",
    "It is defined based on a specific mathematical relationship involving powers of 2. An integer 'n' is considered a Curzon number if it satisfies the following condition:\n",
    "\n",
    "\n",
    "*If (2^n + 1) is divisible by (2n + 1), then 'n' is a Curzon number.*\n",
    "\n",
    "\n",
    "For example:\n",
    "- If n = 5: 2^5 + 1 = 33, and 2*5 + 1 = 11. Since 33 is divisible by 11 (33 % 11 = 0), 5 is a Curzon number.\n",
    "- If n = 10: 2^10 + 1 = 1025, and 2*10 + 1 = 21. 1025 is not divisible by 21, so 10 is not a Curzon number.\n",
    "\n",
    "Curzon numbers are a specific **subset of integers** with this unique mathematical property.\n",
    "    "
   ]
  },
  {
   "cell_type": "code",
   "execution_count": 65,
   "id": "ba6b2933",
   "metadata": {},
   "outputs": [],
   "source": [
    "def is_curzon(num):\n",
    "    numerator = 2 ** num + 1\n",
    "    denominator = 2 * num + 1\n",
    "    return numerator % denominator == 0"
   ]
  },
  {
   "cell_type": "code",
   "execution_count": 66,
   "id": "5f107fba",
   "metadata": {},
   "outputs": [
    {
     "name": "stdout",
     "output_type": "stream",
     "text": [
      "True\n",
      "False\n",
      "True\n"
     ]
    }
   ],
   "source": [
    "# Test cases\n",
    "print(is_curzon(5)) \n",
    "print(is_curzon(10)) \n",
    "print(is_curzon(14)) "
   ]
  },
  {
   "cell_type": "markdown",
   "id": "914a93e7",
   "metadata": {},
   "source": [
    "## Program 95\n",
    "**Given the side length x find the area of a hexagon.**\n",
    "\n",
    "**Examples**\n",
    "\n",
    "**area_of_hexagon(1) ➞ 2.6**\n",
    "\n",
    "**area_of_hexagon(2) ➞ 10.4**\n",
    "\n",
    "**area_of_hexagon(3) ➞ 23.4**"
   ]
  },
  {
   "cell_type": "code",
   "execution_count": 67,
   "id": "dc79a415",
   "metadata": {},
   "outputs": [],
   "source": [
    "import math\n",
    "\n",
    "def area_of_hexagon(x):\n",
    "    area = (3 * math.sqrt(3) * x**2) / 2\n",
    "    return round(area, 1)"
   ]
  },
  {
   "cell_type": "code",
   "execution_count": 68,
   "id": "33784363",
   "metadata": {},
   "outputs": [
    {
     "name": "stdout",
     "output_type": "stream",
     "text": [
      "2.6\n",
      "10.4\n",
      "23.4\n"
     ]
    }
   ],
   "source": [
    "# Example usage:\n",
    "print(area_of_hexagon(1))  \n",
    "print(area_of_hexagon(2))  \n",
    "print(area_of_hexagon(3)) "
   ]
  },
  {
   "cell_type": "markdown",
   "id": "b49e1efd",
   "metadata": {},
   "source": [
    "## Program 96\n",
    "**Create a function that returns a base-2 (binary) representation of a base-10 (decimal) string number. To convert is simple: ((2) means base-2 and (10) means base-10) 010101001(2) = 1 + 8 + 32 + 128.**\n",
    "\n",
    "**Going from right to left, the value of the most right bit is 1, now from that every bit to the left will be x2 the value, value of an 8 bit binary numbers are (256, 128, 64, 32, 16, 8, 4, 2, 1).**\n",
    "\n",
    "**Examples**\n",
    "\n",
    "**binary(1) ➞ \"1\"**\n",
    "\n",
    "**`# 1*1 = 1`**\n",
    "\n",
    "**binary(5) ➞ \"101\"**\n",
    "\n",
    "**`# 1*1 + 1*4 = 5`**\n",
    "\n",
    "**binary(10) ➞ 1010**\n",
    "\n",
    "**`# 1*2 + 1*8 = 10`**"
   ]
  },
  {
   "cell_type": "code",
   "execution_count": 69,
   "id": "efd17ced",
   "metadata": {},
   "outputs": [],
   "source": [
    "def binary(decimal):\n",
    "    binary_str = \"\"\n",
    "    while decimal > 0:\n",
    "        remainder = decimal % 2\n",
    "        binary_str = str(remainder) + binary_str\n",
    "        decimal = decimal // 2\n",
    "    return binary_str if binary_str else \"0\""
   ]
  },
  {
   "cell_type": "code",
   "execution_count": 70,
   "id": "c7c58f87",
   "metadata": {},
   "outputs": [
    {
     "name": "stdout",
     "output_type": "stream",
     "text": [
      "1\n",
      "101\n",
      "1010\n"
     ]
    }
   ],
   "source": [
    "print(binary(1))\n",
    "print(binary(5))   \n",
    "print(binary(10))  "
   ]
  },
  {
   "cell_type": "markdown",
   "id": "aa2b6705",
   "metadata": {},
   "source": [
    "## Program 97\n",
    "**Create a function that takes three arguments a, b, c and returns the sum of the numbers that are evenly divided by c from the range a, b inclusive.**\n",
    "\n",
    "**Examples**\n",
    "\n",
    "**evenly_divisible(1, 10, 20) ➞ 0**\n",
    "\n",
    "**`# No number between 1 and 10 can be evenly divided by 20.`**\n",
    "\n",
    "**evenly_divisible(1, 10, 2) ➞ 30**\n",
    "\n",
    "**`# 2 + 4 + 6 + 8 + 10 = 30`**\n",
    "\n",
    "**evenly_divisible(1, 10, 3) ➞ 18**\n",
    "\n",
    "**`# 3 + 6 + 9 = 18`**"
   ]
  },
  {
   "cell_type": "code",
   "execution_count": 71,
   "id": "a383b474",
   "metadata": {},
   "outputs": [],
   "source": [
    "def evenly_divisible(a, b, c):\n",
    "    total = 0\n",
    "    for num in range(a, b + 1):\n",
    "        if num % c == 0:\n",
    "            total += num\n",
    "    return total"
   ]
  },
  {
   "cell_type": "code",
   "execution_count": 72,
   "id": "1a2e0d89",
   "metadata": {},
   "outputs": [
    {
     "name": "stdout",
     "output_type": "stream",
     "text": [
      "0\n",
      "30\n",
      "18\n"
     ]
    }
   ],
   "source": [
    "print(evenly_divisible(1, 10, 20))\n",
    "print(evenly_divisible(1, 10, 2))\n",
    "print(evenly_divisible(1, 10, 3))"
   ]
  },
  {
   "cell_type": "markdown",
   "id": "f6b6b2a8",
   "metadata": {},
   "source": [
    "## Program 98\n",
    "**Create a function that returns True if a given inequality expression is correct and False otherwise.**\n",
    "\n",
    "**Examples**\n",
    "\n",
    "**correct_signs(\"3 < 7 < 11\") ➞ True**\n",
    "\n",
    "**correct_signs(\"13 > 44 > 33 <1\") ➞ False**\n",
    "\n",
    "**correct_signs(\"1 < 2 < 6 < 9 > 3\") ➞ True**"
   ]
  },
  {
   "cell_type": "code",
   "execution_count": 74,
   "id": "fb75f786",
   "metadata": {},
   "outputs": [],
   "source": [
    "def correct_signs(expression):\n",
    "    try:\n",
    "        return eval(expression)\n",
    "    except:\n",
    "        return False"
   ]
  },
  {
   "cell_type": "code",
   "execution_count": 75,
   "id": "f464b2ed",
   "metadata": {},
   "outputs": [
    {
     "name": "stdout",
     "output_type": "stream",
     "text": [
      "True\n",
      "False\n",
      "True\n"
     ]
    }
   ],
   "source": [
    "print(correct_signs(\"3 < 7 < 11\"))\n",
    "print(correct_signs(\"13 > 44 > 33 < 1\"))\n",
    "print(correct_signs(\"1 < 2 < 6 < 9 > 3\"))"
   ]
  },
  {
   "cell_type": "markdown",
   "id": "9e9e6474",
   "metadata": {},
   "source": [
    "## Program 99\n",
    "**Create a function that replaces all the vowels in a string with a specified character.**\n",
    "\n",
    "**Examples**\n",
    "\n",
    "**replace_vowels(\"the aardvark\", \"#\") ➞ \"th# ##rdv#rk\"**\n",
    "\n",
    "**replace_vowels(\"minnie mouse\", \"?\") ➞ \"m?nn?? m??s?\"**\n",
    "\n",
    "**replace_vowels(\"shakespeare\", \"*\") ➞ &quot;sh*k*sp**r*&quot;"
   ]
  },
  {
   "cell_type": "code",
   "execution_count": 76,
   "id": "20c41aa5",
   "metadata": {},
   "outputs": [],
   "source": [
    "def replace_vowels(string, char):\n",
    "    vowels = \"AEIOUaeiou\"  # List of vowels to be replaced\n",
    "    for vowel in vowels:\n",
    "        string = string.replace(vowel, char)  # Replace each vowel with the specified character\n",
    "    return string"
   ]
  },
  {
   "cell_type": "code",
   "execution_count": 77,
   "id": "7c2d13a6",
   "metadata": {},
   "outputs": [
    {
     "name": "stdout",
     "output_type": "stream",
     "text": [
      "th# ##rdv#rk\n",
      "m?nn?? m??s?\n",
      "sh*k*sp**r*\n"
     ]
    }
   ],
   "source": [
    "print(replace_vowels(\"the aardvark\", \"#\"))\n",
    "print(replace_vowels(\"minnie mouse\", \"?\"))\n",
    "print(replace_vowels(\"shakespeare\", \"*\"))"
   ]
  },
  {
   "cell_type": "markdown",
   "id": "474abb98",
   "metadata": {},
   "source": [
    "## Program 100\n",
    "**Write a function that calculates the factorial of a number recursively.**\n",
    "\n",
    "**Examples**\n",
    "\n",
    "**factorial(5) ➞ 120**\n",
    "\n",
    "**factorial(3) ➞ 6**\n",
    "\n",
    "**factorial(1) ➞ 1**\n",
    "\n",
    "**factorial(0) ➞ 1**"
   ]
  },
  {
   "cell_type": "code",
   "execution_count": 78,
   "id": "85937f13",
   "metadata": {},
   "outputs": [],
   "source": [
    "def factorial(n):\n",
    "    if n == 0:\n",
    "        return 1  # Base case: factorial of 0 is 1\n",
    "    else:\n",
    "        return n * factorial(n - 1)  # Recursive case: n! = n * (n-1)!"
   ]
  },
  {
   "cell_type": "code",
   "execution_count": 79,
   "id": "575ea317",
   "metadata": {},
   "outputs": [
    {
     "name": "stdout",
     "output_type": "stream",
     "text": [
      "120\n",
      "6\n",
      "1\n",
      "1\n"
     ]
    }
   ],
   "source": [
    "print(factorial(5))\n",
    "print(factorial(3))\n",
    "print(factorial(1))  \n",
    "print(factorial(0))"
   ]
  },
  {
   "cell_type": "markdown",
   "id": "b0fb8531",
   "metadata": {},
   "source": [
    "## Program 101\n",
    "**Hamming distance is the number of characters that differ between two strings.**\n",
    "\n",
    "**To illustrate:**\n",
    "    \n",
    "**String1: \"abcbba\"**\n",
    "    \n",
    "**String2: \"abcbda\"**\n",
    "    \n",
    "**Hamming Distance: 1 - \"b\" vs. \"d\" is the only difference.**\n",
    "    \n",
    "**Create a function that computes the hamming distance between two strings.**\n",
    "\n",
    "**Examples**\n",
    "\n",
    "**hamming_distance(\"abcde\", \"bcdef\") ➞ 5**\n",
    "\n",
    "**hamming_distance(\"abcde\", \"abcde\") ➞ 0**\n",
    "\n",
    "**hamming_distance(\"strong\", \"strung\") ➞ 1**"
   ]
  },
  {
   "cell_type": "code",
   "execution_count": 80,
   "id": "720d60e9",
   "metadata": {},
   "outputs": [],
   "source": [
    "def hamming_distance(str1, str2):\n",
    "    # Check if the strings have the same length\n",
    "    if len(str1) != len(str2):\n",
    "        raise ValueError(\"Input strings must have the same length\")\n",
    "\n",
    "    # Initialize a counter to keep track of differences\n",
    "    distance = 0\n",
    "\n",
    "    # Iterate through the characters of both strings\n",
    "    for i in range(len(str1)):\n",
    "        if str1[i] != str2[i]:\n",
    "            distance += 1  # Increment the counter for differences\n",
    "\n",
    "    return distance"
   ]
  },
  {
   "cell_type": "code",
   "execution_count": 81,
   "id": "0560835f",
   "metadata": {},
   "outputs": [
    {
     "name": "stdout",
     "output_type": "stream",
     "text": [
      "5\n",
      "0\n",
      "1\n"
     ]
    }
   ],
   "source": [
    "print(hamming_distance(\"abcde\", \"bcdef\"))\n",
    "print(hamming_distance(\"abcde\", \"abcde\"))\n",
    "print(hamming_distance(\"strong\", \"strung\"))"
   ]
  },
  {
   "cell_type": "markdown",
   "id": "7653c51b",
   "metadata": {},
   "source": [
    "## Program 102\n",
    "**Create a function that takes a list of non-negative integers and strings and return a new list without the strings.**\n",
    "\n",
    "**Examples**\n",
    "\n",
    "**filter_list([1, 2, \"a\", \"b\"]) ➞ [1, 2]**\n",
    "\n",
    "**filter_list([1, \"a\", \"b\", 0, 15]) ➞ [1, 0, 15]**\n",
    "\n",
    "**filter_list([1, 2, \"aasf\", \"1\", \"123\", 123]) ➞ [1, 2, 123]**"
   ]
  },
  {
   "cell_type": "code",
   "execution_count": 82,
   "id": "34a07f10",
   "metadata": {},
   "outputs": [],
   "source": [
    "def filter_list(lst):\n",
    "    # Initialize an empty list to store non-string elements\n",
    "    result = []\n",
    "    \n",
    "    # Iterate through the elements in the input list\n",
    "    for element in lst:\n",
    "        # Check if the element is a non-negative integer (not a string)\n",
    "        if isinstance(element, int) and element >= 0:\n",
    "            result.append(element)\n",
    "    \n",
    "    return result"
   ]
  },
  {
   "cell_type": "code",
   "execution_count": 83,
   "id": "92fbc908",
   "metadata": {},
   "outputs": [
    {
     "data": {
      "text/plain": [
       "[1, 2]"
      ]
     },
     "execution_count": 83,
     "metadata": {},
     "output_type": "execute_result"
    }
   ],
   "source": [
    "filter_list([1, 2, \"a\", \"b\"]) "
   ]
  },
  {
   "cell_type": "code",
   "execution_count": 84,
   "id": "1403a5f8",
   "metadata": {},
   "outputs": [
    {
     "data": {
      "text/plain": [
       "[1, 0, 15]"
      ]
     },
     "execution_count": 84,
     "metadata": {},
     "output_type": "execute_result"
    }
   ],
   "source": [
    "filter_list([1, \"a\", \"b\", 0, 15])"
   ]
  },
  {
   "cell_type": "code",
   "execution_count": 85,
   "id": "60d25de0",
   "metadata": {},
   "outputs": [
    {
     "data": {
      "text/plain": [
       "[1, 2, 123]"
      ]
     },
     "execution_count": 85,
     "metadata": {},
     "output_type": "execute_result"
    }
   ],
   "source": [
    "filter_list([1, 2, \"aasf\", \"1\", \"123\", 123])"
   ]
  },
  {
   "cell_type": "markdown",
   "id": "a837d008",
   "metadata": {},
   "source": [
    "## Program 103\n",
    "\n",
    "**The \"Reverser\" takes a string as input and returns that string in reverse order, with the opposite case.**\n",
    "\n",
    "**Examples**\n",
    "\n",
    "**reverse(\"Hello World\") ➞ \"DLROw OLLEh\"**\n",
    "\n",
    "**reverse(\"ReVeRsE\") ➞ \"eSrEvEr\"**\n",
    "\n",
    "**reverse(\"Radar\") ➞ \"RADAr\"**"
   ]
  },
  {
   "cell_type": "code",
   "execution_count": 86,
   "id": "99086410",
   "metadata": {},
   "outputs": [],
   "source": [
    "def reverse(input_str):\n",
    "    # Reverse the string and swap the case of characters\n",
    "    reversed_str = input_str[::-1].swapcase()\n",
    "    \n",
    "    return reversed_str"
   ]
  },
  {
   "cell_type": "code",
   "execution_count": 87,
   "id": "10898bef",
   "metadata": {},
   "outputs": [
    {
     "data": {
      "text/plain": [
       "'DLROw OLLEh'"
      ]
     },
     "execution_count": 87,
     "metadata": {},
     "output_type": "execute_result"
    }
   ],
   "source": [
    "reverse(\"Hello World\")"
   ]
  },
  {
   "cell_type": "code",
   "execution_count": 88,
   "id": "edae8f0d",
   "metadata": {},
   "outputs": [
    {
     "data": {
      "text/plain": [
       "'eSrEvEr'"
      ]
     },
     "execution_count": 88,
     "metadata": {},
     "output_type": "execute_result"
    }
   ],
   "source": [
    "reverse(\"ReVeRsE\")"
   ]
  },
  {
   "cell_type": "code",
   "execution_count": 89,
   "id": "7e391058",
   "metadata": {},
   "outputs": [
    {
     "data": {
      "text/plain": [
       "'RADAr'"
      ]
     },
     "execution_count": 89,
     "metadata": {},
     "output_type": "execute_result"
    }
   ],
   "source": [
    "reverse(\"Radar\") "
   ]
  },
  {
   "cell_type": "markdown",
   "id": "e528ae83",
   "metadata": {},
   "source": [
    "## Program 104\n",
    "\n",
    "**You can assign variables from lists like this:**\n",
    "\n",
    "**lst = [1, 2, 3, 4, 5, 6]**\n",
    "\n",
    "**first = lst[0]**\n",
    "\n",
    "**middle = lst[1:-1]**\n",
    "\n",
    "**last = lst[-1]**\n",
    "\n",
    "**print(first) ➞ outputs 1**\n",
    "\n",
    "**print(middle) ➞ outputs [2, 3, 4, 5]**\n",
    "\n",
    "**print(last) ➞ outputs 6**\n",
    "\n",
    "**With Python 3, you can assign variables from lists in a much more succinct way. Create variables first, middle and last from the given list using destructuring assignment (check the Resources tab for some examples), where:**\n",
    "\n",
    "**first ➞ 1**\n",
    "\n",
    "**middle ➞ [2, 3, 4, 5]**\n",
    "\n",
    "**last ➞ 6**\n",
    "\n",
    "**Your task is to unpack the list `writeyourcodehere` into three variables, being `first`, `middle`, and `last`, with `middle` being everything in between the first and last element. Then print all three variables.**"
   ]
  },
  {
   "cell_type": "code",
   "execution_count": 90,
   "id": "207a7532",
   "metadata": {},
   "outputs": [],
   "source": [
    "writeyourcodehere = [1, 2, 3, 4, 5, 6]\n",
    "\n",
    "# Unpack the list into variables\n",
    "first, *middle, last = writeyourcodehere"
   ]
  },
  {
   "cell_type": "code",
   "execution_count": 91,
   "id": "3e427c6f",
   "metadata": {},
   "outputs": [
    {
     "data": {
      "text/plain": [
       "1"
      ]
     },
     "execution_count": 91,
     "metadata": {},
     "output_type": "execute_result"
    }
   ],
   "source": [
    "first"
   ]
  },
  {
   "cell_type": "code",
   "execution_count": 92,
   "id": "43ab9db7",
   "metadata": {},
   "outputs": [
    {
     "data": {
      "text/plain": [
       "[2, 3, 4, 5]"
      ]
     },
     "execution_count": 92,
     "metadata": {},
     "output_type": "execute_result"
    }
   ],
   "source": [
    "middle"
   ]
  },
  {
   "cell_type": "code",
   "execution_count": 93,
   "id": "e81a73ba",
   "metadata": {},
   "outputs": [
    {
     "data": {
      "text/plain": [
       "6"
      ]
     },
     "execution_count": 93,
     "metadata": {},
     "output_type": "execute_result"
    }
   ],
   "source": [
    "last"
   ]
  },
  {
   "cell_type": "markdown",
   "id": "78dfa2ed",
   "metadata": {},
   "source": [
    "## Program 105\n",
    "**Write a function that calculates the factorial of a number recursively.**\n",
    "\n",
    "**Examples**\n",
    "\n",
    "**factorial(5) ➞ 120**\n",
    "\n",
    "**factorial(3) ➞ 6**\n",
    "\n",
    "**factorial(1) ➞ 1**\n",
    "\n",
    "**factorial(0) ➞ 1**"
   ]
  },
  {
   "cell_type": "code",
   "execution_count": 94,
   "id": "39a28db4",
   "metadata": {},
   "outputs": [],
   "source": [
    "def factorial(n):\n",
    "    if n == 0:\n",
    "        return 1  # Base case: factorial of 0 is 1\n",
    "    else:\n",
    "        return n * factorial(n - 1)  # Recursive case: n! = n * (n-1)!"
   ]
  },
  {
   "cell_type": "code",
   "execution_count": 95,
   "id": "68674071",
   "metadata": {},
   "outputs": [
    {
     "data": {
      "text/plain": [
       "120"
      ]
     },
     "execution_count": 95,
     "metadata": {},
     "output_type": "execute_result"
    }
   ],
   "source": [
    "factorial(5) "
   ]
  },
  {
   "cell_type": "code",
   "execution_count": 96,
   "id": "53a7a5b8",
   "metadata": {},
   "outputs": [
    {
     "data": {
      "text/plain": [
       "6"
      ]
     },
     "execution_count": 96,
     "metadata": {},
     "output_type": "execute_result"
    }
   ],
   "source": [
    "factorial(3)"
   ]
  },
  {
   "cell_type": "code",
   "execution_count": 97,
   "id": "8dd42c9c",
   "metadata": {},
   "outputs": [
    {
     "data": {
      "text/plain": [
       "1"
      ]
     },
     "execution_count": 97,
     "metadata": {},
     "output_type": "execute_result"
    }
   ],
   "source": [
    "factorial(1)"
   ]
  },
  {
   "cell_type": "code",
   "execution_count": 98,
   "id": "370ff9a9",
   "metadata": {},
   "outputs": [
    {
     "data": {
      "text/plain": [
       "1"
      ]
     },
     "execution_count": 98,
     "metadata": {},
     "output_type": "execute_result"
    }
   ],
   "source": [
    "factorial(0)"
   ]
  },
  {
   "cell_type": "markdown",
   "id": "bddc45f8",
   "metadata": {},
   "source": [
    "## Program 106\n",
    "**Write a function that moves all elements of one type to the end of the list.**\n",
    "\n",
    "**Examples**\n",
    "\n",
    "**move_to_end([1, 3, 2, 4, 4, 1], 1) ➞ [3, 2, 4, 4, 1, 1]**\n",
    "\n",
    "**Move all the 1s to the end of the array.**\n",
    "\n",
    "**move_to_end([7, 8, 9, 1, 2, 3, 4], 9) ➞ [7, 8, 1, 2, 3, 4, 9]**\n",
    "\n",
    "**move_to_end([\"a\", \"a\", \"a\", \"b\"], \"a\") ➞ [\"b\", \"a\", \"a\", \"a\"]**"
   ]
  },
  {
   "cell_type": "code",
   "execution_count": 99,
   "id": "7437ef3e",
   "metadata": {},
   "outputs": [],
   "source": [
    "def move_to_end(lst, element):\n",
    "    # Initialize a count for the specified element\n",
    "    count = lst.count(element)\n",
    "    \n",
    "    # Remove all occurrences of the element from the list\n",
    "    lst = [x for x in lst if x != element]\n",
    "    \n",
    "    # Append the element to the end of the list count times\n",
    "    lst.extend([element] * count)\n",
    "    \n",
    "    return lst"
   ]
  },
  {
   "cell_type": "code",
   "execution_count": 100,
   "id": "8f88ccd9",
   "metadata": {},
   "outputs": [
    {
     "data": {
      "text/plain": [
       "[3, 2, 4, 4, 1, 1]"
      ]
     },
     "execution_count": 100,
     "metadata": {},
     "output_type": "execute_result"
    }
   ],
   "source": [
    "move_to_end([1, 3, 2, 4, 4, 1], 1)"
   ]
  },
  {
   "cell_type": "code",
   "execution_count": 101,
   "id": "154673dc",
   "metadata": {},
   "outputs": [
    {
     "data": {
      "text/plain": [
       "[7, 8, 1, 2, 3, 4, 9]"
      ]
     },
     "execution_count": 101,
     "metadata": {},
     "output_type": "execute_result"
    }
   ],
   "source": [
    "move_to_end([7, 8, 9, 1, 2, 3, 4], 9)"
   ]
  },
  {
   "cell_type": "code",
   "execution_count": 102,
   "id": "8f441c54",
   "metadata": {},
   "outputs": [
    {
     "data": {
      "text/plain": [
       "['b', 'a', 'a', 'a']"
      ]
     },
     "execution_count": 102,
     "metadata": {},
     "output_type": "execute_result"
    }
   ],
   "source": [
    "move_to_end([\"a\", \"a\", \"a\", \"b\"], \"a\") "
   ]
  },
  {
   "cell_type": "markdown",
   "id": "63d95b51",
   "metadata": {},
   "source": [
    "## Program 107\n",
    "**Question1**\n",
    "\n",
    "**Create a function that takes a string and returns a string in which each character is repeated once.**\n",
    "\n",
    "**Examples**\n",
    "\n",
    "**double_char(\"String\") ➞ \"SSttrriinngg\"**\n",
    "\n",
    "**double_char(\"Hello World!\") ➞ \"HHeelllloo WWoorrlldd!!\"**\n",
    "\n",
    "**double_char(\"1234!_ \") ➞ \"11223344!!__\"**"
   ]
  },
  {
   "cell_type": "code",
   "execution_count": 103,
   "id": "bbee4ec2",
   "metadata": {},
   "outputs": [],
   "source": [
    "def double_char(input_str):\n",
    "    doubled_str = \"\"\n",
    "    \n",
    "    for char in input_str:\n",
    "        doubled_str += char * 2\n",
    "    \n",
    "    return doubled_str"
   ]
  },
  {
   "cell_type": "code",
   "execution_count": 104,
   "id": "21e5dfef",
   "metadata": {},
   "outputs": [
    {
     "data": {
      "text/plain": [
       "'SSttrriinngg'"
      ]
     },
     "execution_count": 104,
     "metadata": {},
     "output_type": "execute_result"
    }
   ],
   "source": [
    "double_char(\"String\") "
   ]
  },
  {
   "cell_type": "code",
   "execution_count": 105,
   "id": "6ac0f7de",
   "metadata": {},
   "outputs": [
    {
     "data": {
      "text/plain": [
       "'HHeelllloo  WWoorrlldd!!'"
      ]
     },
     "execution_count": 105,
     "metadata": {},
     "output_type": "execute_result"
    }
   ],
   "source": [
    "double_char(\"Hello World!\")"
   ]
  },
  {
   "cell_type": "code",
   "execution_count": 106,
   "id": "18fa9128",
   "metadata": {},
   "outputs": [
    {
     "data": {
      "text/plain": [
       "'11223344!!__  '"
      ]
     },
     "execution_count": 106,
     "metadata": {},
     "output_type": "execute_result"
    }
   ],
   "source": [
    "double_char(\"1234!_ \")"
   ]
  },
  {
   "cell_type": "markdown",
   "id": "47a15576",
   "metadata": {},
   "source": [
    "## Program 108\n",
    "**Create a function that reverses a boolean value and returns the string \"boolean expected\" if another variable type is given.**\n",
    "\n",
    "**Examples**\n",
    "\n",
    "**reverse(True) ➞ False**\n",
    "\n",
    "**reverse(False) ➞ True**\n",
    "\n",
    "**reverse(0) ➞ \"boolean expected\"**\n",
    "\n",
    "**reverse(None) ➞ \"boolean expected\"**"
   ]
  },
  {
   "cell_type": "code",
   "execution_count": 107,
   "id": "f376b0b4",
   "metadata": {},
   "outputs": [],
   "source": [
    "def reverse(value):\n",
    "    if isinstance(value, bool):\n",
    "        return not value\n",
    "    else:\n",
    "        return \"boolean expected\""
   ]
  },
  {
   "cell_type": "code",
   "execution_count": 108,
   "id": "5a047127",
   "metadata": {},
   "outputs": [
    {
     "data": {
      "text/plain": [
       "False"
      ]
     },
     "execution_count": 108,
     "metadata": {},
     "output_type": "execute_result"
    }
   ],
   "source": [
    "reverse(True) "
   ]
  },
  {
   "cell_type": "code",
   "execution_count": 109,
   "id": "89628130",
   "metadata": {},
   "outputs": [
    {
     "data": {
      "text/plain": [
       "True"
      ]
     },
     "execution_count": 109,
     "metadata": {},
     "output_type": "execute_result"
    }
   ],
   "source": [
    "reverse(False) "
   ]
  },
  {
   "cell_type": "code",
   "execution_count": 110,
   "id": "8d2ccc22",
   "metadata": {},
   "outputs": [
    {
     "data": {
      "text/plain": [
       "'boolean expected'"
      ]
     },
     "execution_count": 110,
     "metadata": {},
     "output_type": "execute_result"
    }
   ],
   "source": [
    "reverse(0) "
   ]
  },
  {
   "cell_type": "code",
   "execution_count": 111,
   "id": "faf51e00",
   "metadata": {},
   "outputs": [
    {
     "data": {
      "text/plain": [
       "'boolean expected'"
      ]
     },
     "execution_count": 111,
     "metadata": {},
     "output_type": "execute_result"
    }
   ],
   "source": [
    "reverse(None) "
   ]
  },
  {
   "cell_type": "markdown",
   "id": "be0bd638",
   "metadata": {},
   "source": [
    "## Program 109\n",
    "**Create a function that returns the thickness (in meters) of a piece of paper after folding it n number of times. The paper starts off with a thickness of 0.5mm.**\n",
    "\n",
    "**Examples**\n",
    "\n",
    "**num_layers(1) ➞ \"0.001m\"**\n",
    "\n",
    "**- Paper folded once is 1mm (equal to 0.001m)**\n",
    "\n",
    "**num_layers(4) ➞ \"0.008m\"**\n",
    "\n",
    "**- Paper folded 4 times is 8mm (equal to 0.008m)**\n",
    "\n",
    "**num_layers(21) ➞ \"1048.576m\"**\n",
    "\n",
    "**- Paper folded 21 times is 1048576mm (equal to 1048.576m)**"
   ]
  },
  {
   "cell_type": "code",
   "execution_count": 112,
   "id": "1727d957",
   "metadata": {},
   "outputs": [],
   "source": [
    "def num_layers(n):\n",
    "    initial_thickness_mm = 0.5  # Initial thickness in millimeters\n",
    "    final_thickness_mm = initial_thickness_mm * (2 ** n)\n",
    "    final_thickness_m = final_thickness_mm / 1000  # Convert millimeters to meters\n",
    "    return f\"{final_thickness_m:.3f}m\""
   ]
  },
  {
   "cell_type": "code",
   "execution_count": 113,
   "id": "d30e75a3",
   "metadata": {},
   "outputs": [
    {
     "data": {
      "text/plain": [
       "'0.001m'"
      ]
     },
     "execution_count": 113,
     "metadata": {},
     "output_type": "execute_result"
    }
   ],
   "source": [
    "num_layers(1)"
   ]
  },
  {
   "cell_type": "code",
   "execution_count": 114,
   "id": "af1e5c0b",
   "metadata": {},
   "outputs": [
    {
     "data": {
      "text/plain": [
       "'0.008m'"
      ]
     },
     "execution_count": 114,
     "metadata": {},
     "output_type": "execute_result"
    }
   ],
   "source": [
    "num_layers(4)"
   ]
  },
  {
   "cell_type": "code",
   "execution_count": 115,
   "id": "5621d865",
   "metadata": {},
   "outputs": [
    {
     "data": {
      "text/plain": [
       "'1048.576m'"
      ]
     },
     "execution_count": 115,
     "metadata": {},
     "output_type": "execute_result"
    }
   ],
   "source": [
    "num_layers(21)"
   ]
  },
  {
   "cell_type": "markdown",
   "id": "c9675757",
   "metadata": {},
   "source": [
    "## Program 110\n",
    "**Create a function that takes a single string as argument and returns an ordered list containing the indices of all capital letters in the string.**\n",
    "\n",
    "**Examples**\n",
    "\n",
    "**index_of_caps(\"eDaBiT\") ➞ [1, 3, 5]**\n",
    "\n",
    "**index_of_caps(\"eQuINoX\") ➞ [1, 3, 4, 6]**\n",
    "\n",
    "**index_of_caps(\"determine\") ➞ []**\n",
    "\n",
    "**index_of_caps(\"STRIKE\") ➞ [0, 1, 2, 3, 4, 5]**\n",
    "\n",
    "**index_of_caps(\"sUn\") ➞ [1]**"
   ]
  },
  {
   "cell_type": "code",
   "execution_count": 116,
   "id": "1885e086",
   "metadata": {},
   "outputs": [],
   "source": [
    "def index_of_caps(word):\n",
    "    # Use list comprehension to find indices of capital letters\n",
    "    return [i for i, char in enumerate(word) if char.isupper()]"
   ]
  },
  {
   "cell_type": "code",
   "execution_count": 117,
   "id": "5cd2cb0d",
   "metadata": {},
   "outputs": [
    {
     "data": {
      "text/plain": [
       "[1, 3, 5]"
      ]
     },
     "execution_count": 117,
     "metadata": {},
     "output_type": "execute_result"
    }
   ],
   "source": [
    "index_of_caps(\"eDaBiT\")"
   ]
  },
  {
   "cell_type": "code",
   "execution_count": 118,
   "id": "f71fc4db",
   "metadata": {},
   "outputs": [
    {
     "data": {
      "text/plain": [
       "[1, 3, 4, 6]"
      ]
     },
     "execution_count": 118,
     "metadata": {},
     "output_type": "execute_result"
    }
   ],
   "source": [
    "index_of_caps(\"eQuINoX\") "
   ]
  },
  {
   "cell_type": "code",
   "execution_count": 119,
   "id": "6c3ccd5c",
   "metadata": {},
   "outputs": [
    {
     "data": {
      "text/plain": [
       "[]"
      ]
     },
     "execution_count": 119,
     "metadata": {},
     "output_type": "execute_result"
    }
   ],
   "source": [
    "index_of_caps(\"determine\")"
   ]
  },
  {
   "cell_type": "code",
   "execution_count": 120,
   "id": "104004e6",
   "metadata": {},
   "outputs": [
    {
     "data": {
      "text/plain": [
       "[0, 1, 2, 3, 4, 5]"
      ]
     },
     "execution_count": 120,
     "metadata": {},
     "output_type": "execute_result"
    }
   ],
   "source": [
    "index_of_caps(\"STRIKE\")"
   ]
  },
  {
   "cell_type": "code",
   "execution_count": 121,
   "id": "39c8bcb7",
   "metadata": {},
   "outputs": [
    {
     "data": {
      "text/plain": [
       "[1]"
      ]
     },
     "execution_count": 121,
     "metadata": {},
     "output_type": "execute_result"
    }
   ],
   "source": [
    "index_of_caps(\"sUn\")"
   ]
  },
  {
   "cell_type": "markdown",
   "id": "65b899bc",
   "metadata": {},
   "source": [
    "## Program 111\n",
    "**Using list comprehensions, create a function that finds all even numbers from 1 to the given number.**\n",
    "\n",
    "**Examples**\n",
    "\n",
    "**find_even_nums(8) ➞ [2, 4, 6, 8]**\n",
    "\n",
    "**find_even_nums(4) ➞ [2, 4]**\n",
    "\n",
    "**find_even_nums(2) ➞ [2]**"
   ]
  },
  {
   "cell_type": "code",
   "execution_count": 123,
   "id": "6ed3f2c7",
   "metadata": {},
   "outputs": [],
   "source": [
    "def find_even_nums(num):\n",
    "    # Use a list comprehension to generate even numbers from 1 to num\n",
    "    return [x for x in range(1, num + 1) if x % 2 == 0]"
   ]
  },
  {
   "cell_type": "code",
   "execution_count": 124,
   "id": "a704a157",
   "metadata": {},
   "outputs": [
    {
     "data": {
      "text/plain": [
       "[2, 4, 6, 8]"
      ]
     },
     "execution_count": 124,
     "metadata": {},
     "output_type": "execute_result"
    }
   ],
   "source": [
    "find_even_nums(8)"
   ]
  },
  {
   "cell_type": "code",
   "execution_count": 125,
   "id": "3bafc06c",
   "metadata": {},
   "outputs": [
    {
     "data": {
      "text/plain": [
       "[2, 4]"
      ]
     },
     "execution_count": 125,
     "metadata": {},
     "output_type": "execute_result"
    }
   ],
   "source": [
    "find_even_nums(4)"
   ]
  },
  {
   "cell_type": "code",
   "execution_count": 126,
   "id": "1af97d93",
   "metadata": {},
   "outputs": [
    {
     "data": {
      "text/plain": [
       "[2]"
      ]
     },
     "execution_count": 126,
     "metadata": {},
     "output_type": "execute_result"
    }
   ],
   "source": [
    "find_even_nums(2)"
   ]
  },
  {
   "cell_type": "markdown",
   "id": "5fef1d21",
   "metadata": {},
   "source": [
    "## Program 112\n",
    "**Create a function that takes a list of strings and integers, and filters out the list so that it returns a list of integers only.**\n",
    "\n",
    "**Examples**\n",
    "\n",
    "**filter_list([1, 2, 3, \"a\", \"b\", 4]) ➞ [1, 2, 3, 4]**\n",
    "\n",
    "**filter_list([\"A\", 0, \"Edabit\", 1729, \"Python\", 1729]) ➞ [0, 1729]**\n",
    "\n",
    "**filter_list([\"Nothing\", \"here\"]) ➞ []**"
   ]
  },
  {
   "cell_type": "code",
   "execution_count": 127,
   "id": "8f6a403a",
   "metadata": {},
   "outputs": [],
   "source": [
    "def filter_list(lst):\n",
    "    # Use a list comprehension to filter out integers\n",
    "    return [x for x in lst if isinstance(x, int)]"
   ]
  },
  {
   "cell_type": "code",
   "execution_count": 128,
   "id": "659cfcd2",
   "metadata": {},
   "outputs": [
    {
     "data": {
      "text/plain": [
       "[1, 2, 3, 4]"
      ]
     },
     "execution_count": 128,
     "metadata": {},
     "output_type": "execute_result"
    }
   ],
   "source": [
    "filter_list([1, 2, 3, \"a\", \"b\", 4]) "
   ]
  },
  {
   "cell_type": "code",
   "execution_count": 129,
   "id": "a3dc6f36",
   "metadata": {},
   "outputs": [
    {
     "data": {
      "text/plain": [
       "[0, 1729, 1729]"
      ]
     },
     "execution_count": 129,
     "metadata": {},
     "output_type": "execute_result"
    }
   ],
   "source": [
    "filter_list([\"A\", 0, \"Edabit\", 1729, \"Python\", 1729]) "
   ]
  },
  {
   "cell_type": "code",
   "execution_count": 130,
   "id": "babe4461",
   "metadata": {},
   "outputs": [
    {
     "data": {
      "text/plain": [
       "[0, 1729, 1729]"
      ]
     },
     "execution_count": 130,
     "metadata": {},
     "output_type": "execute_result"
    }
   ],
   "source": [
    "filter_list([\"A\", 0, \"Edabit\", 1729, \"Python\", 1729])"
   ]
  },
  {
   "cell_type": "code",
   "execution_count": 131,
   "id": "25fd63de",
   "metadata": {},
   "outputs": [
    {
     "data": {
      "text/plain": [
       "[]"
      ]
     },
     "execution_count": 131,
     "metadata": {},
     "output_type": "execute_result"
    }
   ],
   "source": [
    "filter_list([\"Nothing\", \"here\"])"
   ]
  },
  {
   "cell_type": "markdown",
   "id": "3cbee4f7",
   "metadata": {},
   "source": [
    "## Program 113\n",
    "**Given a list of numbers, create a function which returns the list but with each element's index in the list added to itself. This means you add 0 to the number at index 0, add 1 to the number at index 1, etc...**\n",
    "\n",
    "**Examples**\n",
    "\n",
    "**add_indexes([0, 0, 0, 0, 0]) ➞ [0, 1, 2, 3, 4]**\n",
    "\n",
    "**add_indexes([1, 2, 3, 4, 5]) ➞ [1, 3, 5, 7, 9]**\n",
    "\n",
    "**add_indexes([5, 4, 3, 2, 1]) ➞ [5, 5, 5, 5, 5]**"
   ]
  },
  {
   "cell_type": "code",
   "execution_count": 132,
   "id": "7bd35934",
   "metadata": {},
   "outputs": [],
   "source": [
    "def add_indexes(lst):\n",
    "    # Use list comprehension to add index to each element\n",
    "    return [i + val for i, val in enumerate(lst)]"
   ]
  },
  {
   "cell_type": "code",
   "execution_count": 133,
   "id": "3cabbca2",
   "metadata": {},
   "outputs": [
    {
     "data": {
      "text/plain": [
       "[0, 1, 2, 3, 4]"
      ]
     },
     "execution_count": 133,
     "metadata": {},
     "output_type": "execute_result"
    }
   ],
   "source": [
    "add_indexes([0, 0, 0, 0, 0]) "
   ]
  },
  {
   "cell_type": "code",
   "execution_count": 134,
   "id": "3ae7260b",
   "metadata": {},
   "outputs": [
    {
     "data": {
      "text/plain": [
       "[1, 3, 5, 7, 9]"
      ]
     },
     "execution_count": 134,
     "metadata": {},
     "output_type": "execute_result"
    }
   ],
   "source": [
    "add_indexes([1, 2, 3, 4, 5])"
   ]
  },
  {
   "cell_type": "code",
   "execution_count": 135,
   "id": "26a24b6e",
   "metadata": {},
   "outputs": [
    {
     "data": {
      "text/plain": [
       "[5, 5, 5, 5, 5]"
      ]
     },
     "execution_count": 135,
     "metadata": {},
     "output_type": "execute_result"
    }
   ],
   "source": [
    "add_indexes([5, 4, 3, 2, 1])"
   ]
  },
  {
   "cell_type": "markdown",
   "id": "c287b3f1",
   "metadata": {},
   "source": [
    "## Program 114\n",
    "**Create a function that takes the height and radius of a cone as arguments and returns the volume of the cone rounded to the nearest hundredth. See the resources tab for the formula.**\n",
    "\n",
    "**Examples**\n",
    "\n",
    "**cone_volume(3, 2) ➞ 12.57**\n",
    "\n",
    "**cone_volume(15, 6) ➞ 565.49**\n",
    "\n",
    "**cone_volume(18, 0) ➞ 0**"
   ]
  },
  {
   "cell_type": "code",
   "execution_count": 136,
   "id": "d8b6be8e",
   "metadata": {},
   "outputs": [],
   "source": [
    "import math\n",
    "\n",
    "def cone_volume(height, radius):\n",
    "    if radius == 0:\n",
    "        return 0\n",
    "    volume = (1/3) * math.pi * (radius**2) * height\n",
    "    return round(volume, 2)"
   ]
  },
  {
   "cell_type": "code",
   "execution_count": 137,
   "id": "d1436cef",
   "metadata": {},
   "outputs": [
    {
     "data": {
      "text/plain": [
       "12.57"
      ]
     },
     "execution_count": 137,
     "metadata": {},
     "output_type": "execute_result"
    }
   ],
   "source": [
    "cone_volume(3, 2)"
   ]
  },
  {
   "cell_type": "code",
   "execution_count": 138,
   "id": "69afca93",
   "metadata": {},
   "outputs": [
    {
     "data": {
      "text/plain": [
       "565.49"
      ]
     },
     "execution_count": 138,
     "metadata": {},
     "output_type": "execute_result"
    }
   ],
   "source": [
    "cone_volume(15, 6)"
   ]
  },
  {
   "cell_type": "code",
   "execution_count": 139,
   "id": "0010b09c",
   "metadata": {},
   "outputs": [
    {
     "data": {
      "text/plain": [
       "0"
      ]
     },
     "execution_count": 139,
     "metadata": {},
     "output_type": "execute_result"
    }
   ],
   "source": [
    "cone_volume(18, 0) "
   ]
  },
  {
   "cell_type": "markdown",
   "id": "a99e2bfb",
   "metadata": {},
   "source": [
    "## Program 115\n",
    "**This Triangular Number Sequence is generated from a pattern of dots that form a triangle. The first 5 numbers of the sequence, or dots, are:**\n",
    "\n",
    "**1, 3, 6, 10, 15**\n",
    "\n",
    "**This means that the first triangle has just one dot, the second one has three dots, the third one\n",
    "has 6 dots and so on.**\n",
    "\n",
    "**Write a function that gives the number of dots with its corresponding triangle number of the sequence.**\n",
    "\n",
    "**Examples**\n",
    "\n",
    "**triangle(1) ➞ 1**\n",
    "\n",
    "**triangle(6) ➞ 21**\n",
    "\n",
    "**triangle(215) ➞ 23220**"
   ]
  },
  {
   "cell_type": "code",
   "execution_count": 140,
   "id": "02cc09d7",
   "metadata": {},
   "outputs": [],
   "source": [
    "def triangle(n):\n",
    "    if n < 1:\n",
    "        return 0\n",
    "    return n * (n + 1) // 2"
   ]
  },
  {
   "cell_type": "code",
   "execution_count": 141,
   "id": "9c416734",
   "metadata": {},
   "outputs": [
    {
     "data": {
      "text/plain": [
       "1"
      ]
     },
     "execution_count": 141,
     "metadata": {},
     "output_type": "execute_result"
    }
   ],
   "source": [
    "triangle(1)"
   ]
  },
  {
   "cell_type": "code",
   "execution_count": 142,
   "id": "5a03e4bb",
   "metadata": {},
   "outputs": [
    {
     "data": {
      "text/plain": [
       "21"
      ]
     },
     "execution_count": 142,
     "metadata": {},
     "output_type": "execute_result"
    }
   ],
   "source": [
    "triangle(6) "
   ]
  },
  {
   "cell_type": "code",
   "execution_count": 143,
   "id": "ba473c5f",
   "metadata": {},
   "outputs": [
    {
     "data": {
      "text/plain": [
       "23220"
      ]
     },
     "execution_count": 143,
     "metadata": {},
     "output_type": "execute_result"
    }
   ],
   "source": [
    "triangle(215)"
   ]
  },
  {
   "cell_type": "markdown",
   "id": "657a0a56",
   "metadata": {},
   "source": [
    "## Program 116\n",
    "**Create a function that takes a list of numbers between 1 and 10 (excluding one number) and returns the missing number.**\n",
    "\n",
    "**Examples**\n",
    "\n",
    "**missing_num([1, 2, 3, 4, 6, 7, 8, 9, 10]) ➞ 5**\n",
    "\n",
    "**missing_num([7, 2, 3, 6, 5, 9, 1, 4, 8]) ➞ 10**\n",
    "\n",
    "**missing_num([10, 5, 1, 2, 4, 6, 8, 3, 9]) ➞ 7**"
   ]
  },
  {
   "cell_type": "code",
   "execution_count": 144,
   "id": "cb1181fd",
   "metadata": {},
   "outputs": [],
   "source": [
    "def missing_num(lst):\n",
    "    total_sum = sum(range(1, 11))  # Sum of numbers from 1 to 10\n",
    "    given_sum = sum(lst)  # Sum of the given list of numbers\n",
    "    missing = total_sum - given_sum\n",
    "    return missing"
   ]
  },
  {
   "cell_type": "code",
   "execution_count": 145,
   "id": "247101e0",
   "metadata": {},
   "outputs": [
    {
     "data": {
      "text/plain": [
       "5"
      ]
     },
     "execution_count": 145,
     "metadata": {},
     "output_type": "execute_result"
    }
   ],
   "source": [
    "missing_num([1, 2, 3, 4, 6, 7, 8, 9, 10])"
   ]
  },
  {
   "cell_type": "code",
   "execution_count": 146,
   "id": "231aa264",
   "metadata": {},
   "outputs": [
    {
     "data": {
      "text/plain": [
       "10"
      ]
     },
     "execution_count": 146,
     "metadata": {},
     "output_type": "execute_result"
    }
   ],
   "source": [
    "missing_num([7, 2, 3, 6, 5, 9, 1, 4, 8])"
   ]
  },
  {
   "cell_type": "code",
   "execution_count": 147,
   "id": "c743bf4b",
   "metadata": {},
   "outputs": [
    {
     "data": {
      "text/plain": [
       "7"
      ]
     },
     "execution_count": 147,
     "metadata": {},
     "output_type": "execute_result"
    }
   ],
   "source": [
    "missing_num([10, 5, 1, 2, 4, 6, 8, 3, 9])"
   ]
  },
  {
   "cell_type": "markdown",
   "id": "e1b77f80",
   "metadata": {},
   "source": [
    "## Program 117\n",
    "\n",
    "\n",
    "**Write a function that takes a list and a number as arguments. Add the number to the end of the list, then remove the first element of the list. The function should then return the updated list.**\n",
    "\n",
    "**Examples**\n",
    "\n",
    "**next_in_line([5, 6, 7, 8, 9], 1) ➞ [6, 7, 8, 9, 1]**\n",
    "\n",
    "**next_in_line([7, 6, 3, 23, 17], 10) ➞ [6, 3, 23, 17, 10]**\n",
    "\n",
    "**next_in_line([1, 10, 20, 42 ], 6) ➞ [10, 20, 42, 6]**\n",
    "\n",
    "**next_in_line([], 6) ➞ \"No list has been selected\"**"
   ]
  },
  {
   "cell_type": "code",
   "execution_count": 148,
   "id": "4d1b7f5a",
   "metadata": {},
   "outputs": [],
   "source": [
    "def next_in_line(lst, num):\n",
    "    if lst:\n",
    "        lst.pop(0)  # Remove the first element\n",
    "        lst.append(num)  # Add the number to the end\n",
    "        return lst\n",
    "    else:\n",
    "        return \"No list has been selected\""
   ]
  },
  {
   "cell_type": "code",
   "execution_count": 149,
   "id": "feb800fa",
   "metadata": {},
   "outputs": [
    {
     "data": {
      "text/plain": [
       "[6, 7, 8, 9, 1]"
      ]
     },
     "execution_count": 149,
     "metadata": {},
     "output_type": "execute_result"
    }
   ],
   "source": [
    "next_in_line([5, 6, 7, 8, 9], 1) "
   ]
  },
  {
   "cell_type": "code",
   "execution_count": 150,
   "id": "f53702c1",
   "metadata": {},
   "outputs": [
    {
     "data": {
      "text/plain": [
       "[6, 3, 23, 17, 10]"
      ]
     },
     "execution_count": 150,
     "metadata": {},
     "output_type": "execute_result"
    }
   ],
   "source": [
    "next_in_line([7, 6, 3, 23, 17], 10)"
   ]
  },
  {
   "cell_type": "code",
   "execution_count": 151,
   "id": "a37abfba",
   "metadata": {},
   "outputs": [
    {
     "data": {
      "text/plain": [
       "[10, 20, 42, 6]"
      ]
     },
     "execution_count": 151,
     "metadata": {},
     "output_type": "execute_result"
    }
   ],
   "source": [
    "next_in_line([1, 10, 20, 42 ], 6)"
   ]
  },
  {
   "cell_type": "code",
   "execution_count": 152,
   "id": "a656b4f2",
   "metadata": {},
   "outputs": [
    {
     "data": {
      "text/plain": [
       "'No list has been selected'"
      ]
     },
     "execution_count": 152,
     "metadata": {},
     "output_type": "execute_result"
    }
   ],
   "source": [
    "next_in_line([], 6)"
   ]
  },
  {
   "cell_type": "markdown",
   "id": "4b48bb54",
   "metadata": {},
   "source": [
    "## Program 118\n",
    "**Create the function that takes a list of dictionaries and returns the sum of people's budgets.**\n",
    "\n",
    "**Examples**\n",
    "\n",
    "**get_budgets([**\n",
    "               \n",
    "**{ 'name': 'John', 'age': 21, 'budget': 23000 },**\n",
    "               \n",
    "**{ 'name': 'Steve', 'age': 32, 'budget': 40000 },**\n",
    "               \n",
    "**{ 'name': 'Martin', 'age': 16, 'budget': 2700 }**\n",
    "               \n",
    "**]) ➞ 65700**\n",
    "\n",
    "**get_budgets([**\n",
    "               \n",
    "**{ 'name': 'John', 'age': 21, 'budget': 29000 },**\n",
    "               \n",
    "**{ 'name': 'Steve', 'age': 32, 'budget': 32000 },**\n",
    "               \n",
    "**{ 'name': 'Martin', 'age': 16, 'budget': 1600 }**\n",
    "               \n",
    "**]) ➞ 62600**"
   ]
  },
  {
   "cell_type": "code",
   "execution_count": 153,
   "id": "18c9c808",
   "metadata": {},
   "outputs": [],
   "source": [
    "def get_budgets(lst):\n",
    "    total_budget = sum(person['budget'] for person in lst)\n",
    "    return total_budget\n",
    "\n",
    "# Test cases\n",
    "budgets1 = [\n",
    "    {'name': 'John', 'age': 21, 'budget': 23000},\n",
    "    {'name': 'Steve', 'age': 32, 'budget': 40000},\n",
    "    {'name': 'Martin', 'age': 16, 'budget': 2700}\n",
    "]\n",
    "\n",
    "budgets2 = [\n",
    "    {'name': 'John', 'age': 21, 'budget': 29000},\n",
    "    {'name': 'Steve', 'age': 32, 'budget': 32000},\n",
    "    {'name': 'Martin', 'age': 16, 'budget': 1600}\n",
    "]"
   ]
  },
  {
   "cell_type": "code",
   "execution_count": 154,
   "id": "487fcdbc",
   "metadata": {},
   "outputs": [
    {
     "data": {
      "text/plain": [
       "65700"
      ]
     },
     "execution_count": 154,
     "metadata": {},
     "output_type": "execute_result"
    }
   ],
   "source": [
    "get_budgets(budgets1)"
   ]
  },
  {
   "cell_type": "code",
   "execution_count": 155,
   "id": "e02ca6d9",
   "metadata": {},
   "outputs": [
    {
     "data": {
      "text/plain": [
       "62600"
      ]
     },
     "execution_count": 155,
     "metadata": {},
     "output_type": "execute_result"
    }
   ],
   "source": [
    "get_budgets(budgets2)"
   ]
  },
  {
   "cell_type": "markdown",
   "id": "bb11904e",
   "metadata": {},
   "source": [
    "## Program 119\n",
    "**Create a function that takes a string and returns a string with its letters in alphabetical order.**\n",
    "\n",
    "**Examples**\n",
    "\n",
    "**alphabet_soup(\"hello\") ➞ \"ehllo\"**\n",
    "\n",
    "**alphabet_soup(\"edabit\") ➞ \"abdeit\"**\n",
    "\n",
    "**alphabet_soup(\"hacker\") ➞ \"acehkr\"**\n",
    "\n",
    "**alphabet_soup(\"geek\") ➞ \"eegk\"**\n",
    "\n",
    "**alphabet_soup(\"javascript\") ➞ \"aacijprstv\"**"
   ]
  },
  {
   "cell_type": "code",
   "execution_count": 156,
   "id": "a6608bce",
   "metadata": {},
   "outputs": [],
   "source": [
    "def alphabet_soup(txt):\n",
    "    return ''.join(sorted(txt))"
   ]
  },
  {
   "cell_type": "code",
   "execution_count": 157,
   "id": "30db016f",
   "metadata": {},
   "outputs": [
    {
     "data": {
      "text/plain": [
       "'ehllo'"
      ]
     },
     "execution_count": 157,
     "metadata": {},
     "output_type": "execute_result"
    }
   ],
   "source": [
    "alphabet_soup(\"hello\") "
   ]
  },
  {
   "cell_type": "code",
   "execution_count": 158,
   "id": "89d0c520",
   "metadata": {},
   "outputs": [
    {
     "data": {
      "text/plain": [
       "'abdeit'"
      ]
     },
     "execution_count": 158,
     "metadata": {},
     "output_type": "execute_result"
    }
   ],
   "source": [
    "alphabet_soup(\"edabit\")"
   ]
  },
  {
   "cell_type": "code",
   "execution_count": 159,
   "id": "0c203e98",
   "metadata": {},
   "outputs": [
    {
     "data": {
      "text/plain": [
       "'acehkr'"
      ]
     },
     "execution_count": 159,
     "metadata": {},
     "output_type": "execute_result"
    }
   ],
   "source": [
    "alphabet_soup(\"hacker\")"
   ]
  },
  {
   "cell_type": "code",
   "execution_count": 160,
   "id": "0e0bd71c",
   "metadata": {},
   "outputs": [
    {
     "data": {
      "text/plain": [
       "'eegk'"
      ]
     },
     "execution_count": 160,
     "metadata": {},
     "output_type": "execute_result"
    }
   ],
   "source": [
    "alphabet_soup(\"geek\")"
   ]
  },
  {
   "cell_type": "code",
   "execution_count": 161,
   "id": "3edd9d39",
   "metadata": {},
   "outputs": [
    {
     "data": {
      "text/plain": [
       "'aacijprstv'"
      ]
     },
     "execution_count": 161,
     "metadata": {},
     "output_type": "execute_result"
    }
   ],
   "source": [
    "alphabet_soup(\"javascript\") "
   ]
  },
  {
   "cell_type": "markdown",
   "id": "cf1405b4",
   "metadata": {},
   "source": [
    "## Program 120\n",
    "**Suppose that you invest $10,000 for 10 years at an interest rate of 6% compounded monthly. What will be the value of your investment at the end of the 10 year period?**\n",
    "\n",
    "**Create a function that accepts the principal p, the term in years t, the interest rate r, and the number of compounding periods per year n. The function returns the value at the end of term rounded to the nearest cent.**\n",
    "\n",
    "**For the example:**\n",
    "\n",
    "**compound_interest(10000, 10, 0.06, 12) ➞ 18193.97**\n",
    "\n",
    "**Note that the interest rate is given as a decimal and n=12 because with monthly compounding there are 12 periods per year. Compounding can also be done annually, quarterly, weekly, or daily.**\n",
    "\n",
    "**Examples**\n",
    "\n",
    "**compound_interest(100, 1, 0.05, 1) ➞ 105.0**\n",
    "\n",
    "**compound_interest(3500, 15, 0.1, 4) ➞ 15399.26**\n",
    "\n",
    "**compound_interest(100000, 20, 0.15, 365) ➞ 2007316.26**"
   ]
  },
  {
   "cell_type": "code",
   "execution_count": 162,
   "id": "cc79123b",
   "metadata": {},
   "outputs": [],
   "source": [
    "def compound_interest(p, t, r, n):\n",
    "    # Calculate the compound interest using the formula\n",
    "    a = p * (1 + (r / n)) ** (n * t)\n",
    "    # Round the result to the nearest cent\n",
    "    return round(a, 2)"
   ]
  },
  {
   "cell_type": "code",
   "execution_count": 163,
   "id": "59dead61",
   "metadata": {},
   "outputs": [
    {
     "data": {
      "text/plain": [
       "18193.97"
      ]
     },
     "execution_count": 163,
     "metadata": {},
     "output_type": "execute_result"
    }
   ],
   "source": [
    "compound_interest(10000, 10, 0.06, 12)"
   ]
  },
  {
   "cell_type": "code",
   "execution_count": 164,
   "id": "776ba538",
   "metadata": {},
   "outputs": [
    {
     "data": {
      "text/plain": [
       "105.0"
      ]
     },
     "execution_count": 164,
     "metadata": {},
     "output_type": "execute_result"
    }
   ],
   "source": [
    "compound_interest(100, 1, 0.05, 1)"
   ]
  },
  {
   "cell_type": "code",
   "execution_count": 165,
   "id": "6ec86fc6",
   "metadata": {},
   "outputs": [
    {
     "data": {
      "text/plain": [
       "15399.26"
      ]
     },
     "execution_count": 165,
     "metadata": {},
     "output_type": "execute_result"
    }
   ],
   "source": [
    "compound_interest(3500, 15, 0.1, 4)"
   ]
  },
  {
   "cell_type": "code",
   "execution_count": 166,
   "id": "0cf223ad",
   "metadata": {},
   "outputs": [
    {
     "data": {
      "text/plain": [
       "2007316.26"
      ]
     },
     "execution_count": 166,
     "metadata": {},
     "output_type": "execute_result"
    }
   ],
   "source": [
    "compound_interest(100000, 20, 0.15, 365)"
   ]
  },
  {
   "cell_type": "markdown",
   "id": "c6cbf425",
   "metadata": {},
   "source": [
    "## Program 121\n",
    "**Write a function that takes a list of elements and returns only the integers.**\n",
    "\n",
    "**Examples**\n",
    "\n",
    "**return_only_integer([9, 2, \"space\", \"car\", \"lion\", 16]) ➞ [9, 2, 16]**\n",
    "\n",
    "**return_only_integer([\"hello\", 81, \"basketball\", 123, \"fox\"]) ➞ [81, 123]**\n",
    "\n",
    "**return_only_integer([10, \"121\", 56, 20, \"car\", 3, \"lion\"]) ➞ [10, 56, 20,3]**\n",
    "\n",
    "**return_only_integer([\"String\", True, 3.3, 1]) ➞ [1]**"
   ]
  },
  {
   "cell_type": "code",
   "execution_count": 167,
   "id": "f15019d8",
   "metadata": {},
   "outputs": [],
   "source": [
    "def return_only_integer(lst):\n",
    "    # Use list comprehension to filter out integers\n",
    "    return [x for x in lst if isinstance(x, int) and not isinstance(x, bool)]"
   ]
  },
  {
   "cell_type": "code",
   "execution_count": 168,
   "id": "47e4683a",
   "metadata": {},
   "outputs": [
    {
     "data": {
      "text/plain": [
       "[9, 2, 16]"
      ]
     },
     "execution_count": 168,
     "metadata": {},
     "output_type": "execute_result"
    }
   ],
   "source": [
    "return_only_integer([9, 2, \"space\", \"car\", \"lion\", 16])"
   ]
  },
  {
   "cell_type": "code",
   "execution_count": 169,
   "id": "0c745cd0",
   "metadata": {},
   "outputs": [
    {
     "data": {
      "text/plain": [
       "[81, 123]"
      ]
     },
     "execution_count": 169,
     "metadata": {},
     "output_type": "execute_result"
    }
   ],
   "source": [
    "return_only_integer([\"hello\", 81, \"basketball\", 123, \"fox\"]) "
   ]
  },
  {
   "cell_type": "code",
   "execution_count": 170,
   "id": "943a1e62",
   "metadata": {},
   "outputs": [
    {
     "data": {
      "text/plain": [
       "[10, 56, 20, 3]"
      ]
     },
     "execution_count": 170,
     "metadata": {},
     "output_type": "execute_result"
    }
   ],
   "source": [
    "return_only_integer([10, \"121\", 56, 20, \"car\", 3, \"lion\"]) "
   ]
  },
  {
   "cell_type": "code",
   "execution_count": 171,
   "id": "43699d70",
   "metadata": {},
   "outputs": [
    {
     "data": {
      "text/plain": [
       "[1]"
      ]
     },
     "execution_count": 171,
     "metadata": {},
     "output_type": "execute_result"
    }
   ],
   "source": [
    "return_only_integer([\"String\", True, 3.3, 1])"
   ]
  },
  {
   "cell_type": "markdown",
   "id": "412c9079",
   "metadata": {},
   "source": [
    "## Program 122\n",
    "**Create a function that takes three parameters where:**\n",
    "\n",
    "**- x is the start of the range (inclusive).**\n",
    "\n",
    "**- y is the end of the range (inclusive).**\n",
    "\n",
    "**- n is the divisor to be checked against.**\n",
    "\n",
    "**Return an ordered list with numbers in the range that are divisible by the third parameter n.**\n",
    "\n",
    "**Return an empty list if there are no numbers that are divisible by n.**\n",
    "\n",
    "**Examples**\n",
    "\n",
    "**list_operation(1, 10, 3) ➞ [3, 6, 9]**\n",
    "\n",
    "**list_operation(7, 9, 2) ➞ [8]**\n",
    "\n",
    "**list_operation(15, 20, 7) ➞ []**"
   ]
  },
  {
   "cell_type": "code",
   "execution_count": 172,
   "id": "d5596c37",
   "metadata": {},
   "outputs": [],
   "source": [
    "def list_operation(x, y, n):\n",
    "    # Use list comprehension to generate the list of numbers divisible by n\n",
    "    return [num for num in range(x, y + 1) if num % n == 0]"
   ]
  },
  {
   "cell_type": "code",
   "execution_count": 173,
   "id": "b911d777",
   "metadata": {},
   "outputs": [
    {
     "data": {
      "text/plain": [
       "[3, 6, 9]"
      ]
     },
     "execution_count": 173,
     "metadata": {},
     "output_type": "execute_result"
    }
   ],
   "source": [
    "list_operation(1, 10, 3)"
   ]
  },
  {
   "cell_type": "code",
   "execution_count": 174,
   "id": "38ef2fb8",
   "metadata": {},
   "outputs": [
    {
     "data": {
      "text/plain": [
       "[8]"
      ]
     },
     "execution_count": 174,
     "metadata": {},
     "output_type": "execute_result"
    }
   ],
   "source": [
    "list_operation(7, 9, 2)"
   ]
  },
  {
   "cell_type": "code",
   "execution_count": 175,
   "id": "eaab2781",
   "metadata": {},
   "outputs": [
    {
     "data": {
      "text/plain": [
       "[]"
      ]
     },
     "execution_count": 175,
     "metadata": {},
     "output_type": "execute_result"
    }
   ],
   "source": [
    "list_operation(15, 20, 7)"
   ]
  },
  {
   "cell_type": "markdown",
   "id": "5def5c75",
   "metadata": {},
   "source": [
    "## Program 123\n",
    "**Create a function that takes in two lists and returns True if the second list follows the first list by one element, and False otherwise. In other words, determine if the second list is the first\n",
    "list shifted to the right by 1.**\n",
    "\n",
    "**Examples**\n",
    "\n",
    "**simon_says([1, 2], [5, 1]) ➞ True**\n",
    "\n",
    "**simon_says([1, 2], [5, 5]) ➞ False**\n",
    "\n",
    "**simon_says([1, 2, 3, 4, 5], [0, 1, 2, 3, 4]) ➞ True**\n",
    "\n",
    "**simon_says([1, 2, 3, 4, 5], [5, 5, 1, 2, 3]) ➞ False**\n",
    "\n",
    "**Notes:**\n",
    "\n",
    "**- Both input lists will be of the same length, and will have a minimum length of 2.**\n",
    "\n",
    "**- The values of the 0-indexed element in the second list and the n-1th indexed element in the first list do not matter.**"
   ]
  },
  {
   "cell_type": "code",
   "execution_count": 176,
   "id": "ccb34b8c",
   "metadata": {},
   "outputs": [],
   "source": [
    "def simon_says(list1, list2):\n",
    "    # Check if the second list is the first list shifted to the right by 1\n",
    "    return list1[:-1] == list2[1:]"
   ]
  },
  {
   "cell_type": "code",
   "execution_count": 177,
   "id": "b69cfe68",
   "metadata": {},
   "outputs": [
    {
     "data": {
      "text/plain": [
       "True"
      ]
     },
     "execution_count": 177,
     "metadata": {},
     "output_type": "execute_result"
    }
   ],
   "source": [
    "simon_says([1, 2], [5, 1])"
   ]
  },
  {
   "cell_type": "code",
   "execution_count": 178,
   "id": "d56c9753",
   "metadata": {},
   "outputs": [
    {
     "data": {
      "text/plain": [
       "False"
      ]
     },
     "execution_count": 178,
     "metadata": {},
     "output_type": "execute_result"
    }
   ],
   "source": [
    "simon_says([1, 2], [5, 5])"
   ]
  },
  {
   "cell_type": "code",
   "execution_count": 179,
   "id": "7fee8f3d",
   "metadata": {},
   "outputs": [
    {
     "data": {
      "text/plain": [
       "True"
      ]
     },
     "execution_count": 179,
     "metadata": {},
     "output_type": "execute_result"
    }
   ],
   "source": [
    "simon_says([1, 2, 3, 4, 5], [0, 1, 2, 3, 4])"
   ]
  },
  {
   "cell_type": "code",
   "execution_count": 180,
   "id": "1043fd30",
   "metadata": {},
   "outputs": [
    {
     "data": {
      "text/plain": [
       "False"
      ]
     },
     "execution_count": 180,
     "metadata": {},
     "output_type": "execute_result"
    }
   ],
   "source": [
    "simon_says([1, 2, 3, 4, 5], [5, 5, 1, 2, 3])"
   ]
  },
  {
   "cell_type": "markdown",
   "id": "55dde237",
   "metadata": {},
   "source": [
    "## Program 124\n",
    "**A group of friends have decided to start a secret society. The name will be the first letter of each of their names, sorted in alphabetical order. Create a function that takes in a list of names and returns the name of the secret society.**\n",
    "\n",
    "**Examples**\n",
    "\n",
    "**society_name([\"Adam\", \"Sarah\", \"Malcolm\"]) ➞ \"AMS\"**\n",
    "\n",
    "**society_name([\"Harry\", \"Newt\", \"Luna\", \"Cho\"]) ➞ \"CHLN\"**\n",
    "\n",
    "**society_name([\"Phoebe\", \"Chandler\", \"Rachel\", \"Ross\", \"Monica\", \"Joey\"])**"
   ]
  },
  {
   "cell_type": "code",
   "execution_count": 181,
   "id": "5c96fbdc",
   "metadata": {},
   "outputs": [],
   "source": [
    "def society_name(names):\n",
    "    # Extract the first letter of each name, sort them, and join into a single string\n",
    "    secret_name = ''.join(sorted([name[0] for name in names]))\n",
    "    return secret_name"
   ]
  },
  {
   "cell_type": "code",
   "execution_count": 182,
   "id": "f210d45f",
   "metadata": {},
   "outputs": [
    {
     "data": {
      "text/plain": [
       "'AMS'"
      ]
     },
     "execution_count": 182,
     "metadata": {},
     "output_type": "execute_result"
    }
   ],
   "source": [
    "society_name([\"Adam\", \"Sarah\", \"Malcolm\"])"
   ]
  },
  {
   "cell_type": "code",
   "execution_count": 183,
   "id": "ab4e4dd8",
   "metadata": {},
   "outputs": [
    {
     "data": {
      "text/plain": [
       "'CHLN'"
      ]
     },
     "execution_count": 183,
     "metadata": {},
     "output_type": "execute_result"
    }
   ],
   "source": [
    "society_name([\"Harry\", \"Newt\", \"Luna\", \"Cho\"])"
   ]
  },
  {
   "cell_type": "code",
   "execution_count": 184,
   "id": "cdcaa38b",
   "metadata": {},
   "outputs": [
    {
     "data": {
      "text/plain": [
       "'CJMPRR'"
      ]
     },
     "execution_count": 184,
     "metadata": {},
     "output_type": "execute_result"
    }
   ],
   "source": [
    "society_name([\"Phoebe\", \"Chandler\", \"Rachel\", \"Ross\", \"Monica\", \"Joey\"])"
   ]
  },
  {
   "cell_type": "markdown",
   "id": "50edf035",
   "metadata": {},
   "source": [
    "## Program 125\n",
    "**An isogram is a word that has no duplicate letters. Create a function that takes a string and returns either True or False depending on whether or not it's an \"isogram\".**\n",
    "\n",
    "**Examples**\n",
    "\n",
    "**is_isogram(\"Algorism\") ➞ True**\n",
    "\n",
    "**is_isogram(\"PasSword\") ➞ False**\n",
    "\n",
    "**- Not case sensitive.**\n",
    "\n",
    "**is_isogram(\"Consecutive\") ➞ False**\n",
    "\n",
    "**Notes**\n",
    "\n",
    "**Ignore letter case (should not be case sensitive).**\n",
    "\n",
    "**All test cases contain valid one word strings.**"
   ]
  },
  {
   "cell_type": "code",
   "execution_count": 185,
   "id": "af33d39c",
   "metadata": {},
   "outputs": [],
   "source": [
    "def is_isogram(word):\n",
    "   \n",
    "    word = word.lower()\n",
    "    \n",
    "    # Create a set to store unique letters in the word\n",
    "    unique_letters = set()\n",
    "    \n",
    "\n",
    "    for letter in word:\n",
    "        # If the letter is already in the set, it's not an isogram\n",
    "        if letter in unique_letters:\n",
    "            return False\n",
    "        # Otherwise, add it to the set\n",
    "        unique_letters.add(letter)\n",
    "    \n",
    "    return True"
   ]
  },
  {
   "cell_type": "code",
   "execution_count": 186,
   "id": "eda332e5",
   "metadata": {},
   "outputs": [
    {
     "data": {
      "text/plain": [
       "True"
      ]
     },
     "execution_count": 186,
     "metadata": {},
     "output_type": "execute_result"
    }
   ],
   "source": [
    "is_isogram(\"Algorism\")"
   ]
  },
  {
   "cell_type": "code",
   "execution_count": 187,
   "id": "2b1cf4c5",
   "metadata": {},
   "outputs": [
    {
     "data": {
      "text/plain": [
       "False"
      ]
     },
     "execution_count": 187,
     "metadata": {},
     "output_type": "execute_result"
    }
   ],
   "source": [
    "is_isogram(\"PasSword\") "
   ]
  },
  {
   "cell_type": "code",
   "execution_count": 188,
   "id": "a0a6f5be",
   "metadata": {},
   "outputs": [
    {
     "data": {
      "text/plain": [
       "False"
      ]
     },
     "execution_count": 188,
     "metadata": {},
     "output_type": "execute_result"
    }
   ],
   "source": [
    "is_isogram(\"Consecutive\")"
   ]
  },
  {
   "cell_type": "markdown",
   "id": "412f7425",
   "metadata": {},
   "source": [
    "## Program 126\n",
    "**Create a function that takes a string and returns True or False, depending on whether the characters are in order or not.**\n",
    "\n",
    "**Examples**\n",
    "\n",
    "**is_in_order(\"abc\") ➞ True**\n",
    "\n",
    "**is_in_order(\"edabit\") ➞ False**\n",
    "\n",
    "**is_in_order(\"123\") ➞ True**\n",
    "\n",
    "**is_in_order(\"xyzz\") ➞ True**\n",
    "\n",
    "**Notes**\n",
    "\n",
    "**You don't have to handle empty strings.**"
   ]
  },
  {
   "cell_type": "code",
   "execution_count": 189,
   "id": "eb261ccb",
   "metadata": {},
   "outputs": [],
   "source": [
    "def is_in_order(s):\n",
    "    \n",
    "    return s == ''.join(sorted(s))"
   ]
  },
  {
   "cell_type": "code",
   "execution_count": 190,
   "id": "064c8b67",
   "metadata": {},
   "outputs": [
    {
     "data": {
      "text/plain": [
       "True"
      ]
     },
     "execution_count": 190,
     "metadata": {},
     "output_type": "execute_result"
    }
   ],
   "source": [
    "is_in_order(\"abc\") "
   ]
  },
  {
   "cell_type": "code",
   "execution_count": 191,
   "id": "a39d4c2d",
   "metadata": {},
   "outputs": [
    {
     "data": {
      "text/plain": [
       "False"
      ]
     },
     "execution_count": 191,
     "metadata": {},
     "output_type": "execute_result"
    }
   ],
   "source": [
    "is_in_order(\"edabit\") "
   ]
  },
  {
   "cell_type": "code",
   "execution_count": 192,
   "id": "f8316a32",
   "metadata": {},
   "outputs": [
    {
     "data": {
      "text/plain": [
       "True"
      ]
     },
     "execution_count": 192,
     "metadata": {},
     "output_type": "execute_result"
    }
   ],
   "source": [
    "is_in_order(\"123\")"
   ]
  },
  {
   "cell_type": "code",
   "execution_count": 193,
   "id": "8be9ebe9",
   "metadata": {},
   "outputs": [
    {
     "data": {
      "text/plain": [
       "True"
      ]
     },
     "execution_count": 193,
     "metadata": {},
     "output_type": "execute_result"
    }
   ],
   "source": [
    "is_in_order(\"xyzz\")"
   ]
  },
  {
   "cell_type": "markdown",
   "id": "cb9902b6",
   "metadata": {},
   "source": [
    "## Program 127\n",
    "**Create a function that takes a number as an argument and returns True or False depending on whether the number is symmetrical or not. A number is symmetrical when it is the same as its reverse.**\n",
    "\n",
    "**Examples**\n",
    "\n",
    "**is_symmetrical(7227) ➞ True**\n",
    "\n",
    "**is_symmetrical(12567) ➞ False**\n",
    "\n",
    "**is_symmetrical(44444444) ➞ True**\n",
    "\n",
    "**is_symmetrical(9939) ➞ False**\n",
    "\n",
    "**is_symmetrical(1112111) ➞ True**"
   ]
  },
  {
   "cell_type": "code",
   "execution_count": 194,
   "id": "6d7cb9a2",
   "metadata": {},
   "outputs": [],
   "source": [
    "def is_symmetrical(num):\n",
    "    # Convert the number to a string\n",
    "    num_str = str(num)\n",
    "    \n",
    "    # Check if the string is equal to its reverse\n",
    "    return num_str == num_str[::-1]"
   ]
  },
  {
   "cell_type": "code",
   "execution_count": 195,
   "id": "783c6650",
   "metadata": {},
   "outputs": [
    {
     "data": {
      "text/plain": [
       "True"
      ]
     },
     "execution_count": 195,
     "metadata": {},
     "output_type": "execute_result"
    }
   ],
   "source": [
    "is_symmetrical(7227)"
   ]
  },
  {
   "cell_type": "code",
   "execution_count": 196,
   "id": "34c79751",
   "metadata": {},
   "outputs": [
    {
     "data": {
      "text/plain": [
       "False"
      ]
     },
     "execution_count": 196,
     "metadata": {},
     "output_type": "execute_result"
    }
   ],
   "source": [
    "is_symmetrical(12567) "
   ]
  },
  {
   "cell_type": "code",
   "execution_count": 197,
   "id": "27fa2cc5",
   "metadata": {},
   "outputs": [
    {
     "data": {
      "text/plain": [
       "True"
      ]
     },
     "execution_count": 197,
     "metadata": {},
     "output_type": "execute_result"
    }
   ],
   "source": [
    "is_symmetrical(44444444)"
   ]
  },
  {
   "cell_type": "code",
   "execution_count": 199,
   "id": "70becefd",
   "metadata": {},
   "outputs": [
    {
     "data": {
      "text/plain": [
       "True"
      ]
     },
     "execution_count": 199,
     "metadata": {},
     "output_type": "execute_result"
    }
   ],
   "source": [
    "is_symmetrical(44444444) "
   ]
  },
  {
   "cell_type": "code",
   "execution_count": 200,
   "id": "c9ba3934",
   "metadata": {},
   "outputs": [
    {
     "data": {
      "text/plain": [
       "True"
      ]
     },
     "execution_count": 200,
     "metadata": {},
     "output_type": "execute_result"
    }
   ],
   "source": [
    "is_symmetrical(1112111)"
   ]
  },
  {
   "cell_type": "markdown",
   "id": "d71697c3",
   "metadata": {},
   "source": [
    "## Program 128\n",
    "**Given a string of numbers separated by a comma and space, return the product of the numbers.**\n",
    "\n",
    "**Examples**\n",
    "\n",
    "**multiply_nums(\"2, 3\") ➞ 6**\n",
    "\n",
    "**multiply_nums(\"1, 2, 3, 4\") ➞ 24**\n",
    "\n",
    "**multiply_nums(\"54, 75, 453, 0\") ➞ 0**\n",
    "\n",
    "**multiply_nums(\"10, -2\") ➞ -20**"
   ]
  },
  {
   "cell_type": "code",
   "execution_count": 201,
   "id": "290c0684",
   "metadata": {},
   "outputs": [],
   "source": [
    "def multiply_nums(nums_str):\n",
    "    # Split the input string by comma and space, then convert to integers\n",
    "    nums = [int(num) for num in nums_str.split(\", \")]\n",
    "    \n",
    "    # Initialize the result with 1\n",
    "    result = 1\n",
    "    \n",
    "    # Multiply all the numbers together\n",
    "    for num in nums:\n",
    "        result *= num\n",
    "    \n",
    "    return result"
   ]
  },
  {
   "cell_type": "code",
   "execution_count": 202,
   "id": "4b814cbe",
   "metadata": {},
   "outputs": [
    {
     "data": {
      "text/plain": [
       "6"
      ]
     },
     "execution_count": 202,
     "metadata": {},
     "output_type": "execute_result"
    }
   ],
   "source": [
    "multiply_nums(\"2, 3\") "
   ]
  },
  {
   "cell_type": "code",
   "execution_count": 203,
   "id": "780843f7",
   "metadata": {},
   "outputs": [
    {
     "data": {
      "text/plain": [
       "24"
      ]
     },
     "execution_count": 203,
     "metadata": {},
     "output_type": "execute_result"
    }
   ],
   "source": [
    "multiply_nums(\"1, 2, 3, 4\")"
   ]
  },
  {
   "cell_type": "code",
   "execution_count": 204,
   "id": "77f29503",
   "metadata": {},
   "outputs": [
    {
     "data": {
      "text/plain": [
       "0"
      ]
     },
     "execution_count": 204,
     "metadata": {},
     "output_type": "execute_result"
    }
   ],
   "source": [
    "multiply_nums(\"54, 75, 453, 0\") "
   ]
  },
  {
   "cell_type": "code",
   "execution_count": 205,
   "id": "15eb4fc4",
   "metadata": {},
   "outputs": [
    {
     "data": {
      "text/plain": [
       "-20"
      ]
     },
     "execution_count": 205,
     "metadata": {},
     "output_type": "execute_result"
    }
   ],
   "source": [
    "multiply_nums(\"10, -2\")"
   ]
  },
  {
   "cell_type": "markdown",
   "id": "0e2e5027",
   "metadata": {},
   "source": [
    "## Program 129\n",
    "**Create a function that squares every digit of a number.**\n",
    "\n",
    "**Examples**\n",
    "\n",
    "**square_digits(9119) ➞ 811181**\n",
    "\n",
    "**square_digits(2483) ➞ 416649**\n",
    "\n",
    "**square_digits(3212) ➞ 9414**\n",
    "\n",
    "**Notes**\n",
    "\n",
    "**The function receives an integer and must return an integer.**"
   ]
  },
  {
   "cell_type": "code",
   "execution_count": 206,
   "id": "43d78fb3",
   "metadata": {},
   "outputs": [],
   "source": [
    "def square_digits(n):\n",
    "    # Convert the number to a string to iterate through its digits\n",
    "    num_str = str(n)\n",
    "    \n",
    "    # Initialize an empty string to store the squared digits\n",
    "    result_str = \"\"\n",
    "    \n",
    "    # Iterate through the digits\n",
    "    for digit in num_str:\n",
    "        # Square the digit and convert it back to an integer\n",
    "        squared_digit = int(digit) ** 2\n",
    "        \n",
    "        # Append the squared digit to the result string\n",
    "        result_str += str(squared_digit)\n",
    "    \n",
    "   \n",
    "    return int(result_str)"
   ]
  },
  {
   "cell_type": "code",
   "execution_count": 207,
   "id": "36a658c0",
   "metadata": {},
   "outputs": [
    {
     "data": {
      "text/plain": [
       "811181"
      ]
     },
     "execution_count": 207,
     "metadata": {},
     "output_type": "execute_result"
    }
   ],
   "source": [
    "square_digits(9119) "
   ]
  },
  {
   "cell_type": "code",
   "execution_count": 208,
   "id": "5a529ffa",
   "metadata": {},
   "outputs": [
    {
     "data": {
      "text/plain": [
       "416649"
      ]
     },
     "execution_count": 208,
     "metadata": {},
     "output_type": "execute_result"
    }
   ],
   "source": [
    "square_digits(2483)"
   ]
  },
  {
   "cell_type": "code",
   "execution_count": 209,
   "id": "718a0620",
   "metadata": {},
   "outputs": [
    {
     "data": {
      "text/plain": [
       "9414"
      ]
     },
     "execution_count": 209,
     "metadata": {},
     "output_type": "execute_result"
    }
   ],
   "source": [
    "square_digits(3212) "
   ]
  },
  {
   "cell_type": "markdown",
   "id": "d0eddf41",
   "metadata": {},
   "source": [
    "## Program 130\n",
    "**Create a function that sorts a list and removes all duplicate items from it.**\n",
    "\n",
    "**Examples**\n",
    "\n",
    "**setify([1, 3, 3, 5, 5]) ➞ [1, 3, 5]**\n",
    "\n",
    "**setify([4, 4, 4, 4]) ➞ [4]**\n",
    "\n",
    "**setify([5, 7, 8, 9, 10, 15]) ➞ [5, 7, 8, 9, 10, 15]**\n",
    "\n",
    "**setify([3, 3, 3, 2, 1]) ➞ [1, 2, 3]**"
   ]
  },
  {
   "cell_type": "code",
   "execution_count": 210,
   "id": "e7f4de3b",
   "metadata": {},
   "outputs": [],
   "source": [
    "def setify(lst):\n",
    "\n",
    "    unique_set = set(sorted(lst))\n",
    "    \n",
    "    # Convert the set back to a list and return it\n",
    "    return list(unique_set)"
   ]
  },
  {
   "cell_type": "code",
   "execution_count": 211,
   "id": "c80eabf2",
   "metadata": {},
   "outputs": [
    {
     "data": {
      "text/plain": [
       "[1, 3, 5]"
      ]
     },
     "execution_count": 211,
     "metadata": {},
     "output_type": "execute_result"
    }
   ],
   "source": [
    "setify([1, 3, 3, 5, 5]) "
   ]
  },
  {
   "cell_type": "code",
   "execution_count": 212,
   "id": "105a120c",
   "metadata": {},
   "outputs": [
    {
     "data": {
      "text/plain": [
       "[4]"
      ]
     },
     "execution_count": 212,
     "metadata": {},
     "output_type": "execute_result"
    }
   ],
   "source": [
    "setify([4, 4, 4, 4]) "
   ]
  },
  {
   "cell_type": "code",
   "execution_count": 213,
   "id": "4906e1fa",
   "metadata": {},
   "outputs": [
    {
     "data": {
      "text/plain": [
       "[5, 7, 8, 9, 10, 15]"
      ]
     },
     "execution_count": 213,
     "metadata": {},
     "output_type": "execute_result"
    }
   ],
   "source": [
    "setify([5, 7, 8, 9, 10, 15])"
   ]
  },
  {
   "cell_type": "code",
   "execution_count": 214,
   "id": "b52fc2a9",
   "metadata": {},
   "outputs": [
    {
     "data": {
      "text/plain": [
       "[1, 2, 3]"
      ]
     },
     "execution_count": 214,
     "metadata": {},
     "output_type": "execute_result"
    }
   ],
   "source": [
    "setify([3, 3, 3, 2, 1])"
   ]
  },
  {
   "cell_type": "markdown",
   "id": "4ae92ce1",
   "metadata": {},
   "source": [
    "## Program 131\n",
    "\n",
    "**Create a function that returns the mean of all digits.**\n",
    "\n",
    "**Examples**\n",
    "\n",
    "**mean(42) ➞ 3**\n",
    "\n",
    "**mean(12345) ➞ 3**\n",
    "\n",
    "**mean(666) ➞ 6**\n",
    "\n",
    "**Notes**\n",
    "\n",
    "- **The mean of all digits is the sum of digits / how many digits there are (e.g. mean of digits in 512 is (5+1+2)/3(number of digits) = 8/3=2).**\n",
    "- **The mean will always be an integer.**"
   ]
  },
  {
   "cell_type": "code",
   "execution_count": 215,
   "id": "1be44d6c",
   "metadata": {},
   "outputs": [],
   "source": [
    "def mean(n):\n",
    "    # Convert the number to a string to iterate through its digits\n",
    "    n_str = str(n)\n",
    "    \n",
    "    # Calculate the sum of digits\n",
    "    digit_sum = sum(int(digit) for digit in n_str)\n",
    "    \n",
    "    # Calculate the mean by dividing the sum by the number of digits\n",
    "    digit_count = len(n_str)\n",
    "    digit_mean = digit_sum / digit_count\n",
    "    \n",
    "    return int(digit_mean) "
   ]
  },
  {
   "cell_type": "code",
   "execution_count": 216,
   "id": "2241c727",
   "metadata": {},
   "outputs": [
    {
     "data": {
      "text/plain": [
       "3"
      ]
     },
     "execution_count": 216,
     "metadata": {},
     "output_type": "execute_result"
    }
   ],
   "source": [
    "mean(42) "
   ]
  },
  {
   "cell_type": "code",
   "execution_count": 217,
   "id": "4b21af18",
   "metadata": {},
   "outputs": [
    {
     "data": {
      "text/plain": [
       "3"
      ]
     },
     "execution_count": 217,
     "metadata": {},
     "output_type": "execute_result"
    }
   ],
   "source": [
    "mean(12345)"
   ]
  },
  {
   "cell_type": "code",
   "execution_count": 218,
   "id": "586249d2",
   "metadata": {},
   "outputs": [
    {
     "data": {
      "text/plain": [
       "6"
      ]
     },
     "execution_count": 218,
     "metadata": {},
     "output_type": "execute_result"
    }
   ],
   "source": [
    "mean(666)"
   ]
  },
  {
   "cell_type": "markdown",
   "id": "c39fa7de",
   "metadata": {},
   "source": [
    "## Program 132\n",
    "**Create a function that takes an integer and returns a list from 1 to the given number, where:**\n",
    "    \n",
    "1. **If the number can be divided evenly by 4, amplify it by 10 (i.e. return 10 times the number).**\n",
    "\n",
    "2. **If the number cannot be divided evenly by 4, simply return the number.**\n",
    "\n",
    "**Examples**\n",
    "\n",
    "**amplify(4) ➞ [1, 2, 3, 40]**\n",
    "\n",
    "**amplify(3) ➞ [1, 2, 3]**\n",
    "\n",
    "**amplify(25) ➞ [1, 2, 3, 40, 5, 6, 7, 80, 9, 10, 11, 120, 13, 14, 15, 160, 17, 18, 19, 200, 21, 22, 23, 240, 25]**\n",
    "\n",
    "**Notes**\n",
    "\n",
    "- **The given integer will always be equal to or greater than 1.**\n",
    "\n",
    "- **Include the number (see example above).**\n",
    "\n",
    "- **To perform this problem with its intended purpose, try doing it with list comprehensions. If that's too difficult, just solve the challenge any way you can.**"
   ]
  },
  {
   "cell_type": "code",
   "execution_count": 219,
   "id": "80acce69",
   "metadata": {},
   "outputs": [],
   "source": [
    "def amplify(num):\n",
    "    # Use a list comprehension to generate the list\n",
    "    return [n * 10 if n % 4 == 0 else n for n in range(1, num + 1)]"
   ]
  },
  {
   "cell_type": "code",
   "execution_count": 220,
   "id": "1c920f58",
   "metadata": {},
   "outputs": [
    {
     "data": {
      "text/plain": [
       "[1, 2, 3, 40]"
      ]
     },
     "execution_count": 220,
     "metadata": {},
     "output_type": "execute_result"
    }
   ],
   "source": [
    "amplify(4)"
   ]
  },
  {
   "cell_type": "code",
   "execution_count": 221,
   "id": "69660d14",
   "metadata": {},
   "outputs": [
    {
     "data": {
      "text/plain": [
       "[1, 2, 3]"
      ]
     },
     "execution_count": 221,
     "metadata": {},
     "output_type": "execute_result"
    }
   ],
   "source": [
    "amplify(3)"
   ]
  },
  {
   "cell_type": "code",
   "execution_count": 222,
   "id": "38e5ed65",
   "metadata": {},
   "outputs": [
    {
     "data": {
      "text/plain": [
       "[1,\n",
       " 2,\n",
       " 3,\n",
       " 40,\n",
       " 5,\n",
       " 6,\n",
       " 7,\n",
       " 80,\n",
       " 9,\n",
       " 10,\n",
       " 11,\n",
       " 120,\n",
       " 13,\n",
       " 14,\n",
       " 15,\n",
       " 160,\n",
       " 17,\n",
       " 18,\n",
       " 19,\n",
       " 200,\n",
       " 21,\n",
       " 22,\n",
       " 23,\n",
       " 240,\n",
       " 25]"
      ]
     },
     "execution_count": 222,
     "metadata": {},
     "output_type": "execute_result"
    }
   ],
   "source": [
    "amplify(25)"
   ]
  },
  {
   "cell_type": "markdown",
   "id": "72d2ac2c",
   "metadata": {},
   "source": [
    "## Program 133\n",
    "**Create a function that takes a list of numbers and return the number that's unique.**\n",
    "\n",
    "**Examples**\n",
    "\n",
    "**unique([3, 3, 3, 7, 3, 3]) ➞ 7**\n",
    "\n",
    "**unique([0, 0, 0.77, 0, 0]) ➞ 0.77**\n",
    "\n",
    "**unique([0, 1, 1, 1, 1, 1, 1, 1]) ➞ 0**\n",
    "\n",
    "**Notes**\n",
    "\n",
    "**Test cases will always have exactly one unique number while all others are the same.**"
   ]
  },
  {
   "cell_type": "code",
   "execution_count": 223,
   "id": "efd23d74",
   "metadata": {},
   "outputs": [],
   "source": [
    "def unique(numbers):\n",
    "    # Use a dictionary to count occurrences of each number\n",
    "    count_dict = {}\n",
    "    \n",
    "    # Count occurrences of each number in the list\n",
    "    for num in numbers:\n",
    "        if num in count_dict:\n",
    "            count_dict[num] += 1\n",
    "        else:\n",
    "            count_dict[num] = 1\n",
    "    \n",
    "    # Find the unique number (occurs only once)\n",
    "    for num, count in count_dict.items():\n",
    "        if count == 1:\n",
    "            return num"
   ]
  },
  {
   "cell_type": "code",
   "execution_count": 224,
   "id": "402fdaea",
   "metadata": {},
   "outputs": [
    {
     "data": {
      "text/plain": [
       "7"
      ]
     },
     "execution_count": 224,
     "metadata": {},
     "output_type": "execute_result"
    }
   ],
   "source": [
    "unique([3, 3, 3, 7, 3, 3])"
   ]
  },
  {
   "cell_type": "code",
   "execution_count": 225,
   "id": "adbb0d35",
   "metadata": {},
   "outputs": [
    {
     "data": {
      "text/plain": [
       "0.77"
      ]
     },
     "execution_count": 225,
     "metadata": {},
     "output_type": "execute_result"
    }
   ],
   "source": [
    "unique([0, 0, 0.77, 0, 0]) "
   ]
  },
  {
   "cell_type": "code",
   "execution_count": 226,
   "id": "56690687",
   "metadata": {},
   "outputs": [
    {
     "data": {
      "text/plain": [
       "0"
      ]
     },
     "execution_count": 226,
     "metadata": {},
     "output_type": "execute_result"
    }
   ],
   "source": [
    "unique([0, 1, 1, 1, 1, 1, 1, 1])"
   ]
  },
  {
   "cell_type": "markdown",
   "id": "d2f5029a",
   "metadata": {},
   "source": [
    "## Program 134\n",
    "**Your task is to create a Circle constructor that creates a circle with a radius provided by an argument. The circles constructed must have two getters getArea() (PIr^2) and getPerimeter() (2PI*r) which give both respective areas and perimeter (circumference).**\n",
    "\n",
    "**For help with this class, I have provided you with a Rectangle constructor which you can use as a base example.**\n",
    "\n",
    "**Examples**\n",
    "\n",
    "**circy = Circle(11)**\n",
    "\n",
    "**circy.getArea()**\n",
    "\n",
    "- **Should return 380.132711084365**\n",
    "\n",
    "**circy = Circle(4.44)**\n",
    "\n",
    "**circy.getPerimeter()**\n",
    "\n",
    "- **Should return 27.897342763877365**\n",
    "\n",
    "**Notes**\n",
    "\n",
    "**Round results up to the nearest integer.**"
   ]
  },
  {
   "cell_type": "code",
   "execution_count": 227,
   "id": "8cc6a720",
   "metadata": {},
   "outputs": [],
   "source": [
    "import math\n",
    "\n",
    "class Circle:\n",
    "    def __init__(self, radius):\n",
    "        self.radius = radius\n",
    "    \n",
    "    def getArea(self):\n",
    "        # Calculate and return the area of the circle\n",
    "        return round(math.pi * self.radius**2)\n",
    "    \n",
    "    def getPerimeter(self):\n",
    "        # Calculate and return the perimeter (circumference) of the circle\n",
    "        return round(2 * math.pi * self.radius)"
   ]
  },
  {
   "cell_type": "code",
   "execution_count": 228,
   "id": "b79fa0b8",
   "metadata": {},
   "outputs": [
    {
     "name": "stdout",
     "output_type": "stream",
     "text": [
      "380\n",
      "69\n"
     ]
    }
   ],
   "source": [
    "# Test cases\n",
    "circy = Circle(11)\n",
    "print(circy.getArea())       \n",
    "print(circy.getPerimeter())"
   ]
  },
  {
   "cell_type": "code",
   "execution_count": 229,
   "id": "078167c6",
   "metadata": {},
   "outputs": [
    {
     "name": "stdout",
     "output_type": "stream",
     "text": [
      "62\n",
      "28\n"
     ]
    }
   ],
   "source": [
    "circy = Circle(4.44)\n",
    "print(circy.getArea())       \n",
    "print(circy.getPerimeter())"
   ]
  },
  {
   "cell_type": "markdown",
   "id": "065f66e3",
   "metadata": {},
   "source": [
    "## Program 135\n",
    "\n",
    "**Create a function that takes a list of strings and return a list, sorted from shortest to longest.**\n",
    "\n",
    "**Examples**\n",
    "\n",
    "**sort_by_length([\"Google\", \"Apple\", \"Microsoft\"]) ➞ [\"Apple\", \"Google\", \"Microsoft\"]**\n",
    "\n",
    "**sort_by_length([\"Leonardo\", \"Michelangelo\", \"Raphael\", \"Donatello\"]) ➞ [\"Raphael\", \"Leonardo\", \"Donatello\", \"Michelangelo\"]**\n",
    "\n",
    "**sort_by_length([\"Turing\", \"Einstein\", \"Jung\"]) ➞ [\"Jung\", \"Turing\", \"Einstein\"]**\n",
    "\n",
    "**Notes**\n",
    "\n",
    "**All test cases contain lists with strings of different lengths, so you won't have to deal with multiple strings of the same length.**"
   ]
  },
  {
   "cell_type": "code",
   "execution_count": 230,
   "id": "4933c24a",
   "metadata": {},
   "outputs": [],
   "source": [
    "def sort_by_length(lst):\n",
    "  \n",
    "    return sorted(lst, key=len)     # Using sorted() function with a custom key function to sort by string length"
   ]
  },
  {
   "cell_type": "code",
   "execution_count": 231,
   "id": "d099786d",
   "metadata": {},
   "outputs": [
    {
     "data": {
      "text/plain": [
       "['Apple', 'Google', 'Microsoft']"
      ]
     },
     "execution_count": 231,
     "metadata": {},
     "output_type": "execute_result"
    }
   ],
   "source": [
    "sort_by_length([\"Google\", \"Apple\", \"Microsoft\"]) "
   ]
  },
  {
   "cell_type": "code",
   "execution_count": 232,
   "id": "771dd56b",
   "metadata": {},
   "outputs": [
    {
     "data": {
      "text/plain": [
       "['Raphael', 'Leonardo', 'Donatello', 'Michelangelo']"
      ]
     },
     "execution_count": 232,
     "metadata": {},
     "output_type": "execute_result"
    }
   ],
   "source": [
    "sort_by_length([\"Leonardo\", \"Michelangelo\", \"Raphael\", \"Donatello\"])"
   ]
  },
  {
   "cell_type": "code",
   "execution_count": 233,
   "id": "0e0fa9d2",
   "metadata": {},
   "outputs": [
    {
     "data": {
      "text/plain": [
       "['Jung', 'Turing', 'Einstein']"
      ]
     },
     "execution_count": 233,
     "metadata": {},
     "output_type": "execute_result"
    }
   ],
   "source": [
    "sort_by_length([\"Turing\", \"Einstein\", \"Jung\"])"
   ]
  },
  {
   "cell_type": "markdown",
   "id": "19523567",
   "metadata": {},
   "source": [
    "## Program 136\n",
    "**Create a function that validates whether three given integers form a Pythagorean triplet. The sum of the squares of the two smallest integers must equal the square of the largest number to be validated.**\n",
    "\n",
    "**Examples**\n",
    "\n",
    "**is_triplet(3, 4, 5) ➞ True**\n",
    "\n",
    "- **3² + 4² = 25**\n",
    "\n",
    "- **5² = 25**\n",
    "\n",
    "**is_triplet(13, 5, 12) ➞ True**\n",
    "\n",
    "- **5² + 12² = 169**\n",
    "\n",
    "- **13² = 169**\n",
    "\n",
    "**is_triplet(1, 2, 3) ➞ False**\n",
    "\n",
    "- **1² + 2² = 5**\n",
    "\n",
    "- **3² = 9**\n",
    "\n",
    "**Notes**\n",
    "\n",
    "**Numbers may not be given in a sorted order.**"
   ]
  },
  {
   "cell_type": "code",
   "execution_count": 234,
   "id": "3fa5ebd8",
   "metadata": {},
   "outputs": [],
   "source": [
    "def is_triplet(a, b, c):\n",
    "    # Sort the numbers in ascending order\n",
    "    sorted_numbers = sorted([a, b, c])\n",
    "    # Check if the sum of squares of the two smaller numbers equals the square of the largest number\n",
    "    return sorted_numbers[0] ** 2 + sorted_numbers[1] ** 2 == sorted_numbers[2] ** 2"
   ]
  },
  {
   "cell_type": "code",
   "execution_count": 235,
   "id": "dd6a1b36",
   "metadata": {},
   "outputs": [
    {
     "data": {
      "text/plain": [
       "True"
      ]
     },
     "execution_count": 235,
     "metadata": {},
     "output_type": "execute_result"
    }
   ],
   "source": [
    "is_triplet(3, 4, 5)"
   ]
  },
  {
   "cell_type": "code",
   "execution_count": 236,
   "id": "3fd8cf5f",
   "metadata": {},
   "outputs": [
    {
     "data": {
      "text/plain": [
       "True"
      ]
     },
     "execution_count": 236,
     "metadata": {},
     "output_type": "execute_result"
    }
   ],
   "source": [
    "is_triplet(13, 5, 12) "
   ]
  },
  {
   "cell_type": "code",
   "execution_count": 237,
   "id": "807c7707",
   "metadata": {},
   "outputs": [
    {
     "data": {
      "text/plain": [
       "False"
      ]
     },
     "execution_count": 237,
     "metadata": {},
     "output_type": "execute_result"
    }
   ],
   "source": [
    "is_triplet(1, 2, 3)"
   ]
  },
  {
   "cell_type": "markdown",
   "id": "509b133c",
   "metadata": {},
   "source": [
    "## Program 137\n",
    "**Create a function that takes three integer arguments (a, b, c) and returns the amount of integers which are of equal value.**\n",
    "\n",
    "**Examples**\n",
    "\n",
    "**equal(3, 4, 3) ➞ 2**\n",
    "\n",
    "**equal(1, 1, 1) ➞ 3**\n",
    "\n",
    "**equal(3, 4, 1) ➞ 0**\n",
    "\n",
    "**Notes**\n",
    "\n",
    "**Your function must return 0, 2 or 3.**"
   ]
  },
  {
   "cell_type": "code",
   "execution_count": 238,
   "id": "972264bf",
   "metadata": {},
   "outputs": [],
   "source": [
    "def equal(a, b, c):\n",
    "    if a == b == c:\n",
    "        return 3\n",
    "    elif a == b or b == c or a == c:\n",
    "        return 2\n",
    "    else:\n",
    "        return 0"
   ]
  },
  {
   "cell_type": "code",
   "execution_count": 239,
   "id": "a1e3ccd2",
   "metadata": {},
   "outputs": [
    {
     "data": {
      "text/plain": [
       "2"
      ]
     },
     "execution_count": 239,
     "metadata": {},
     "output_type": "execute_result"
    }
   ],
   "source": [
    "equal(3, 4, 3)"
   ]
  },
  {
   "cell_type": "code",
   "execution_count": 240,
   "id": "b66d9f8e",
   "metadata": {},
   "outputs": [
    {
     "data": {
      "text/plain": [
       "3"
      ]
     },
     "execution_count": 240,
     "metadata": {},
     "output_type": "execute_result"
    }
   ],
   "source": [
    "equal(1, 1, 1) "
   ]
  },
  {
   "cell_type": "code",
   "execution_count": 241,
   "id": "6efbad45",
   "metadata": {},
   "outputs": [
    {
     "data": {
      "text/plain": [
       "0"
      ]
     },
     "execution_count": 241,
     "metadata": {},
     "output_type": "execute_result"
    }
   ],
   "source": [
    "equal(3, 4, 1)"
   ]
  },
  {
   "cell_type": "markdown",
   "id": "cca01a74",
   "metadata": {},
   "source": [
    "## Program 138\n",
    "**Write a function that converts a dictionary into a list of keys-values tuples.**\n",
    "\n",
    "**Examples**\n",
    "\n",
    "**dict_to_list({**\n",
    "                \n",
    "**\"D\": 1,**\n",
    "                \n",
    "**\"B\": 2**\n",
    "                \n",
    "**\"C\": 3**\n",
    "                \n",
    "**}) ➞ [(\"B\", 2), (\"C\", 3), (\"D\", 1)]**\n",
    "\n",
    "**dict_to_list({**\n",
    "                \n",
    "**\"likes\": 2,**\n",
    "                \n",
    "**\"dislikes\": 3,**\n",
    "                \n",
    "**\"followers\": 10**\n",
    "                \n",
    "**}) ➞ [(\"dislikes\", 3), (\"followers\", 10), (\"likes\", 2)]**\n",
    "\n",
    "**Notes**\n",
    "\n",
    "**Return the elements in the list in alphabetical order.**"
   ]
  },
  {
   "cell_type": "code",
   "execution_count": 242,
   "id": "f7d8daf0",
   "metadata": {},
   "outputs": [],
   "source": [
    "def dict_to_list(input_dict):\n",
    "    # Sort the dictionary by keys in alphabetical order\n",
    "    sorted_dict = sorted(input_dict.items())\n",
    "    \n",
    "    # Convert the sorted dictionary to a list of tuples\n",
    "    result = [(key, value) for key, value in sorted_dict]\n",
    "    \n",
    "    return result"
   ]
  },
  {
   "cell_type": "code",
   "execution_count": 243,
   "id": "6a9cdfb2",
   "metadata": {},
   "outputs": [
    {
     "data": {
      "text/plain": [
       "[('B', 2), ('C', 3), ('D', 1)]"
      ]
     },
     "execution_count": 243,
     "metadata": {},
     "output_type": "execute_result"
    }
   ],
   "source": [
    "dict_to_list({\n",
    "    \"D\": 1, \n",
    "    \"B\": 2, \n",
    "    \"C\": 3\n",
    "})"
   ]
  },
  {
   "cell_type": "code",
   "execution_count": 244,
   "id": "a253bfaf",
   "metadata": {},
   "outputs": [
    {
     "data": {
      "text/plain": [
       "[('dislikes', 3), ('followers', 10), ('likes', 2)]"
      ]
     },
     "execution_count": 244,
     "metadata": {},
     "output_type": "execute_result"
    }
   ],
   "source": [
    "dict_to_list({\n",
    "\n",
    "\"likes\": 2,\n",
    "\n",
    "\"dislikes\": 3,\n",
    "\n",
    "\"followers\": 10\n",
    "\n",
    "})"
   ]
  },
  {
   "cell_type": "markdown",
   "id": "5549da6b",
   "metadata": {},
   "source": [
    "## Program 139\n",
    "**Write a function that creates a dictionary with each (key, value) pair being the (lower case, upper case) versions of a letter, respectively.**\n",
    "\n",
    "**Examples**\n",
    "\n",
    "**mapping([\"p\", \"s\"]) ➞ { \"p\": \"P\", \"s\": \"S\" }**\n",
    "\n",
    "**mapping([\"a\", \"b\", \"c\"]) ➞ { \"a\": \"A\", \"b\": \"B\", \"c\": \"C\" }**\n",
    "\n",
    "**mapping([\"a\", \"v\", \"y\", \"z\"]) ➞ { \"a\": \"A\", \"v\": \"V\", \"y\": \"Y\", \"z\": \"Z\" }**\n",
    "\n",
    "**Notes**\n",
    "\n",
    "**All of the letters in the input list will always be lowercase.**"
   ]
  },
  {
   "cell_type": "code",
   "execution_count": 245,
   "id": "ee307deb",
   "metadata": {},
   "outputs": [],
   "source": [
    "def mapping(letters):\n",
    "    result = {}\n",
    "    for letter in letters:\n",
    "        result[letter] = letter.upper()\n",
    "    return result"
   ]
  },
  {
   "cell_type": "code",
   "execution_count": 246,
   "id": "9a8d90d6",
   "metadata": {},
   "outputs": [
    {
     "data": {
      "text/plain": [
       "{'p': 'P', 's': 'S'}"
      ]
     },
     "execution_count": 246,
     "metadata": {},
     "output_type": "execute_result"
    }
   ],
   "source": [
    "mapping([\"p\", \"s\"]) "
   ]
  },
  {
   "cell_type": "code",
   "execution_count": 247,
   "id": "9604d47c",
   "metadata": {},
   "outputs": [
    {
     "data": {
      "text/plain": [
       "{'a': 'A', 'b': 'B', 'c': 'C'}"
      ]
     },
     "execution_count": 247,
     "metadata": {},
     "output_type": "execute_result"
    }
   ],
   "source": [
    "mapping([\"a\", \"b\", \"c\"]) "
   ]
  },
  {
   "cell_type": "code",
   "execution_count": 248,
   "id": "be263afb",
   "metadata": {},
   "outputs": [
    {
     "data": {
      "text/plain": [
       "{'a': 'A', 'v': 'V', 'y': 'Y', 'z': 'Z'}"
      ]
     },
     "execution_count": 248,
     "metadata": {},
     "output_type": "execute_result"
    }
   ],
   "source": [
    "mapping([\"a\", \"v\", \"y\", \"z\"]) "
   ]
  },
  {
   "cell_type": "markdown",
   "id": "364e2ef2",
   "metadata": {},
   "source": [
    "## Program 140\n",
    "**Write a function, that replaces all vowels in a string with a specified vowel.**\n",
    "\n",
    "**Examples**\n",
    "\n",
    "**vow_replace(\"apples and bananas\", \"u\") ➞ \"upplus und bununus\"**\n",
    "\n",
    "**vow_replace(\"cheese casserole\", \"o\") ➞ \"chooso cossorolo\"**\n",
    "\n",
    "**vow_replace(\"stuffed jalapeno poppers\", \"e\") ➞ \"steffed jelepene peppers\"**\n",
    "\n",
    "**Notes**\n",
    "\n",
    "**All words will be lowercase. Y is not considered a vowel.**"
   ]
  },
  {
   "cell_type": "code",
   "execution_count": 249,
   "id": "7551e377",
   "metadata": {},
   "outputs": [],
   "source": [
    "def vow_replace(string, vowel):\n",
    "    vowels = \"aeiou\"\n",
    "    result = \"\"\n",
    "    \n",
    "    for char in string:\n",
    "        if char in vowels:\n",
    "            result += vowel\n",
    "        else:\n",
    "            result += char\n",
    "    \n",
    "    return result"
   ]
  },
  {
   "cell_type": "code",
   "execution_count": 250,
   "id": "66658539",
   "metadata": {},
   "outputs": [
    {
     "data": {
      "text/plain": [
       "'upplus und bununus'"
      ]
     },
     "execution_count": 250,
     "metadata": {},
     "output_type": "execute_result"
    }
   ],
   "source": [
    "vow_replace(\"apples and bananas\", \"u\")"
   ]
  },
  {
   "cell_type": "code",
   "execution_count": 251,
   "id": "1672ef47",
   "metadata": {},
   "outputs": [
    {
     "data": {
      "text/plain": [
       "'chooso cossorolo'"
      ]
     },
     "execution_count": 251,
     "metadata": {},
     "output_type": "execute_result"
    }
   ],
   "source": [
    "vow_replace(\"cheese casserole\", \"o\")"
   ]
  },
  {
   "cell_type": "code",
   "execution_count": 252,
   "id": "1d92bf68",
   "metadata": {},
   "outputs": [
    {
     "data": {
      "text/plain": [
       "'steffed jelepene peppers'"
      ]
     },
     "execution_count": 252,
     "metadata": {},
     "output_type": "execute_result"
    }
   ],
   "source": [
    "vow_replace(\"stuffed jalapeno poppers\", \"e\") "
   ]
  },
  {
   "cell_type": "markdown",
   "id": "f27c9fbb",
   "metadata": {},
   "source": [
    "## Program 141\n",
    "**Create a function that takes a string as input and capitalizes a letter if its ASCII code is even and returns its lower case version if its ASCII code is odd.**\n",
    "\n",
    "**Examples**\n",
    "\n",
    "**ascii_capitalize(\"to be or not to be!\") ➞ \"To Be oR NoT To Be!\"**\n",
    "\n",
    "**ascii_capitalize(\"THE LITTLE MERMAID\") ➞ \"THe LiTTLe meRmaiD\"**\n",
    "\n",
    "**ascii_capitalize(\"Oh what a beautiful morning.\") ➞ \"oH wHaT a BeauTiFuL moRNiNg.\"**"
   ]
  },
  {
   "cell_type": "code",
   "execution_count": 253,
   "id": "64063b1e",
   "metadata": {},
   "outputs": [],
   "source": [
    "def ascii_capitalize(input_str):\n",
    "    result = \"\"\n",
    "    \n",
    "    for char in input_str:\n",
    "        if ord(char) % 2 == 0:\n",
    "            result += char.upper()\n",
    "        else:\n",
    "            result += char.lower()\n",
    "    \n",
    "    return result"
   ]
  },
  {
   "cell_type": "code",
   "execution_count": 254,
   "id": "ddb16260",
   "metadata": {},
   "outputs": [
    {
     "data": {
      "text/plain": [
       "'To Be oR NoT To Be!'"
      ]
     },
     "execution_count": 254,
     "metadata": {},
     "output_type": "execute_result"
    }
   ],
   "source": [
    "ascii_capitalize(\"to be or not to be!\") "
   ]
  },
  {
   "cell_type": "code",
   "execution_count": 255,
   "id": "4be608c0",
   "metadata": {},
   "outputs": [
    {
     "data": {
      "text/plain": [
       "'THe LiTTLe meRmaiD'"
      ]
     },
     "execution_count": 255,
     "metadata": {},
     "output_type": "execute_result"
    }
   ],
   "source": [
    "ascii_capitalize(\"THE LITTLE MERMAID\") "
   ]
  },
  {
   "cell_type": "code",
   "execution_count": 256,
   "id": "bf1219a3",
   "metadata": {},
   "outputs": [
    {
     "data": {
      "text/plain": [
       "'oH wHaT a BeauTiFuL moRNiNg.'"
      ]
     },
     "execution_count": 256,
     "metadata": {},
     "output_type": "execute_result"
    }
   ],
   "source": [
    "ascii_capitalize(\"Oh what a beautiful morning.\") "
   ]
  }
 ],
 "metadata": {
  "kernelspec": {
   "display_name": "Python 3 (ipykernel)",
   "language": "python",
   "name": "python3"
  },
  "language_info": {
   "codemirror_mode": {
    "name": "ipython",
    "version": 3
   },
   "file_extension": ".py",
   "mimetype": "text/x-python",
   "name": "python",
   "nbconvert_exporter": "python",
   "pygments_lexer": "ipython3",
   "version": "3.9.7"
  }
 },
 "nbformat": 4,
 "nbformat_minor": 5
}
